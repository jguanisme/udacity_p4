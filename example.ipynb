{
 "cells": [
  {
   "cell_type": "markdown",
   "metadata": {},
   "source": [
    "## Advanced Lane Finding Project\n",
    "\n",
    "The goals / steps of this project are the following:\n",
    "\n",
    "* Compute the camera calibration matrix and distortion coefficients given a set of chessboard images.\n",
    "* Apply a distortion correction to raw images.\n",
    "* Use color transforms, gradients, etc., to create a thresholded binary image.\n",
    "* Apply a perspective transform to rectify binary image (\"birds-eye view\").\n",
    "* Detect lane pixels and fit to find the lane boundary.\n",
    "* Determine the curvature of the lane and vehicle position with respect to center.\n",
    "* Warp the detected lane boundaries back onto the original image.\n",
    "* Output visual display of the lane boundaries and numerical estimation of lane curvature and vehicle position.\n",
    "\n",
    "---\n",
    "## First, I'll compute the camera calibration using chessboard images"
   ]
  },
  {
   "cell_type": "code",
   "execution_count": 1,
   "metadata": {
    "collapsed": true
   },
   "outputs": [],
   "source": [
    "def calibrate():\n",
    "    # prepare object points, like (0,0,0), (1,0,0), (2,0,0) ....,(6,5,0)\n",
    "    objp = np.zeros((6*9,3), np.float32)\n",
    "    objp[:,:2] = np.mgrid[0:9,0:6].T.reshape(-1,2)    \n",
    "    \n",
    "    # Make a list of calibration images\n",
    "    images = glob.glob('../camera_cal/calibration*.jpg')\n",
    "    \n",
    "    # Arrays to store object points and image points from all the images.\n",
    "    objpoints = [] # 3d points in real world space\n",
    "    imgpoints = [] # 2d points in image plane.\n",
    "    \n",
    "    # Step through the list and search for chessboard corners\n",
    "    i = 0\n",
    "    for fname in images:\n",
    "        img = cv2.imread(fname)\n",
    "        gray = cv2.cvtColor(img,cv2.COLOR_BGR2GRAY)\n",
    "    \n",
    "        # Find the chessboard corners\n",
    "        ret, corners = cv2.findChessboardCorners(gray, (9,6),None)\n",
    "    \n",
    "        # If found, add object points, image points\n",
    "        if ret == True:\n",
    "            objpoints.append(objp)\n",
    "            imgpoints.append(corners)\n",
    "    \n",
    "            # Draw and display the corners\n",
    "            cv2.drawChessboardCorners(img, (9,6), corners, ret)        \n",
    "            cv2.imwrite(\"../output_images/carlibration%d.jpg\" %(i), img)\n",
    "        i = i+1\n",
    "        \n",
    "    ret, mtx, dist, rvecs, tvecs = cv2.calibrateCamera(objpoints, imgpoints, gray.shape[::-1], None, None)\n",
    "    \n",
    "    return mtx,dist,rvecs,tvecs\n",
    "    \n",
    "\n",
    "def undistort(img,mtx,dist):        \n",
    "    h,  w = img.shape[:2]\n",
    "    newcameramtx, roi=cv2.getOptimalNewCameraMatrix(mtx,dist,(w,h),1,(w,h))\n",
    "    dst = cv2.undistort(img, mtx, dist, None, newcameramtx)\n",
    "    x,y,w,h = roi\n",
    "    dst = dst[y:y+h, x:x+w]\n",
    "    return dst\n",
    "            \n",
    "            \n",
    "def colorGradient(img):\n",
    "    # Convert to HLS color space and separate the S channel\n",
    "    # Note: img is the undistorted image\n",
    "    hls = cv2.cvtColor(img, cv2.COLOR_RGB2HLS)\n",
    "    s_channel = hls[:,:,2]\n",
    "    \n",
    "    # Grayscale image\n",
    "    # NOTE: we already saw that standard grayscaling lost color information for the lane lines\n",
    "    # Explore gradients in other colors spaces / color channels to see what might work better\n",
    "    gray = cv2.cvtColor(img, cv2.COLOR_RGB2GRAY)\n",
    "    \n",
    "    # Sobel x\n",
    "    sobelx = cv2.Sobel(gray, cv2.CV_64F, 1, 0) # Take the derivative in x\n",
    "    abs_sobelx = np.absolute(sobelx) # Absolute x derivative to accentuate lines away from horizontal\n",
    "    scaled_sobel = np.uint8(255*abs_sobelx/np.max(abs_sobelx))\n",
    "    \n",
    "    # Threshold x gradient\n",
    "    thresh_min = 20\n",
    "    thresh_max = 100\n",
    "    sxbinary = np.zeros_like(scaled_sobel)\n",
    "    sxbinary[(scaled_sobel >= thresh_min) & (scaled_sobel <= thresh_max)] = 1\n",
    "    \n",
    "    # Threshold color channel\n",
    "    s_thresh_min = 170\n",
    "    s_thresh_max = 255\n",
    "    s_binary = np.zeros_like(s_channel)\n",
    "    s_binary[(s_channel >= s_thresh_min) & (s_channel <= s_thresh_max)] = 1\n",
    "    \n",
    "    # Stack each channel to view their individual contributions in green and blue respectively\n",
    "    # This returns a stack of the two binary images, whose components you can see as different colors\n",
    "    #color_binary = \n",
    "    np.dstack(( np.zeros_like(sxbinary), sxbinary, s_binary))\n",
    "    \n",
    "    # Combine the two binary thresholds\n",
    "    combined_binary = np.zeros_like(sxbinary)\n",
    "    combined_binary[(s_binary == 1) | (sxbinary == 1)] = 1\n",
    "        \n",
    "    return combined_binary\n",
    "    \n",
    "    \n",
    "def perspectiveTransformWarper(img, src, dst):\n",
    "\n",
    "    # Compute and apply perpective transform\n",
    "    img_size = (img.shape[1], img.shape[0])\n",
    "    M = cv2.getPerspectiveTransform(src, dst)\n",
    "    warped = cv2.warpPerspective(img, M, img_size, flags=cv2.INTER_NEAREST)  # keep same size as input image\n",
    "\n",
    "    return warped,M\n",
    "    \n",
    "    \n",
    "def findLine(binary_warped,undist):\n",
    "    # Assuming you have created a warped binary image called \"binary_warped\"\n",
    "    # Take a histogram of the bottom half of the image\n",
    "    histogram = np.sum(binary_warped[binary_warped.shape[0]/2:,:], axis=0)\n",
    "    # Create an output image to draw on and  visualize the result\n",
    "    #out_img = np.dstack((binary_warped, binary_warped, binary_warped))*255\n",
    "    # Find the peak of the left and right halves of the histogram\n",
    "    # These will be the starting point for the left and right lines\n",
    "    midpoint = np.int(histogram.shape[0]/2)\n",
    "    leftx_base = np.argmax(histogram[:midpoint])\n",
    "    rightx_base = np.argmax(histogram[midpoint:]) + midpoint\n",
    "    \n",
    "    # Choose the number of sliding windows\n",
    "    nwindows = 9\n",
    "    # Set height of windows\n",
    "    window_height = np.int(binary_warped.shape[0]/nwindows)\n",
    "    # Identify the x and y positions of all nonzero pixels in the image\n",
    "    nonzero = binary_warped.nonzero()\n",
    "    nonzeroy = np.array(nonzero[0])\n",
    "    nonzerox = np.array(nonzero[1])\n",
    "    # Current positions to be updated for each window\n",
    "    leftx_current = leftx_base\n",
    "    rightx_current = rightx_base\n",
    "    # Set the width of the windows +/- margin\n",
    "    margin = 100\n",
    "    # Set minimum number of pixels found to recenter window\n",
    "    minpix = 50\n",
    "    # Create empty lists to receive left and right lane pixel indices\n",
    "    left_lane_inds = []\n",
    "    right_lane_inds = []\n",
    "    \n",
    "    # Step through the windows one by one\n",
    "    for window in range(nwindows):\n",
    "        # Identify window boundaries in x and y (and right and left)\n",
    "        win_y_low = binary_warped.shape[0] - (window+1)*window_height\n",
    "        win_y_high = binary_warped.shape[0] - window*window_height\n",
    "        win_xleft_low = leftx_current - margin\n",
    "        win_xleft_high = leftx_current + margin\n",
    "        win_xright_low = rightx_current - margin\n",
    "        win_xright_high = rightx_current + margin\n",
    "        # Draw the windows on the visualization image\n",
    "        #cv2.rectangle(out_img,(win_xleft_low,win_y_low),(win_xleft_high,win_y_high),(0,255,0), 2) \n",
    "        #cv2.rectangle(out_img,(win_xright_low,win_y_low),(win_xright_high,win_y_high),(0,255,0), 2) \n",
    "        # Identify the nonzero pixels in x and y within the window\n",
    "        good_left_inds = ((nonzeroy >= win_y_low) & (nonzeroy < win_y_high) & (nonzerox >= win_xleft_low) & (nonzerox < win_xleft_high)).nonzero()[0]\n",
    "        good_right_inds = ((nonzeroy >= win_y_low) & (nonzeroy < win_y_high) & (nonzerox >= win_xright_low) & (nonzerox < win_xright_high)).nonzero()[0]\n",
    "        # Append these indices to the lists\n",
    "        left_lane_inds.append(good_left_inds)\n",
    "        right_lane_inds.append(good_right_inds)\n",
    "        # If you found > minpix pixels, recenter next window on their mean position\n",
    "        if len(good_left_inds) > minpix:\n",
    "            leftx_current = np.int(np.mean(nonzerox[good_left_inds]))\n",
    "        if len(good_right_inds) > minpix:        \n",
    "            rightx_current = np.int(np.mean(nonzerox[good_right_inds]))\n",
    "    \n",
    "    # Concatenate the arrays of indices\n",
    "    left_lane_inds = np.concatenate(left_lane_inds)\n",
    "    right_lane_inds = np.concatenate(right_lane_inds)\n",
    "    # Extract left and right line pixel positions\n",
    "    leftx = nonzerox[left_lane_inds]\n",
    "    lefty = nonzeroy[left_lane_inds] \n",
    "    rightx = nonzerox[right_lane_inds]\n",
    "    righty = nonzeroy[right_lane_inds] \n",
    "    \n",
    "    # Fit a second order polynomial to each\n",
    "    left_fit = np.polyfit(lefty, leftx, 2)\n",
    "    right_fit = np.polyfit(righty, rightx, 2)    \n",
    "    \n",
    "    # Generate x and y values for plotting\n",
    "    ploty = np.linspace(0, binary_warped.shape[0]-1, binary_warped.shape[0] )\n",
    "    left_fitx = left_fit[0]*ploty**2 + left_fit[1]*ploty + left_fit[2]\n",
    "    right_fitx = right_fit[0]*ploty**2 + right_fit[1]*ploty + right_fit[2]\n",
    "    \n",
    "    # Create an image to draw the lines on\n",
    "    warp_zero = np.zeros_like(binary_warped).astype(np.uint8)\n",
    "    color_warp = np.dstack((warp_zero, warp_zero, warp_zero))\n",
    "    # Recast the x and y points into usable format for cv2.fillPoly()\n",
    "    pts_left = np.array([np.transpose(np.vstack([left_fitx, ploty]))])\n",
    "    pts_right = np.array([np.flipud(np.transpose(np.vstack([right_fitx, ploty])))])\n",
    "    pts = np.hstack((pts_left, pts_right))\n",
    "    \n",
    "    # Draw the lane onto the warped blank image\n",
    "    cv2.fillPoly(color_warp, np.int_([pts]), (0,255, 0))\n",
    "    \n",
    "    left_curverad,right_curverad,car_curverad,car_pos = radius_curv(color_warp,ploty,left_fitx,right_fitx)\n",
    "    \n",
    "    return color_warp,left_curverad,right_curverad,car_curverad,car_pos\n",
    "\n",
    "def radius_curv(color_warp,ploty,leftx,rightx):\n",
    "    # Fit a second order polynomial to pixel positions in each fake lane line\n",
    "    left_fit = np.polyfit(ploty, leftx, 2)\n",
    "    left_fitx = left_fit[0]*ploty**2 + left_fit[1]*ploty + left_fit[2]\n",
    "    right_fit = np.polyfit(ploty, rightx, 2)\n",
    "    right_fitx = right_fit[0]*ploty**2 + right_fit[1]*ploty + right_fit[2]\n",
    "    \n",
    "    car_fit=(right_fit+left_fit)/2\n",
    "    car_fitx=(right_fitx+left_fitx)/2\n",
    "    car_pos = (car_fitx[616]-600)\n",
    "    car_pts = np.array([np.transpose(np.vstack([car_fitx, ploty]))])\n",
    "    cv2.fillPoly(color_warp, np.int_([car_pts]), (255,0, 0))\n",
    "    # Plot up the fake data\n",
    "    # Define y-value where we want radius of curvature\n",
    "    # I'll choose the maximum y-value, corresponding to the bottom of the image\n",
    "    y_eval = np.max(ploty)\n",
    "    left_curverad = ((1 + (2*left_fit[0]*y_eval + left_fit[1])**2)**1.5) / np.absolute(2*left_fit[0])\n",
    "    car_curverad = ((1 + (2*car_fit[0]*y_eval + car_fit[1])**2)**1.5) / np.absolute(2*left_fit[0])\n",
    "    right_curverad = ((1 + (2*right_fit[0]*y_eval + right_fit[1])**2)**1.5) / np.absolute(2*right_fit[0])\n",
    "    print(left_curverad, right_curverad,car_curverad)\n",
    "    return left_curverad,right_curverad,car_curverad,car_pos\n",
    "    "
   ]
  },
  {
   "cell_type": "markdown",
   "metadata": {},
   "source": [
    "## And so on and so forth..."
   ]
  },
  {
   "cell_type": "code",
   "execution_count": null,
   "metadata": {
    "collapsed": true
   },
   "outputs": [],
   "source": []
  },
  {
   "cell_type": "code",
   "execution_count": 2,
   "metadata": {
    "collapsed": true
   },
   "outputs": [],
   "source": [
    "import numpy as np\n",
    "import cv2\n",
    "import glob\n",
    "import matplotlib.pyplot as plt\n",
    "# Import everything needed to edit/save/watch video clips\n",
    "from moviepy.editor import VideoFileClip\n",
    "from IPython.display import HTML"
   ]
  },
  {
   "cell_type": "code",
   "execution_count": 3,
   "metadata": {
    "collapsed": false
   },
   "outputs": [],
   "source": [
    "hy=400\n",
    "hx=81\n",
    "hx2=480\n",
    "px=18\n",
    "px2=60\n",
    "src = np.float32([[600-hx+px+1,hy],[600+hx+px-1,hy],[600-hx2+px2,600],[600+hx2+px2,600]])\n",
    "dst = np.float32([[0,0],[1200,0],[0,600],[1200,600]])\n",
    "mtx,dist,rvecs,tvecs = calibrate()\n"
   ]
  },
  {
   "cell_type": "code",
   "execution_count": 4,
   "metadata": {
    "collapsed": true
   },
   "outputs": [],
   "source": [
    "last_image=0"
   ]
  },
  {
   "cell_type": "code",
   "execution_count": 7,
   "metadata": {
    "collapsed": true
   },
   "outputs": [],
   "source": [
    "\n",
    "def process_image(image):\n",
    "    # NOTE: The output you return should be a color image (3 channel) for processing video below\n",
    "    # TODO: put your pipeline here,\n",
    "    # you should return the final output (image with lines are drawn on lanes)\n",
    "    #f, (ax1, ax2) = plt.subplots(1, 2, figsize=(24, 9))\n",
    "    undist = undistort(image,mtx,dist)\n",
    "    grad = colorGradient(undist)\n",
    "    pers,M = perspectiveTransformWarper(grad,src,dst)    \n",
    "    Minv = np.linalg.inv(M)\n",
    "    color_warp,left_curverad,right_curverad,car_curverad,car_pos = findLine(pers,undist)\n",
    "            \n",
    "    global last_image\n",
    "    if(abs(car_pos)>150):\n",
    "        newwarp=last_image\n",
    "    else:\n",
    "        newwarp = cv2.warpPerspective(color_warp, Minv, (color_warp.shape[1], color_warp.shape[0]), flags=cv2.INTER_NEAREST)\n",
    "        last_image=newwarp\n",
    "        \n",
    "    output = cv2.addWeighted(undist, 1, newwarp,0.3,0)\n",
    "\n",
    "    cv2.putText(output, \"Radius of curvature = %d(m)\"%(car_curverad), (0,50), cv2.FONT_HERSHEY_PLAIN,  3.0, (255,0,0), thickness=3)\n",
    "    if(car_pos>0):\n",
    "        cv2.putText(output, \"Vehicle is %0.2fm left of center\"%(abs(car_pos)/100), (0,100), cv2.FONT_HERSHEY_PLAIN,  3.0, (255,0,0), thickness=3)\n",
    "    else:\n",
    "        cv2.putText(output, \"Vehicle is %0.2fm right of center\"%(abs(car_pos)/100), (0,100), cv2.FONT_HERSHEY_PLAIN,  3.0, (255,0,0), thickness=3)\n",
    "\n",
    "    result=cv2.resize(output,(1280,720),interpolation=cv2.INTER_CUBIC)\n",
    "    #plt.imshow(result)\n",
    "    return result"
   ]
  },
  {
   "cell_type": "code",
   "execution_count": 8,
   "metadata": {
    "collapsed": false
   },
   "outputs": [
    {
     "name": "stdout",
     "output_type": "stream",
     "text": [
      "1721.13579873 23088.8159908 1738.35121171\n",
      "[MoviePy] >>>> Building video ../white.mp4\n",
      "[MoviePy] Writing video ../white.mp4\n"
     ]
    },
    {
     "name": "stderr",
     "output_type": "stream",
     "text": [
      "  0%|          | 1/1261 [00:00<02:35,  8.09it/s]"
     ]
    },
    {
     "name": "stdout",
     "output_type": "stream",
     "text": [
      "1721.13579873 23088.8159908 1738.35121171\n"
     ]
    },
    {
     "name": "stderr",
     "output_type": "stream",
     "text": [
      "  0%|          | 3/1261 [00:00<03:31,  5.94it/s]"
     ]
    },
    {
     "name": "stdout",
     "output_type": "stream",
     "text": [
      "1545.66264027 15135.6165831 1556.0840295\n",
      "1306.61332565 5220.62244816 1294.76635915\n"
     ]
    },
    {
     "name": "stderr",
     "output_type": "stream",
     "text": [
      "  0%|          | 5/1261 [00:00<03:15,  6.42it/s]"
     ]
    },
    {
     "name": "stdout",
     "output_type": "stream",
     "text": [
      "1378.93916295 1608.9148299 1370.18712546\n",
      "1556.23058906 2158.14779221 1553.72363257\n"
     ]
    },
    {
     "name": "stderr",
     "output_type": "stream",
     "text": [
      "  1%|          | 7/1261 [00:01<02:57,  7.07it/s]"
     ]
    },
    {
     "name": "stdout",
     "output_type": "stream",
     "text": [
      "1542.93356375 2284.99355849 1541.69647037\n",
      "1505.30268784 1717.57189717 1503.58354324\n"
     ]
    },
    {
     "name": "stderr",
     "output_type": "stream",
     "text": [
      "  1%|          | 9/1261 [00:01<02:47,  7.46it/s]"
     ]
    },
    {
     "name": "stdout",
     "output_type": "stream",
     "text": [
      "1819.18139958 1010.40904154 1821.17554587\n",
      "1898.39611869 986.627414556 1899.91939504\n"
     ]
    },
    {
     "name": "stderr",
     "output_type": "stream",
     "text": [
      "  1%|          | 11/1261 [00:01<02:48,  7.43it/s]"
     ]
    },
    {
     "name": "stdout",
     "output_type": "stream",
     "text": [
      "1717.17087088 1575.60318791 1718.78151061\n",
      "1548.33711688 2523.01504646 1561.23271805\n"
     ]
    },
    {
     "name": "stderr",
     "output_type": "stream",
     "text": [
      "  1%|          | 13/1261 [00:01<02:36,  8.00it/s]"
     ]
    },
    {
     "name": "stdout",
     "output_type": "stream",
     "text": [
      "1791.51249697 3971.69491923 1814.63994903\n",
      "1766.37865761 7902.73658174 1844.90450356\n"
     ]
    },
    {
     "name": "stderr",
     "output_type": "stream",
     "text": [
      "  1%|          | 15/1261 [00:02<02:25,  8.56it/s]"
     ]
    },
    {
     "name": "stdout",
     "output_type": "stream",
     "text": [
      "1644.70454076 2485.4555991 1770.51730471\n",
      "1822.98273634 2394.12696664 1969.18768063\n"
     ]
    },
    {
     "name": "stderr",
     "output_type": "stream",
     "text": [
      "  1%|▏         | 17/1261 [00:02<02:46,  7.46it/s]"
     ]
    },
    {
     "name": "stdout",
     "output_type": "stream",
     "text": [
      "1603.1995072 3314.94558249 1626.04825675\n",
      "1917.32293406 6873.57433807 1962.20560252\n"
     ]
    },
    {
     "name": "stderr",
     "output_type": "stream",
     "text": [
      "  2%|▏         | 19/1261 [00:02<02:48,  7.36it/s]"
     ]
    },
    {
     "name": "stdout",
     "output_type": "stream",
     "text": [
      "1926.6992186 5722.91256431 1969.96573741\n",
      "2208.90550753 7389.88928427 2252.67062772\n"
     ]
    },
    {
     "name": "stderr",
     "output_type": "stream",
     "text": [
      "\r",
      "  2%|▏         | 21/1261 [00:02<02:33,  8.07it/s]"
     ]
    },
    {
     "name": "stdout",
     "output_type": "stream",
     "text": [
      "2625.94809656 2953.8811359 2632.80531491\n",
      "3235.03052324 1031.82197763 3151.55152124\n"
     ]
    },
    {
     "name": "stderr",
     "output_type": "stream",
     "text": [
      "  2%|▏         | 23/1261 [00:03<02:35,  7.96it/s]"
     ]
    },
    {
     "name": "stdout",
     "output_type": "stream",
     "text": [
      "5129.48651662 1057.01969348 4933.41044386\n",
      "15838.0126618 1232.03113773 14989.1522349\n"
     ]
    },
    {
     "name": "stderr",
     "output_type": "stream",
     "text": [
      "  2%|▏         | 25/1261 [00:03<02:35,  7.96it/s]"
     ]
    },
    {
     "name": "stdout",
     "output_type": "stream",
     "text": [
      "4336.11020445 1727.79375568 4258.46921321\n",
      "3393.69419743 2029.47417633 3366.74904651\n"
     ]
    },
    {
     "name": "stderr",
     "output_type": "stream",
     "text": [
      "  2%|▏         | 27/1261 [00:03<02:35,  7.95it/s]"
     ]
    },
    {
     "name": "stdout",
     "output_type": "stream",
     "text": [
      "3180.38850283 21779.0258684 3239.91161184\n",
      "2653.16276309 29947.3785263 2716.19379224\n"
     ]
    },
    {
     "name": "stderr",
     "output_type": "stream",
     "text": [
      "  2%|▏         | 29/1261 [00:03<02:46,  7.39it/s]"
     ]
    },
    {
     "name": "stdout",
     "output_type": "stream",
     "text": [
      "2409.35918797 7242.65799855 2427.42776069\n",
      "2030.84579259 7636.61696264 2073.04677965\n"
     ]
    },
    {
     "name": "stderr",
     "output_type": "stream",
     "text": [
      "  2%|▏         | 31/1261 [00:04<02:35,  7.93it/s]"
     ]
    },
    {
     "name": "stdout",
     "output_type": "stream",
     "text": [
      "1899.20444446 1622.79730162 1899.0300996\n",
      "1792.77052061 3386.76062627 1802.5305726\n"
     ]
    },
    {
     "name": "stderr",
     "output_type": "stream",
     "text": [
      "  3%|▎         | 33/1261 [00:04<02:39,  7.71it/s]"
     ]
    },
    {
     "name": "stdout",
     "output_type": "stream",
     "text": [
      "1667.19331197 3018.0529782 1673.1517299\n",
      "1778.01567178 1437.00111522 1778.0144511\n"
     ]
    },
    {
     "name": "stderr",
     "output_type": "stream",
     "text": [
      "  3%|▎         | 35/1261 [00:04<02:48,  7.30it/s]"
     ]
    },
    {
     "name": "stdout",
     "output_type": "stream",
     "text": [
      "2001.01879654 829.534165258 2020.11392633\n",
      "2004.17533419 1412.5125528 2004.18194173\n"
     ]
    },
    {
     "name": "stderr",
     "output_type": "stream",
     "text": [
      "  3%|▎         | 37/1261 [00:05<02:50,  7.19it/s]"
     ]
    },
    {
     "name": "stdout",
     "output_type": "stream",
     "text": [
      "1641.10945812 1615.17375891 1642.39925598\n",
      "1528.51321034 2170.71270436 1529.65907168\n"
     ]
    },
    {
     "name": "stderr",
     "output_type": "stream",
     "text": [
      "  3%|▎         | 39/1261 [00:05<02:49,  7.20it/s]"
     ]
    },
    {
     "name": "stdout",
     "output_type": "stream",
     "text": [
      "1398.40830993 35423.4052019 1430.69395135\n",
      "1309.19981809 5752.92752171 1345.0084365\n"
     ]
    },
    {
     "name": "stderr",
     "output_type": "stream",
     "text": [
      "  3%|▎         | 41/1261 [00:05<02:43,  7.47it/s]"
     ]
    },
    {
     "name": "stdout",
     "output_type": "stream",
     "text": [
      "1348.41139618 5019.78070377 1355.65091108\n",
      "1271.3125624 1635.4373677 1263.90319638\n"
     ]
    },
    {
     "name": "stderr",
     "output_type": "stream",
     "text": [
      "  3%|▎         | 43/1261 [00:05<02:41,  7.55it/s]"
     ]
    },
    {
     "name": "stdout",
     "output_type": "stream",
     "text": [
      "1202.43048609 2396.59456433 1195.65964475\n",
      "1239.27682241 3200.46574897 1238.52868184\n"
     ]
    },
    {
     "name": "stderr",
     "output_type": "stream",
     "text": [
      "  4%|▎         | 45/1261 [00:06<02:48,  7.22it/s]"
     ]
    },
    {
     "name": "stdout",
     "output_type": "stream",
     "text": [
      "1232.61934135 2560.02725238 1231.36372679\n",
      "1214.94925734 2348.35734654 1212.95863759\n"
     ]
    },
    {
     "name": "stderr",
     "output_type": "stream",
     "text": [
      "  4%|▎         | 47/1261 [00:06<02:43,  7.41it/s]"
     ]
    },
    {
     "name": "stdout",
     "output_type": "stream",
     "text": [
      "1213.83984595 1029.73747411 1218.1604899\n",
      "1438.46091728 803.721414961 1455.49198982\n"
     ]
    },
    {
     "name": "stderr",
     "output_type": "stream",
     "text": [
      "  4%|▍         | 49/1261 [00:06<02:51,  7.06it/s]"
     ]
    },
    {
     "name": "stdout",
     "output_type": "stream",
     "text": [
      "1578.38612496 1186.92166648 1576.49962686\n",
      "1567.88760416 1232.94549805 1564.79193117\n"
     ]
    },
    {
     "name": "stderr",
     "output_type": "stream",
     "text": [
      "  4%|▍         | 51/1261 [00:06<02:42,  7.45it/s]"
     ]
    },
    {
     "name": "stdout",
     "output_type": "stream",
     "text": [
      "1657.03585677 1610.10217738 1658.28562668\n",
      "1741.10291209 6736.49519507 1785.54178165\n"
     ]
    },
    {
     "name": "stderr",
     "output_type": "stream",
     "text": [
      "\r",
      "  4%|▍         | 52/1261 [00:07<02:45,  7.29it/s]"
     ]
    },
    {
     "name": "stdout",
     "output_type": "stream",
     "text": [
      "1714.91891927 11319.1404211 1765.61895084\n",
      "1757.06903439 7115.20698895 1798.9212393\n"
     ]
    },
    {
     "name": "stderr",
     "output_type": "stream",
     "text": [
      "  4%|▍         | 55/1261 [00:07<02:36,  7.70it/s]"
     ]
    },
    {
     "name": "stdout",
     "output_type": "stream",
     "text": [
      "1810.74431581 1675.60371418 1817.11898306\n",
      "1941.96574163 2136.70968586 1952.81668218\n"
     ]
    },
    {
     "name": "stderr",
     "output_type": "stream",
     "text": [
      "  5%|▍         | 57/1261 [00:07<02:27,  8.14it/s]"
     ]
    },
    {
     "name": "stdout",
     "output_type": "stream",
     "text": [
      "1930.27806211 3012.02544814 1949.14445539\n",
      "2308.21075793 3145.56098779 2325.69123126\n"
     ]
    },
    {
     "name": "stderr",
     "output_type": "stream",
     "text": [
      "  5%|▍         | 59/1261 [00:07<02:29,  8.02it/s]"
     ]
    },
    {
     "name": "stdout",
     "output_type": "stream",
     "text": [
      "2945.04380256 1391.74355379 2895.9507423\n",
      "3762.3972494 916.76007099 3658.08025945\n"
     ]
    },
    {
     "name": "stderr",
     "output_type": "stream",
     "text": [
      "  5%|▍         | 61/1261 [00:08<02:31,  7.91it/s]"
     ]
    },
    {
     "name": "stdout",
     "output_type": "stream",
     "text": [
      "3836.6013916 1105.88796122 3774.6912629\n",
      "3218.93821029 2021.43758005 3254.06372756\n"
     ]
    },
    {
     "name": "stderr",
     "output_type": "stream",
     "text": [
      "  5%|▍         | 63/1261 [00:08<02:39,  7.50it/s]"
     ]
    },
    {
     "name": "stdout",
     "output_type": "stream",
     "text": [
      "2718.11301185 6542.87061763 2835.88813847\n",
      "2564.29569652 5456.40540989 2780.38267387\n"
     ]
    },
    {
     "name": "stderr",
     "output_type": "stream",
     "text": [
      "\r",
      "  5%|▌         | 64/1261 [00:08<02:37,  7.60it/s]"
     ]
    },
    {
     "name": "stdout",
     "output_type": "stream",
     "text": [
      "2357.92167191 4939.59916791 2434.74434563\n",
      "2307.11758631 3278.31648987 2356.41944818\n"
     ]
    },
    {
     "name": "stderr",
     "output_type": "stream",
     "text": [
      "  5%|▌         | 67/1261 [00:09<03:05,  6.45it/s]"
     ]
    },
    {
     "name": "stdout",
     "output_type": "stream",
     "text": [
      "1772.98410412 3321.14296755 1803.91788505\n",
      "1579.31195771 16846.5870501 1612.84697041\n"
     ]
    },
    {
     "name": "stderr",
     "output_type": "stream",
     "text": [
      "  5%|▌         | 69/1261 [00:09<03:06,  6.39it/s]"
     ]
    },
    {
     "name": "stdout",
     "output_type": "stream",
     "text": [
      "1608.24533664 14325.150839 1640.38869202\n",
      "1518.02878401 2718.33253499 1527.97437517\n"
     ]
    },
    {
     "name": "stderr",
     "output_type": "stream",
     "text": [
      "  6%|▌         | 71/1261 [00:09<03:08,  6.33it/s]"
     ]
    },
    {
     "name": "stdout",
     "output_type": "stream",
     "text": [
      "1454.36694144 1463.67655154 1453.46794983\n",
      "1660.30417873 981.072797445 1665.70502205\n"
     ]
    },
    {
     "name": "stderr",
     "output_type": "stream",
     "text": [
      "  6%|▌         | 73/1261 [00:10<03:07,  6.32it/s]"
     ]
    },
    {
     "name": "stdout",
     "output_type": "stream",
     "text": [
      "1871.24698417 1609.36143467 1872.90821246\n",
      "1964.89877984 1670.10169608 1967.39722797\n"
     ]
    },
    {
     "name": "stderr",
     "output_type": "stream",
     "text": [
      "  6%|▌         | 75/1261 [00:10<03:07,  6.32it/s]"
     ]
    },
    {
     "name": "stdout",
     "output_type": "stream",
     "text": [
      "2062.73172316 1922.79995669 2068.62962176\n",
      "2272.50090264 3052.78635579 2291.3655522\n"
     ]
    },
    {
     "name": "stderr",
     "output_type": "stream",
     "text": [
      "\r",
      "  6%|▌         | 76/1261 [00:10<03:11,  6.20it/s]"
     ]
    },
    {
     "name": "stdout",
     "output_type": "stream",
     "text": [
      "2459.18152424 36021.0384524 2540.31793489\n",
      "3163.72141859 9957.15123112 3203.84790049\n"
     ]
    },
    {
     "name": "stderr",
     "output_type": "stream",
     "text": [
      "  6%|▋         | 79/1261 [00:10<03:04,  6.41it/s]"
     ]
    },
    {
     "name": "stdout",
     "output_type": "stream",
     "text": [
      "3914.39989866 109569.456942 3972.55144633\n",
      "3528.65894845 8231.18369598 3546.27528528\n"
     ]
    },
    {
     "name": "stderr",
     "output_type": "stream",
     "text": [
      "  6%|▋         | 81/1261 [00:11<03:09,  6.21it/s]"
     ]
    },
    {
     "name": "stdout",
     "output_type": "stream",
     "text": [
      "5130.68367903 1890.83632683 5049.86278305\n",
      "7071.28340129 3100.15984 6992.95150843\n"
     ]
    },
    {
     "name": "stderr",
     "output_type": "stream",
     "text": [
      "\r",
      "  7%|▋         | 82/1261 [00:11<02:56,  6.67it/s]"
     ]
    },
    {
     "name": "stdout",
     "output_type": "stream",
     "text": [
      "16836.6034523 3535.05573444 16563.8244607\n",
      "11052.000944 2569.09615886 10870.6330716\n"
     ]
    },
    {
     "name": "stderr",
     "output_type": "stream",
     "text": [
      "  7%|▋         | 85/1261 [00:11<03:03,  6.41it/s]"
     ]
    },
    {
     "name": "stdout",
     "output_type": "stream",
     "text": [
      "27414.1483789 1579.06855806 26472.49203\n",
      "32917.4506946 1052.66675063 31696.1121554\n"
     ]
    },
    {
     "name": "stderr",
     "output_type": "stream",
     "text": [
      "  7%|▋         | 87/1261 [00:12<03:01,  6.48it/s]"
     ]
    },
    {
     "name": "stdout",
     "output_type": "stream",
     "text": [
      "10348.8243336 1314.44682919 10124.7714393\n",
      "3467.65003018 1696.60972801 3464.87421049\n"
     ]
    },
    {
     "name": "stderr",
     "output_type": "stream",
     "text": [
      "  7%|▋         | 89/1261 [00:12<02:59,  6.53it/s]"
     ]
    },
    {
     "name": "stdout",
     "output_type": "stream",
     "text": [
      "2576.28559369 88337.5124405 2643.69119682\n",
      "1915.58817529 5634.71455833 1965.75835171\n"
     ]
    },
    {
     "name": "stderr",
     "output_type": "stream",
     "text": [
      "  7%|▋         | 91/1261 [00:12<02:48,  6.92it/s]"
     ]
    },
    {
     "name": "stdout",
     "output_type": "stream",
     "text": [
      "1908.63030837 52567.2691431 1929.69478757\n",
      "1722.67730518 2575.8863989 1712.39849827\n"
     ]
    },
    {
     "name": "stderr",
     "output_type": "stream",
     "text": [
      "  7%|▋         | 93/1261 [00:13<02:58,  6.53it/s]"
     ]
    },
    {
     "name": "stdout",
     "output_type": "stream",
     "text": [
      "1684.99903454 2857.8758358 1674.58693657\n",
      "1767.60686043 4966.60442529 1764.15274577\n"
     ]
    },
    {
     "name": "stderr",
     "output_type": "stream",
     "text": [
      "  8%|▊         | 95/1261 [00:13<03:00,  6.45it/s]"
     ]
    },
    {
     "name": "stdout",
     "output_type": "stream",
     "text": [
      "1643.6400863 3235.60757345 1633.80329802\n",
      "1820.902781 2934.90374745 1817.24976102\n"
     ]
    },
    {
     "name": "stderr",
     "output_type": "stream",
     "text": [
      "  8%|▊         | 97/1261 [00:13<03:04,  6.29it/s]"
     ]
    },
    {
     "name": "stdout",
     "output_type": "stream",
     "text": [
      "1733.64200338 995.436190381 1751.8314675\n",
      "1810.92422193 1225.34488737 1813.98378216\n"
     ]
    },
    {
     "name": "stderr",
     "output_type": "stream",
     "text": [
      "  8%|▊         | 99/1261 [00:14<02:59,  6.46it/s]"
     ]
    },
    {
     "name": "stdout",
     "output_type": "stream",
     "text": [
      "1900.81181704 1336.40977776 1901.62966362\n",
      "1674.31493159 1445.3718794 1670.61727948\n"
     ]
    },
    {
     "name": "stderr",
     "output_type": "stream",
     "text": [
      "  8%|▊         | 101/1261 [00:14<02:54,  6.64it/s]"
     ]
    },
    {
     "name": "stdout",
     "output_type": "stream",
     "text": [
      "1790.2451363 2883.8855538 1790.40626896\n",
      "1726.68832584 5397.02204921 1732.23460681\n"
     ]
    },
    {
     "name": "stderr",
     "output_type": "stream",
     "text": [
      "  8%|▊         | 103/1261 [00:14<02:41,  7.18it/s]"
     ]
    },
    {
     "name": "stdout",
     "output_type": "stream",
     "text": [
      "1839.43793453 37808.049058 1857.5786744\n",
      "1894.83568501 7320.42988344 1905.02076081\n"
     ]
    },
    {
     "name": "stderr",
     "output_type": "stream",
     "text": [
      "  8%|▊         | 105/1261 [00:14<02:42,  7.11it/s]"
     ]
    },
    {
     "name": "stdout",
     "output_type": "stream",
     "text": [
      "1763.65713467 1635.60080993 1760.19778374\n",
      "1781.40397081 1916.65134942 1778.96895926\n"
     ]
    },
    {
     "name": "stderr",
     "output_type": "stream",
     "text": [
      "\r",
      "  8%|▊         | 106/1261 [00:15<02:46,  6.94it/s]"
     ]
    },
    {
     "name": "stdout",
     "output_type": "stream",
     "text": [
      "1881.49475183 2900.22392697 1882.2079554\n",
      "1984.76433508 3845.82992196 1987.37598519\n"
     ]
    },
    {
     "name": "stderr",
     "output_type": "stream",
     "text": [
      "  9%|▊         | 109/1261 [00:15<02:49,  6.81it/s]"
     ]
    },
    {
     "name": "stdout",
     "output_type": "stream",
     "text": [
      "1968.01242516 3648.28577988 1970.19787553\n",
      "2305.11158686 1289.79810223 2307.49400578\n"
     ]
    },
    {
     "name": "stderr",
     "output_type": "stream",
     "text": [
      "  9%|▉         | 111/1261 [00:15<02:37,  7.30it/s]"
     ]
    },
    {
     "name": "stdout",
     "output_type": "stream",
     "text": [
      "2505.0117775 1075.23507859 2514.59178648\n",
      "2185.41885169 1757.01663096 2185.90394429\n"
     ]
    },
    {
     "name": "stderr",
     "output_type": "stream",
     "text": [
      "\r",
      "  9%|▉         | 112/1261 [00:15<02:41,  7.12it/s]"
     ]
    },
    {
     "name": "stdout",
     "output_type": "stream",
     "text": [
      "2391.32582703 1746.31550523 2389.9842091\n",
      "1825.58567818 1798.44082841 1824.32777416\n"
     ]
    },
    {
     "name": "stderr",
     "output_type": "stream",
     "text": [
      "  9%|▉         | 114/1261 [00:16<02:56,  6.51it/s]"
     ]
    },
    {
     "name": "stdout",
     "output_type": "stream",
     "text": [
      "1791.82828262 186271.629442 1810.92427996\n",
      "1633.91327603 17666.2891802 1647.07523399\n"
     ]
    },
    {
     "name": "stderr",
     "output_type": "stream",
     "text": [
      "  9%|▉         | 117/1261 [00:16<02:45,  6.93it/s]"
     ]
    },
    {
     "name": "stdout",
     "output_type": "stream",
     "text": [
      "1542.79643002 3326.59442478 1535.15747407\n",
      "1512.63738576 1542.64092347 1504.9290037\n"
     ]
    },
    {
     "name": "stderr",
     "output_type": "stream",
     "text": [
      "  9%|▉         | 119/1261 [00:16<02:40,  7.11it/s]"
     ]
    },
    {
     "name": "stdout",
     "output_type": "stream",
     "text": [
      "1542.56166909 1842.39448184 1535.96265372\n",
      "1543.38295828 1888.65404451 1537.47197397\n"
     ]
    },
    {
     "name": "stderr",
     "output_type": "stream",
     "text": [
      " 10%|▉         | 121/1261 [00:17<02:29,  7.62it/s]"
     ]
    },
    {
     "name": "stdout",
     "output_type": "stream",
     "text": [
      "1429.16207048 1310.17996834 1422.18840761\n",
      "1675.00872231 938.057548051 1686.00966425\n"
     ]
    },
    {
     "name": "stderr",
     "output_type": "stream",
     "text": [
      " 10%|▉         | 123/1261 [00:17<02:26,  7.77it/s]"
     ]
    },
    {
     "name": "stdout",
     "output_type": "stream",
     "text": [
      "1627.47136274 1039.0350347 1632.53742819\n",
      "1534.79612289 1145.54036402 1532.33436968\n"
     ]
    },
    {
     "name": "stderr",
     "output_type": "stream",
     "text": [
      " 10%|▉         | 125/1261 [00:17<02:36,  7.27it/s]"
     ]
    },
    {
     "name": "stdout",
     "output_type": "stream",
     "text": [
      "1549.33472257 1624.01227723 1545.7969998\n",
      "1538.45552637 1987.81819485 1537.8447462\n"
     ]
    },
    {
     "name": "stderr",
     "output_type": "stream",
     "text": [
      " 10%|█         | 127/1261 [00:18<02:26,  7.76it/s]"
     ]
    },
    {
     "name": "stdout",
     "output_type": "stream",
     "text": [
      "1618.27851116 10543.5494225 1645.1895895\n",
      "1533.08227375 5299.39814049 1547.46304895\n"
     ]
    },
    {
     "name": "stderr",
     "output_type": "stream",
     "text": [
      " 10%|█         | 129/1261 [00:18<02:30,  7.52it/s]"
     ]
    },
    {
     "name": "stdout",
     "output_type": "stream",
     "text": [
      "1493.29542996 2442.52958998 1496.08090199\n",
      "1338.74487987 1617.97617512 1332.42972646\n"
     ]
    },
    {
     "name": "stderr",
     "output_type": "stream",
     "text": [
      " 10%|█         | 131/1261 [00:18<02:42,  6.95it/s]"
     ]
    },
    {
     "name": "stdout",
     "output_type": "stream",
     "text": [
      "1505.51203004 2212.61229401 1507.80388296\n",
      "1414.12231069 2075.332068 1414.48737395\n"
     ]
    },
    {
     "name": "stderr",
     "output_type": "stream",
     "text": [
      "\r",
      " 10%|█         | 132/1261 [00:18<02:52,  6.54it/s]"
     ]
    },
    {
     "name": "stdout",
     "output_type": "stream",
     "text": [
      "1459.94348511 1474.25726671 1459.26847116\n"
     ]
    },
    {
     "name": "stderr",
     "output_type": "stream",
     "text": [
      " 11%|█         | 134/1261 [00:19<03:09,  5.96it/s]"
     ]
    },
    {
     "name": "stdout",
     "output_type": "stream",
     "text": [
      "1592.69641832 1086.71747821 1592.54140631\n",
      "1623.84968086 878.514608262 1631.48161581\n"
     ]
    },
    {
     "name": "stderr",
     "output_type": "stream",
     "text": [
      " 11%|█         | 136/1261 [00:19<02:53,  6.47it/s]"
     ]
    },
    {
     "name": "stdout",
     "output_type": "stream",
     "text": [
      "1668.88043649 1205.83973881 1668.93660364\n",
      "1716.47191983 1115.01982518 1716.20677447\n"
     ]
    },
    {
     "name": "stderr",
     "output_type": "stream",
     "text": [
      " 11%|█         | 138/1261 [00:19<02:53,  6.47it/s]"
     ]
    },
    {
     "name": "stdout",
     "output_type": "stream",
     "text": [
      "1725.83103457 1723.33891226 1731.12345123\n",
      "1855.89613495 2786.38318993 1873.34610576\n"
     ]
    },
    {
     "name": "stderr",
     "output_type": "stream",
     "text": [
      " 11%|█         | 140/1261 [00:19<02:36,  7.16it/s]"
     ]
    },
    {
     "name": "stdout",
     "output_type": "stream",
     "text": [
      "1813.82960196 9307.08662371 1853.69834173\n",
      "2016.97677133 14231.106288 2083.32441033\n"
     ]
    },
    {
     "name": "stderr",
     "output_type": "stream",
     "text": [
      " 11%|█▏        | 142/1261 [00:20<02:28,  7.56it/s]"
     ]
    },
    {
     "name": "stdout",
     "output_type": "stream",
     "text": [
      "1761.55535567 13534.7437063 1791.05384655\n",
      "1761.0337354 3861.07228824 1776.01597335\n"
     ]
    },
    {
     "name": "stderr",
     "output_type": "stream",
     "text": [
      " 11%|█▏        | 144/1261 [00:20<02:12,  8.41it/s]"
     ]
    },
    {
     "name": "stdout",
     "output_type": "stream",
     "text": [
      "1685.15439875 3068.85423728 1698.35138936\n",
      "1905.71647212 4013.24352225 1925.19578011\n"
     ]
    },
    {
     "name": "stderr",
     "output_type": "stream",
     "text": [
      " 12%|█▏        | 146/1261 [00:20<02:10,  8.52it/s]"
     ]
    },
    {
     "name": "stdout",
     "output_type": "stream",
     "text": [
      "1962.00236492 3530.39896978 1978.79320632\n",
      "2370.31373081 1503.13302781 2369.75959477\n"
     ]
    },
    {
     "name": "stderr",
     "output_type": "stream",
     "text": [
      " 12%|█▏        | 148/1261 [00:20<02:07,  8.72it/s]"
     ]
    },
    {
     "name": "stdout",
     "output_type": "stream",
     "text": [
      "2194.30952157 1212.39458199 2190.677025\n",
      "2071.35916153 1907.35084468 2081.3060148\n"
     ]
    },
    {
     "name": "stderr",
     "output_type": "stream",
     "text": [
      " 12%|█▏        | 150/1261 [00:21<02:05,  8.84it/s]"
     ]
    },
    {
     "name": "stdout",
     "output_type": "stream",
     "text": [
      "2092.22318477 4626.9161381 2131.16211004\n",
      "2482.47309168 12181.0705062 2548.20806011\n"
     ]
    },
    {
     "name": "stderr",
     "output_type": "stream",
     "text": [
      " 12%|█▏        | 152/1261 [00:21<02:11,  8.44it/s]"
     ]
    },
    {
     "name": "stdout",
     "output_type": "stream",
     "text": [
      "2549.04528587 84208.3723379 2623.28964299\n",
      "2535.56996311 6592.80453992 2631.53410079\n"
     ]
    },
    {
     "name": "stderr",
     "output_type": "stream",
     "text": [
      " 12%|█▏        | 154/1261 [00:21<02:20,  7.87it/s]"
     ]
    },
    {
     "name": "stdout",
     "output_type": "stream",
     "text": [
      "2368.40546296 2816.10270904 2385.42178451\n",
      "2251.12098255 1555.7126221 2250.47689979\n"
     ]
    },
    {
     "name": "stderr",
     "output_type": "stream",
     "text": [
      " 12%|█▏        | 156/1261 [00:21<02:37,  7.04it/s]"
     ]
    },
    {
     "name": "stdout",
     "output_type": "stream",
     "text": [
      "2512.75508332 1727.90785169 2510.31165213\n",
      "2559.55023017 2539.52149909 2567.32786031\n"
     ]
    },
    {
     "name": "stderr",
     "output_type": "stream",
     "text": [
      " 13%|█▎        | 158/1261 [00:22<02:32,  7.22it/s]"
     ]
    },
    {
     "name": "stdout",
     "output_type": "stream",
     "text": [
      "2255.00846593 2160.42591141 2259.14359761\n",
      "2379.06388067 1138.57030332 2374.72284947\n"
     ]
    },
    {
     "name": "stderr",
     "output_type": "stream",
     "text": [
      " 13%|█▎        | 160/1261 [00:22<02:27,  7.49it/s]"
     ]
    },
    {
     "name": "stdout",
     "output_type": "stream",
     "text": [
      "2150.97843444 818.102764668 2166.1831738\n",
      "2058.43865835 1420.12137901 2060.06948654\n"
     ]
    },
    {
     "name": "stderr",
     "output_type": "stream",
     "text": [
      " 13%|█▎        | 162/1261 [00:22<02:24,  7.58it/s]"
     ]
    },
    {
     "name": "stdout",
     "output_type": "stream",
     "text": [
      "1920.8200981 1734.72385301 1926.78431329\n",
      "1997.66086957 2419.28408879 2013.9050952\n"
     ]
    },
    {
     "name": "stderr",
     "output_type": "stream",
     "text": [
      " 13%|█▎        | 164/1261 [00:23<02:26,  7.51it/s]"
     ]
    },
    {
     "name": "stdout",
     "output_type": "stream",
     "text": [
      "1890.53155647 5119.0451554 1921.21811741\n",
      "1877.62855116 5671.08577689 1971.9276175\n"
     ]
    },
    {
     "name": "stderr",
     "output_type": "stream",
     "text": [
      " 13%|█▎        | 166/1261 [00:23<02:24,  7.59it/s]"
     ]
    },
    {
     "name": "stdout",
     "output_type": "stream",
     "text": [
      "1763.78986796 4819.127806 1847.96993103\n",
      "1639.3390785 100820.622997 1679.43994143\n"
     ]
    },
    {
     "name": "stderr",
     "output_type": "stream",
     "text": [
      " 13%|█▎        | 168/1261 [00:23<02:14,  8.13it/s]"
     ]
    },
    {
     "name": "stdout",
     "output_type": "stream",
     "text": [
      "1567.30090065 5269.70652676 1589.90452626\n",
      "1771.441687 13864.1991433 1806.76379816\n"
     ]
    },
    {
     "name": "stderr",
     "output_type": "stream",
     "text": [
      "\r",
      " 13%|█▎        | 169/1261 [00:23<02:13,  8.18it/s]"
     ]
    },
    {
     "name": "stdout",
     "output_type": "stream",
     "text": [
      "1755.06047362 24234.8364286 1789.40030519\n",
      "1845.46469255 17378.0288941 1874.03079913\n"
     ]
    },
    {
     "name": "stderr",
     "output_type": "stream",
     "text": [
      " 14%|█▎        | 172/1261 [00:23<02:02,  8.89it/s]"
     ]
    },
    {
     "name": "stdout",
     "output_type": "stream",
     "text": [
      "1774.09152295 2241.34817197 1774.43482708\n",
      "1782.95888446 958.393750228 1786.57804934\n"
     ]
    },
    {
     "name": "stderr",
     "output_type": "stream",
     "text": [
      " 14%|█▍        | 174/1261 [00:24<02:06,  8.58it/s]"
     ]
    },
    {
     "name": "stdout",
     "output_type": "stream",
     "text": [
      "2143.26984119 1133.07372756 2128.60849803\n",
      "2369.90444911 1165.46296618 2351.64190065\n"
     ]
    },
    {
     "name": "stderr",
     "output_type": "stream",
     "text": [
      " 14%|█▍        | 176/1261 [00:24<02:02,  8.89it/s]"
     ]
    },
    {
     "name": "stdout",
     "output_type": "stream",
     "text": [
      "2813.73606423 2171.30681598 2823.59219841\n",
      "3168.5603201 1899.62852082 3171.80597787\n"
     ]
    },
    {
     "name": "stderr",
     "output_type": "stream",
     "text": [
      " 14%|█▍        | 178/1261 [00:24<02:00,  8.96it/s]"
     ]
    },
    {
     "name": "stdout",
     "output_type": "stream",
     "text": [
      "3454.01384216 3068.30940264 3468.71339236\n",
      "3138.21615793 1290.16977476 3105.87986755\n"
     ]
    },
    {
     "name": "stderr",
     "output_type": "stream",
     "text": [
      "\r",
      " 14%|█▍        | 179/1261 [00:24<01:59,  9.05it/s]"
     ]
    },
    {
     "name": "stdout",
     "output_type": "stream",
     "text": [
      "2745.02380089 1019.71146208 2721.29521054\n",
      "3200.07989382 1142.13205849 3163.42380166\n"
     ]
    },
    {
     "name": "stderr",
     "output_type": "stream",
     "text": [
      " 14%|█▍        | 182/1261 [00:25<02:03,  8.72it/s]"
     ]
    },
    {
     "name": "stdout",
     "output_type": "stream",
     "text": [
      "2280.36664296 1094.46092649 2274.13306026\n",
      "2252.80268322 1045.10508117 2247.58598839\n"
     ]
    },
    {
     "name": "stderr",
     "output_type": "stream",
     "text": [
      " 15%|█▍        | 184/1261 [00:25<02:02,  8.82it/s]"
     ]
    },
    {
     "name": "stdout",
     "output_type": "stream",
     "text": [
      "2312.75201237 850.280028839 2312.81727247\n",
      "1826.48817085 1144.36248485 1826.30974167\n"
     ]
    },
    {
     "name": "stderr",
     "output_type": "stream",
     "text": [
      " 15%|█▍        | 186/1261 [00:25<02:11,  8.17it/s]"
     ]
    },
    {
     "name": "stdout",
     "output_type": "stream",
     "text": [
      "1444.92857696 1089.38471327 1435.17893509\n",
      "1213.97924752 2086.52446318 1192.36176368\n"
     ]
    },
    {
     "name": "stderr",
     "output_type": "stream",
     "text": [
      " 15%|█▍        | 188/1261 [00:25<02:09,  8.31it/s]"
     ]
    },
    {
     "name": "stdout",
     "output_type": "stream",
     "text": [
      "1196.10871558 1600.3391115 1170.76806754\n",
      "1159.47134879 3018.4179318 1141.6742458\n"
     ]
    },
    {
     "name": "stderr",
     "output_type": "stream",
     "text": [
      " 15%|█▌        | 190/1261 [00:25<02:08,  8.31it/s]"
     ]
    },
    {
     "name": "stdout",
     "output_type": "stream",
     "text": [
      "1119.07180222 1385.40622626 1091.24856054\n",
      "1140.40540956 2054.6398748 1118.84469351\n"
     ]
    },
    {
     "name": "stderr",
     "output_type": "stream",
     "text": [
      " 15%|█▌        | 192/1261 [00:26<02:07,  8.36it/s]"
     ]
    },
    {
     "name": "stdout",
     "output_type": "stream",
     "text": [
      "1170.1785076 2226.03368733 1154.13828828\n",
      "1427.65142007 1684.09785911 1429.28701481\n"
     ]
    },
    {
     "name": "stderr",
     "output_type": "stream",
     "text": [
      " 15%|█▌        | 194/1261 [00:26<02:00,  8.84it/s]"
     ]
    },
    {
     "name": "stdout",
     "output_type": "stream",
     "text": [
      "1334.50806008 1184.15926497 1329.04548131\n",
      "1390.07155876 1199.52676239 1388.58393259\n"
     ]
    },
    {
     "name": "stderr",
     "output_type": "stream",
     "text": [
      " 16%|█▌        | 196/1261 [00:26<02:07,  8.38it/s]"
     ]
    },
    {
     "name": "stdout",
     "output_type": "stream",
     "text": [
      "1343.57889018 1405.29363941 1342.73126121\n",
      "1536.18632551 1100.98386769 1536.23981891\n"
     ]
    },
    {
     "name": "stderr",
     "output_type": "stream",
     "text": [
      "\r",
      " 16%|█▌        | 198/1261 [00:26<02:02,  8.66it/s]"
     ]
    },
    {
     "name": "stdout",
     "output_type": "stream",
     "text": [
      "1691.80593753 1401.95717029 1693.19425639\n",
      "1926.48907598 1318.14269864 1916.9639853\n"
     ]
    },
    {
     "name": "stderr",
     "output_type": "stream",
     "text": [
      " 16%|█▌        | 200/1261 [00:27<02:06,  8.41it/s]"
     ]
    },
    {
     "name": "stdout",
     "output_type": "stream",
     "text": [
      "2463.23983211 1301.00212233 2428.46971213\n",
      "2320.71922471 2076.3753691 2311.86094113\n"
     ]
    },
    {
     "name": "stderr",
     "output_type": "stream",
     "text": [
      " 16%|█▌        | 202/1261 [00:27<02:03,  8.60it/s]"
     ]
    },
    {
     "name": "stdout",
     "output_type": "stream",
     "text": [
      "2144.95181727 2735.29535469 2147.9956753\n",
      "2138.36595517 35446.3775446 2201.55008599\n"
     ]
    },
    {
     "name": "stderr",
     "output_type": "stream",
     "text": [
      " 16%|█▌        | 204/1261 [00:27<02:13,  7.90it/s]"
     ]
    },
    {
     "name": "stdout",
     "output_type": "stream",
     "text": [
      "1936.08375212 8496.14116763 1971.34173954\n",
      "1970.01907872 2385.93348449 1979.64546339\n"
     ]
    },
    {
     "name": "stderr",
     "output_type": "stream",
     "text": [
      " 16%|█▋        | 206/1261 [00:27<02:14,  7.85it/s]"
     ]
    },
    {
     "name": "stdout",
     "output_type": "stream",
     "text": [
      "2115.33255238 1849.17051519 2121.38434135\n",
      "2067.36055188 2115.88257306 2079.04826263\n"
     ]
    },
    {
     "name": "stderr",
     "output_type": "stream",
     "text": [
      " 16%|█▋        | 208/1261 [00:28<02:10,  8.05it/s]"
     ]
    },
    {
     "name": "stdout",
     "output_type": "stream",
     "text": [
      "2322.36186079 1349.03728529 2327.07489843\n",
      "1939.56713458 823.855298236 1940.69074713\n"
     ]
    },
    {
     "name": "stderr",
     "output_type": "stream",
     "text": [
      " 17%|█▋        | 210/1261 [00:28<02:14,  7.83it/s]"
     ]
    },
    {
     "name": "stdout",
     "output_type": "stream",
     "text": [
      "1900.41025967 1118.82723203 1898.45701939\n",
      "1968.88349798 1149.10856517 1966.5967308\n"
     ]
    },
    {
     "name": "stderr",
     "output_type": "stream",
     "text": [
      " 17%|█▋        | 212/1261 [00:28<02:15,  7.77it/s]"
     ]
    },
    {
     "name": "stdout",
     "output_type": "stream",
     "text": [
      "2024.06281018 1109.14184188 2015.91441605\n",
      "1714.10187449 1317.82188474 1714.28202672\n"
     ]
    },
    {
     "name": "stderr",
     "output_type": "stream",
     "text": [
      " 17%|█▋        | 214/1261 [00:28<02:14,  7.78it/s]"
     ]
    },
    {
     "name": "stdout",
     "output_type": "stream",
     "text": [
      "1690.41783953 6574.41087786 1734.13829974\n",
      "1565.71409488 3202.33108242 1588.51030999\n"
     ]
    },
    {
     "name": "stderr",
     "output_type": "stream",
     "text": [
      " 17%|█▋        | 216/1261 [00:29<02:12,  7.89it/s]"
     ]
    },
    {
     "name": "stdout",
     "output_type": "stream",
     "text": [
      "1383.30251271 6962.89977314 1406.65023369\n",
      "1351.99377688 1721.60292985 1354.42551408\n"
     ]
    },
    {
     "name": "stderr",
     "output_type": "stream",
     "text": [
      " 17%|█▋        | 218/1261 [00:29<02:14,  7.77it/s]"
     ]
    },
    {
     "name": "stdout",
     "output_type": "stream",
     "text": [
      "1398.63208722 2370.59702096 1408.77710248\n",
      "1532.1588746 2877.72318387 1548.20005338\n"
     ]
    },
    {
     "name": "stderr",
     "output_type": "stream",
     "text": [
      " 17%|█▋        | 220/1261 [00:29<02:13,  7.79it/s]"
     ]
    },
    {
     "name": "stdout",
     "output_type": "stream",
     "text": [
      "1476.56218423 2209.02499052 1488.88428916\n",
      "1867.75744165 1485.67516467 1868.65633207\n"
     ]
    },
    {
     "name": "stderr",
     "output_type": "stream",
     "text": [
      " 18%|█▊        | 222/1261 [00:29<02:13,  7.79it/s]"
     ]
    },
    {
     "name": "stdout",
     "output_type": "stream",
     "text": [
      "1937.78248578 955.916335156 1923.50308521\n",
      "2023.1071294 1140.11200558 2006.08733126\n"
     ]
    },
    {
     "name": "stderr",
     "output_type": "stream",
     "text": [
      " 18%|█▊        | 224/1261 [00:30<02:13,  7.76it/s]"
     ]
    },
    {
     "name": "stdout",
     "output_type": "stream",
     "text": [
      "2315.31747419 1450.38076076 2299.74162236\n",
      "2102.49889624 3350.98099122 2145.87142697\n"
     ]
    },
    {
     "name": "stderr",
     "output_type": "stream",
     "text": [
      " 18%|█▊        | 226/1261 [00:30<02:21,  7.32it/s]"
     ]
    },
    {
     "name": "stdout",
     "output_type": "stream",
     "text": [
      "2385.8040572 15334.1796352 2514.83775956\n",
      "2110.61321791 23302.1301644 2215.26037555\n"
     ]
    },
    {
     "name": "stderr",
     "output_type": "stream",
     "text": [
      " 18%|█▊        | 228/1261 [00:30<02:25,  7.12it/s]"
     ]
    },
    {
     "name": "stdout",
     "output_type": "stream",
     "text": [
      "1978.8891415 13389.6549871 2069.71158313\n",
      "2248.40434949 14383.8772471 2313.39534781\n"
     ]
    },
    {
     "name": "stderr",
     "output_type": "stream",
     "text": [
      " 18%|█▊        | 230/1261 [00:31<02:17,  7.52it/s]"
     ]
    },
    {
     "name": "stdout",
     "output_type": "stream",
     "text": [
      "2550.45840382 3750.39373076 2582.35346719\n",
      "3106.27500138 9362.44338109 3150.22054722\n"
     ]
    },
    {
     "name": "stderr",
     "output_type": "stream",
     "text": [
      " 18%|█▊        | 232/1261 [00:31<02:10,  7.89it/s]"
     ]
    },
    {
     "name": "stdout",
     "output_type": "stream",
     "text": [
      "3119.33504961 7653.12424914 3158.09398157\n",
      "4980.47583185 2767.92100404 4916.33946279\n"
     ]
    },
    {
     "name": "stderr",
     "output_type": "stream",
     "text": [
      " 19%|█▊        | 234/1261 [00:31<02:25,  7.05it/s]"
     ]
    },
    {
     "name": "stdout",
     "output_type": "stream",
     "text": [
      "9435.40485716 947.698439968 8960.17897346\n",
      "9151.02730619 1153.83950358 8741.22815119\n"
     ]
    },
    {
     "name": "stderr",
     "output_type": "stream",
     "text": [
      " 19%|█▊        | 236/1261 [00:31<02:26,  6.99it/s]"
     ]
    },
    {
     "name": "stdout",
     "output_type": "stream",
     "text": [
      "12625.1358253 1168.40316511 12067.2666974\n",
      "6105.43200225 1659.97361775 6007.01414461\n"
     ]
    },
    {
     "name": "stderr",
     "output_type": "stream",
     "text": [
      "\r",
      " 19%|█▉        | 237/1261 [00:32<02:23,  7.14it/s]"
     ]
    },
    {
     "name": "stdout",
     "output_type": "stream",
     "text": [
      "6783.48248371 2564.63445607 6770.30319677\n",
      "5154.23247423 3579.25208038 5214.27283006\n"
     ]
    },
    {
     "name": "stderr",
     "output_type": "stream",
     "text": [
      " 19%|█▉        | 240/1261 [00:32<02:15,  7.53it/s]"
     ]
    },
    {
     "name": "stdout",
     "output_type": "stream",
     "text": [
      "4095.62640708 2366.6402102 4118.04693659\n",
      "3918.89360164 1718.1143037 3914.11197491\n"
     ]
    },
    {
     "name": "stderr",
     "output_type": "stream",
     "text": [
      " 19%|█▉        | 242/1261 [00:32<02:24,  7.05it/s]"
     ]
    },
    {
     "name": "stdout",
     "output_type": "stream",
     "text": [
      "3791.90574942 1901.3437811 3791.31099516\n",
      "6215.78129284 1805.76650485 6154.44411467\n"
     ]
    },
    {
     "name": "stderr",
     "output_type": "stream",
     "text": [
      " 19%|█▉        | 244/1261 [00:32<02:16,  7.46it/s]"
     ]
    },
    {
     "name": "stdout",
     "output_type": "stream",
     "text": [
      "3936.91953679 1428.94834766 3916.26192775\n",
      "4631.34282989 1294.71178096 4581.59104193\n"
     ]
    },
    {
     "name": "stderr",
     "output_type": "stream",
     "text": [
      " 20%|█▉        | 246/1261 [00:33<02:19,  7.26it/s]"
     ]
    },
    {
     "name": "stdout",
     "output_type": "stream",
     "text": [
      "3754.16401332 1032.55498836 3714.39311052\n",
      "3413.52612567 948.186654753 3383.34992592\n"
     ]
    },
    {
     "name": "stderr",
     "output_type": "stream",
     "text": [
      " 20%|█▉        | 248/1261 [00:33<02:16,  7.42it/s]"
     ]
    },
    {
     "name": "stdout",
     "output_type": "stream",
     "text": [
      "3406.7060224 1170.64414923 3388.79294488\n",
      "2399.21171743 1468.91098374 2410.24714857\n"
     ]
    },
    {
     "name": "stderr",
     "output_type": "stream",
     "text": [
      "\r",
      " 20%|█▉        | 249/1261 [00:33<02:16,  7.42it/s]"
     ]
    },
    {
     "name": "stdout",
     "output_type": "stream",
     "text": [
      "2502.27849607 2016.46353772 2528.15766164\n",
      "2410.49259377 1730.37512324 2427.21441755\n"
     ]
    },
    {
     "name": "stderr",
     "output_type": "stream",
     "text": [
      " 20%|█▉        | 252/1261 [00:34<02:26,  6.88it/s]"
     ]
    },
    {
     "name": "stdout",
     "output_type": "stream",
     "text": [
      "2601.39960652 1870.3790254 2617.9803225\n",
      "2899.74282128 1289.1287317 2894.04430646\n"
     ]
    },
    {
     "name": "stderr",
     "output_type": "stream",
     "text": [
      " 20%|██        | 254/1261 [00:34<02:15,  7.46it/s]"
     ]
    },
    {
     "name": "stdout",
     "output_type": "stream",
     "text": [
      "2425.87487013 2367.97317726 2447.05562645\n",
      "2821.76688518 2605.00686485 2841.86636814\n"
     ]
    },
    {
     "name": "stderr",
     "output_type": "stream",
     "text": [
      " 20%|██        | 256/1261 [00:34<02:08,  7.84it/s]"
     ]
    },
    {
     "name": "stdout",
     "output_type": "stream",
     "text": [
      "2447.31287938 2302.17221213 2463.60747409\n",
      "2495.60161694 1219.74004233 2491.82915635\n"
     ]
    },
    {
     "name": "stderr",
     "output_type": "stream",
     "text": [
      " 20%|██        | 258/1261 [00:34<02:07,  7.89it/s]"
     ]
    },
    {
     "name": "stdout",
     "output_type": "stream",
     "text": [
      "2443.13401848 893.679785809 2451.23715152\n",
      "2231.65150017 915.211280022 2242.70748511\n"
     ]
    },
    {
     "name": "stderr",
     "output_type": "stream",
     "text": [
      " 21%|██        | 260/1261 [00:35<01:56,  8.60it/s]"
     ]
    },
    {
     "name": "stdout",
     "output_type": "stream",
     "text": [
      "2276.0508027 1109.1491938 2276.84222488\n",
      "2193.03294771 1533.92674688 2194.69953104\n"
     ]
    },
    {
     "name": "stderr",
     "output_type": "stream",
     "text": [
      "\r",
      " 21%|██        | 261/1261 [00:35<02:02,  8.19it/s]"
     ]
    },
    {
     "name": "stdout",
     "output_type": "stream",
     "text": [
      "2625.30317897 1799.38959499 2627.58392947\n",
      "2531.50497984 1664.42948887 2532.47790453\n",
      "2474.11733446 2401.09319093 2482.55981238\n"
     ]
    },
    {
     "name": "stderr",
     "output_type": "stream",
     "text": [
      " 21%|██        | 265/1261 [00:35<01:56,  8.57it/s]"
     ]
    },
    {
     "name": "stdout",
     "output_type": "stream",
     "text": [
      "2209.18569176 1402.3348925 2209.19194861\n",
      "2504.64479659 1523.14934308 2504.33392597\n"
     ]
    },
    {
     "name": "stderr",
     "output_type": "stream",
     "text": [
      " 21%|██        | 267/1261 [00:35<01:59,  8.35it/s]"
     ]
    },
    {
     "name": "stdout",
     "output_type": "stream",
     "text": [
      "2702.69440433 1903.83367023 2702.68084565\n",
      "2435.17224796 1847.93173779 2435.82131119\n"
     ]
    },
    {
     "name": "stderr",
     "output_type": "stream",
     "text": [
      " 21%|██▏       | 269/1261 [00:36<01:58,  8.36it/s]"
     ]
    },
    {
     "name": "stdout",
     "output_type": "stream",
     "text": [
      "2518.99493683 1494.71200102 2518.76578205\n",
      "2859.42263303 1071.2086167 2864.15429415\n"
     ]
    },
    {
     "name": "stderr",
     "output_type": "stream",
     "text": [
      " 21%|██▏       | 271/1261 [00:36<02:02,  8.05it/s]"
     ]
    },
    {
     "name": "stdout",
     "output_type": "stream",
     "text": [
      "2728.01574174 946.222925323 2757.79967843\n",
      "2521.33673022 1120.09111581 2532.46270343\n"
     ]
    },
    {
     "name": "stderr",
     "output_type": "stream",
     "text": [
      " 22%|██▏       | 273/1261 [00:36<02:08,  7.68it/s]"
     ]
    },
    {
     "name": "stdout",
     "output_type": "stream",
     "text": [
      "2052.01704955 1877.52195755 2046.02794683\n",
      "2077.72340705 4132.27474505 2081.16991877\n"
     ]
    },
    {
     "name": "stderr",
     "output_type": "stream",
     "text": [
      " 22%|██▏       | 275/1261 [00:36<02:03,  7.99it/s]"
     ]
    },
    {
     "name": "stdout",
     "output_type": "stream",
     "text": [
      "1936.51220101 37407.7842574 1946.31442335\n",
      "1907.30256861 3817.70195057 1899.97617735\n"
     ]
    },
    {
     "name": "stderr",
     "output_type": "stream",
     "text": [
      " 22%|██▏       | 277/1261 [00:37<01:56,  8.44it/s]"
     ]
    },
    {
     "name": "stdout",
     "output_type": "stream",
     "text": [
      "1849.97609245 1746.8070016 1839.19363612\n",
      "2036.84734375 3651.09062579 2034.33055914\n"
     ]
    },
    {
     "name": "stderr",
     "output_type": "stream",
     "text": [
      " 22%|██▏       | 279/1261 [00:37<01:50,  8.88it/s]"
     ]
    },
    {
     "name": "stdout",
     "output_type": "stream",
     "text": [
      "2030.18529831 4265.5828492 2027.62348741\n",
      "2024.0743136 2269.62048034 2017.34860051\n"
     ]
    },
    {
     "name": "stderr",
     "output_type": "stream",
     "text": [
      " 22%|██▏       | 281/1261 [00:37<01:50,  8.90it/s]"
     ]
    },
    {
     "name": "stdout",
     "output_type": "stream",
     "text": [
      "1963.72554969 1363.50295903 1959.88946298\n",
      "2201.20884325 1018.07063521 2231.58136072\n"
     ]
    },
    {
     "name": "stderr",
     "output_type": "stream",
     "text": [
      " 22%|██▏       | 283/1261 [00:37<01:46,  9.17it/s]"
     ]
    },
    {
     "name": "stdout",
     "output_type": "stream",
     "text": [
      "2186.28761749 1286.56579431 2189.34158663\n",
      "2375.125245 1607.47103337 2373.80985999\n"
     ]
    },
    {
     "name": "stderr",
     "output_type": "stream",
     "text": [
      " 23%|██▎       | 285/1261 [00:38<01:51,  8.77it/s]"
     ]
    },
    {
     "name": "stdout",
     "output_type": "stream",
     "text": [
      "2518.27968643 2292.87041728 2515.66878156\n",
      "2577.81819666 5042.17586447 2583.41525769\n"
     ]
    },
    {
     "name": "stderr",
     "output_type": "stream",
     "text": [
      " 23%|██▎       | 287/1261 [00:38<01:48,  8.97it/s]"
     ]
    },
    {
     "name": "stdout",
     "output_type": "stream",
     "text": [
      "2885.40324639 12789.9531772 2903.48428124\n",
      "3181.81696407 9335.91432406 3219.29670503\n"
     ]
    },
    {
     "name": "stderr",
     "output_type": "stream",
     "text": [
      "\r",
      " 23%|██▎       | 288/1261 [00:38<01:46,  9.16it/s]"
     ]
    },
    {
     "name": "stdout",
     "output_type": "stream",
     "text": [
      "2839.06450166 4931.7549551 2869.82738039\n",
      "3106.60520039 3428.51107034 3106.31672601\n"
     ]
    },
    {
     "name": "stderr",
     "output_type": "stream",
     "text": [
      " 23%|██▎       | 291/1261 [00:38<01:47,  9.05it/s]"
     ]
    },
    {
     "name": "stdout",
     "output_type": "stream",
     "text": [
      "3041.07923917 6878.59907553 3042.22881418\n",
      "3680.12449098 5730.29004044 3683.93109725\n"
     ]
    },
    {
     "name": "stderr",
     "output_type": "stream",
     "text": [
      " 23%|██▎       | 293/1261 [00:38<01:46,  9.11it/s]"
     ]
    },
    {
     "name": "stdout",
     "output_type": "stream",
     "text": [
      "3754.62088808 1649.00878517 3754.71131828\n",
      "4188.21616207 1215.32976967 4224.0840864\n"
     ]
    },
    {
     "name": "stderr",
     "output_type": "stream",
     "text": [
      " 23%|██▎       | 295/1261 [00:39<01:52,  8.59it/s]"
     ]
    },
    {
     "name": "stdout",
     "output_type": "stream",
     "text": [
      "4241.31722632 1409.10193934 4255.52928693\n",
      "4513.60010862 1934.79810306 4513.98277595\n"
     ]
    },
    {
     "name": "stderr",
     "output_type": "stream",
     "text": [
      " 24%|██▎       | 297/1261 [00:39<01:48,  8.92it/s]"
     ]
    },
    {
     "name": "stdout",
     "output_type": "stream",
     "text": [
      "4298.50442854 6907.15851977 4319.94300153\n",
      "3965.26724976 21273.7334725 3989.87093421\n"
     ]
    },
    {
     "name": "stderr",
     "output_type": "stream",
     "text": [
      "\r",
      " 24%|██▎       | 298/1261 [00:39<01:46,  9.03it/s]"
     ]
    },
    {
     "name": "stdout",
     "output_type": "stream",
     "text": [
      "3669.56836828 4208.41936412 3741.0632333\n",
      "3696.37483866 8328.45807995 3735.2613177\n",
      "3128.19912097 9222.67519618 3131.20729273\n"
     ]
    },
    {
     "name": "stderr",
     "output_type": "stream",
     "text": [
      " 24%|██▍       | 302/1261 [00:39<01:38,  9.77it/s]"
     ]
    },
    {
     "name": "stdout",
     "output_type": "stream",
     "text": [
      "2987.93481997 2865.26755258 2984.66912199\n",
      "3402.39003537 4797.31476236 3406.34798153\n",
      "3540.8527393 7477.10608505 "
     ]
    },
    {
     "name": "stderr",
     "output_type": "stream",
     "text": [
      " 24%|██▍       | 304/1261 [00:40<01:51,  8.60it/s]"
     ]
    },
    {
     "name": "stdout",
     "output_type": "stream",
     "text": [
      "3549.31537425\n",
      "3419.53588319 2426.72124745 3419.5484649\n"
     ]
    },
    {
     "name": "stderr",
     "output_type": "stream",
     "text": [
      " 24%|██▍       | 306/1261 [00:40<01:50,  8.62it/s]"
     ]
    },
    {
     "name": "stdout",
     "output_type": "stream",
     "text": [
      "4067.56355977 1470.00480211 4075.18484204\n",
      "6277.84309635 1919.69843813 6274.98839822\n"
     ]
    },
    {
     "name": "stderr",
     "output_type": "stream",
     "text": [
      " 24%|██▍       | 308/1261 [00:40<01:47,  8.84it/s]"
     ]
    },
    {
     "name": "stdout",
     "output_type": "stream",
     "text": [
      "6532.66322876 3339.54928015 6542.01691538\n",
      "5310.4280411 126596.091355 5387.607152\n"
     ]
    },
    {
     "name": "stderr",
     "output_type": "stream",
     "text": [
      " 25%|██▍       | 310/1261 [00:40<01:47,  8.87it/s]"
     ]
    },
    {
     "name": "stdout",
     "output_type": "stream",
     "text": [
      "5348.31436972 4991.26093129 5469.13082379\n",
      "5804.95588355 2758.94368346 6007.13581534\n"
     ]
    },
    {
     "name": "stderr",
     "output_type": "stream",
     "text": [
      " 25%|██▍       | 312/1261 [00:40<01:42,  9.24it/s]"
     ]
    },
    {
     "name": "stdout",
     "output_type": "stream",
     "text": [
      "7351.49673273 4854.93610871 7495.48089091\n",
      "5890.50777553 8882.66806507 5950.32854514\n"
     ]
    },
    {
     "name": "stderr",
     "output_type": "stream",
     "text": [
      " 25%|██▍       | 314/1261 [00:41<01:53,  8.36it/s]"
     ]
    },
    {
     "name": "stdout",
     "output_type": "stream",
     "text": [
      "5089.97598984 4978.13776662 5133.23252496\n",
      "5568.43280902 6566.77190813 5606.13055326\n"
     ]
    },
    {
     "name": "stderr",
     "output_type": "stream",
     "text": [
      " 25%|██▌       | 316/1261 [00:41<01:51,  8.45it/s]"
     ]
    },
    {
     "name": "stdout",
     "output_type": "stream",
     "text": [
      "6604.11349848 5870.46183836 6607.72512085\n",
      "7398.56925357 5595.41516928 7401.337699\n"
     ]
    },
    {
     "name": "stderr",
     "output_type": "stream",
     "text": [
      " 25%|██▌       | 318/1261 [00:41<01:55,  8.17it/s]"
     ]
    },
    {
     "name": "stdout",
     "output_type": "stream",
     "text": [
      "21324.8087391 1848.67244839 21406.4263646\n",
      "35985.8674711 1862.84836348 36127.6652914\n"
     ]
    },
    {
     "name": "stderr",
     "output_type": "stream",
     "text": [
      " 25%|██▌       | 320/1261 [00:41<01:51,  8.47it/s]"
     ]
    },
    {
     "name": "stdout",
     "output_type": "stream",
     "text": [
      "107827.438114 2579.48894241 107921.724736\n",
      "34563.1381861 18453.8837741 34645.7946736\n"
     ]
    },
    {
     "name": "stderr",
     "output_type": "stream",
     "text": [
      " 26%|██▌       | 322/1261 [00:42<01:55,  8.15it/s]"
     ]
    },
    {
     "name": "stdout",
     "output_type": "stream",
     "text": [
      "66606.2756575 43987.3771521 66771.9191789\n",
      "24006.4271775 10027.1515246 24147.2266843\n"
     ]
    },
    {
     "name": "stderr",
     "output_type": "stream",
     "text": [
      " 26%|██▌       | 324/1261 [00:42<02:03,  7.57it/s]"
     ]
    },
    {
     "name": "stdout",
     "output_type": "stream",
     "text": [
      "10793.492592 7443.09983832 10799.6923644\n",
      "41065.3739098 4300.98770935 41057.8568908\n"
     ]
    },
    {
     "name": "stderr",
     "output_type": "stream",
     "text": [
      " 26%|██▌       | 326/1261 [00:42<02:09,  7.23it/s]"
     ]
    },
    {
     "name": "stdout",
     "output_type": "stream",
     "text": [
      "22706.9186944 83715.2569497 22743.9543748\n",
      "12328.4206145 78809.3983553 12343.4865133\n"
     ]
    },
    {
     "name": "stderr",
     "output_type": "stream",
     "text": [
      " 26%|██▌       | 328/1261 [00:43<02:03,  7.53it/s]"
     ]
    },
    {
     "name": "stdout",
     "output_type": "stream",
     "text": [
      "25784.8254081 35224.7109647 25797.0366989\n",
      "28368.6689261 2644.64533653 28386.1014792\n"
     ]
    },
    {
     "name": "stderr",
     "output_type": "stream",
     "text": [
      " 26%|██▌       | 330/1261 [00:43<02:09,  7.19it/s]"
     ]
    },
    {
     "name": "stdout",
     "output_type": "stream",
     "text": [
      "31426.147256 1365.24027762 32043.5875223\n",
      "11963.7330336 1823.59190595 12017.3740301\n"
     ]
    },
    {
     "name": "stderr",
     "output_type": "stream",
     "text": [
      " 26%|██▋       | 332/1261 [00:43<02:02,  7.58it/s]"
     ]
    },
    {
     "name": "stdout",
     "output_type": "stream",
     "text": [
      "12929.3707856 2525.03440248 12946.5772526\n",
      "29127.7676541 16248.6880723 29128.2504365\n"
     ]
    },
    {
     "name": "stderr",
     "output_type": "stream",
     "text": [
      " 26%|██▋       | 334/1261 [00:43<01:55,  8.00it/s]"
     ]
    },
    {
     "name": "stdout",
     "output_type": "stream",
     "text": [
      "182517.482054 6903.93162231 182055.975933\n",
      "65338.9839905 22479.0027613 65162.5979093\n"
     ]
    },
    {
     "name": "stderr",
     "output_type": "stream",
     "text": [
      " 27%|██▋       | 336/1261 [00:44<01:57,  7.85it/s]"
     ]
    },
    {
     "name": "stdout",
     "output_type": "stream",
     "text": [
      "241866.106391 16047.565747 241462.964586\n",
      "15421.9022923 7809.31894473 15385.6868464\n"
     ]
    },
    {
     "name": "stderr",
     "output_type": "stream",
     "text": [
      " 27%|██▋       | 338/1261 [00:44<01:49,  8.42it/s]"
     ]
    },
    {
     "name": "stdout",
     "output_type": "stream",
     "text": [
      "9776.67073921 14927.7072631 9739.27981971\n",
      "28969.2160408 4747.0595135 29019.9974109\n"
     ]
    },
    {
     "name": "stderr",
     "output_type": "stream",
     "text": [
      " 27%|██▋       | 340/1261 [00:44<01:47,  8.57it/s]"
     ]
    },
    {
     "name": "stdout",
     "output_type": "stream",
     "text": [
      "30745.0053937 5841.90813895 30760.2482479\n",
      "20403.0952399 4816.19346586 20357.3148674\n"
     ]
    },
    {
     "name": "stderr",
     "output_type": "stream",
     "text": [
      " 27%|██▋       | 342/1261 [00:44<01:45,  8.67it/s]"
     ]
    },
    {
     "name": "stdout",
     "output_type": "stream",
     "text": [
      "18646.5383049 2648.14559129 18656.8307117\n",
      "83004.283544 11669.9749502 82786.4332646\n"
     ]
    },
    {
     "name": "stderr",
     "output_type": "stream",
     "text": [
      " 27%|██▋       | 344/1261 [00:44<01:50,  8.27it/s]"
     ]
    },
    {
     "name": "stdout",
     "output_type": "stream",
     "text": [
      "86760.4188993 10494.9486228 86682.198266\n",
      "22899.4798852 6228.24231767 23015.5784983\n"
     ]
    },
    {
     "name": "stderr",
     "output_type": "stream",
     "text": [
      " 27%|██▋       | 346/1261 [00:45<01:48,  8.41it/s]"
     ]
    },
    {
     "name": "stdout",
     "output_type": "stream",
     "text": [
      "30200.4664704 5513.53575814 30342.0802871\n",
      "23276.6887421 2948.32967108 23527.5578863\n"
     ]
    },
    {
     "name": "stderr",
     "output_type": "stream",
     "text": [
      " 28%|██▊       | 348/1261 [00:45<01:43,  8.83it/s]"
     ]
    },
    {
     "name": "stdout",
     "output_type": "stream",
     "text": [
      "10000.0249959 2380.4757572 10154.1127062\n",
      "9308.06242796 3252.5661781 9379.6882034\n"
     ]
    },
    {
     "name": "stderr",
     "output_type": "stream",
     "text": [
      " 28%|██▊       | 350/1261 [00:45<01:39,  9.14it/s]"
     ]
    },
    {
     "name": "stdout",
     "output_type": "stream",
     "text": [
      "8393.21493851 11788.4575984 8410.57537229\n",
      "4049.34498739 11207.2948064 4045.61389216\n"
     ]
    },
    {
     "name": "stderr",
     "output_type": "stream",
     "text": [
      " 28%|██▊       | 352/1261 [00:45<01:52,  8.08it/s]"
     ]
    },
    {
     "name": "stdout",
     "output_type": "stream",
     "text": [
      "5055.53804727 10246.4831388 5057.45951603\n",
      "6461.03457906 22159.611174 6462.1891467\n"
     ]
    },
    {
     "name": "stderr",
     "output_type": "stream",
     "text": [
      " 28%|██▊       | 354/1261 [00:46<01:46,  8.50it/s]"
     ]
    },
    {
     "name": "stdout",
     "output_type": "stream",
     "text": [
      "8544.02797355 3095.12866435 8559.81023419\n",
      "2346411.97973 2480.86702119 2364415.62686\n"
     ]
    },
    {
     "name": "stderr",
     "output_type": "stream",
     "text": [
      " 28%|██▊       | 356/1261 [00:46<01:43,  8.76it/s]"
     ]
    },
    {
     "name": "stdout",
     "output_type": "stream",
     "text": [
      "66791.2163494 2828.45001284 67170.4769358\n",
      "6353.19017257 9835.36693338 6323.90370238\n"
     ]
    },
    {
     "name": "stderr",
     "output_type": "stream",
     "text": [
      " 28%|██▊       | 358/1261 [00:46<01:41,  8.91it/s]"
     ]
    },
    {
     "name": "stdout",
     "output_type": "stream",
     "text": [
      "4451.94446519 11132.080505 4392.43101475\n",
      "4458.41122878 2182.6351602 4428.73935963\n"
     ]
    },
    {
     "name": "stderr",
     "output_type": "stream",
     "text": [
      " 29%|██▊       | 360/1261 [00:46<01:44,  8.60it/s]"
     ]
    },
    {
     "name": "stdout",
     "output_type": "stream",
     "text": [
      "4111.22326234 4397.88937267 4058.97957735\n",
      "3309.33900098 9594.87753249 3257.7244924\n"
     ]
    },
    {
     "name": "stderr",
     "output_type": "stream",
     "text": [
      " 29%|██▊       | 362/1261 [00:47<01:43,  8.71it/s]"
     ]
    },
    {
     "name": "stdout",
     "output_type": "stream",
     "text": [
      "3726.54371104 12950.3464136 3693.70242937\n",
      "7033.05017738 42410.4518058 7008.33841547\n"
     ]
    },
    {
     "name": "stderr",
     "output_type": "stream",
     "text": [
      " 29%|██▉       | 364/1261 [00:47<01:43,  8.63it/s]"
     ]
    },
    {
     "name": "stdout",
     "output_type": "stream",
     "text": [
      "8585.37287841 20415.9281312 8570.82496081\n",
      "11591.7681916 2959.72641564 11591.3504437\n"
     ]
    },
    {
     "name": "stderr",
     "output_type": "stream",
     "text": [
      " 29%|██▉       | 366/1261 [00:47<01:40,  8.94it/s]"
     ]
    },
    {
     "name": "stdout",
     "output_type": "stream",
     "text": [
      "10225.7624842 2228.49006312 10238.5064503\n",
      "4442.70517584 4505.05059132 4422.15153859\n"
     ]
    },
    {
     "name": "stderr",
     "output_type": "stream",
     "text": [
      " 29%|██▉       | 368/1261 [00:47<01:43,  8.63it/s]"
     ]
    },
    {
     "name": "stdout",
     "output_type": "stream",
     "text": [
      "4249.2936464 57508.9031417 4243.08658426\n",
      "3137.84032773 48909.2895019 3114.57545453\n"
     ]
    },
    {
     "name": "stderr",
     "output_type": "stream",
     "text": [
      " 29%|██▉       | 370/1261 [00:47<01:45,  8.48it/s]"
     ]
    },
    {
     "name": "stdout",
     "output_type": "stream",
     "text": [
      "2592.84186309 6052.7113798 2596.13623962\n",
      "2567.72610724 2346.72743693 2611.31704353\n"
     ]
    },
    {
     "name": "stderr",
     "output_type": "stream",
     "text": [
      " 30%|██▉       | 372/1261 [00:48<01:40,  8.83it/s]"
     ]
    },
    {
     "name": "stdout",
     "output_type": "stream",
     "text": [
      "2290.39027496 9199.06876365 2281.13764303\n",
      "2450.79661653 740918.340014 2429.80893901\n"
     ]
    },
    {
     "name": "stderr",
     "output_type": "stream",
     "text": [
      " 30%|██▉       | 374/1261 [00:48<01:46,  8.33it/s]"
     ]
    },
    {
     "name": "stdout",
     "output_type": "stream",
     "text": [
      "2520.41612855 15110.4596327 2504.59962821\n",
      "2384.50202552 6085.19550008 2380.88329748\n"
     ]
    },
    {
     "name": "stderr",
     "output_type": "stream",
     "text": [
      " 30%|██▉       | 376/1261 [00:48<01:41,  8.70it/s]"
     ]
    },
    {
     "name": "stdout",
     "output_type": "stream",
     "text": [
      "2845.50944743 18689.1692994 2844.63051215\n",
      "3383.58079239 6015.70163209 3384.10835376\n"
     ]
    },
    {
     "name": "stderr",
     "output_type": "stream",
     "text": [
      " 30%|██▉       | 378/1261 [00:48<01:50,  7.96it/s]"
     ]
    },
    {
     "name": "stdout",
     "output_type": "stream",
     "text": [
      "4393.32005106 3811.62717541 4395.50272091\n",
      "7422.90797799 5960.57659016 7404.14112242\n"
     ]
    },
    {
     "name": "stderr",
     "output_type": "stream",
     "text": [
      " 30%|███       | 380/1261 [00:49<01:56,  7.57it/s]"
     ]
    },
    {
     "name": "stdout",
     "output_type": "stream",
     "text": [
      "11282.5424467 18416.3437055 11232.1719282\n",
      "46378.6065013 83405.62557 46048.5580442\n"
     ]
    },
    {
     "name": "stderr",
     "output_type": "stream",
     "text": [
      " 30%|███       | 382/1261 [00:49<01:54,  7.67it/s]"
     ]
    },
    {
     "name": "stdout",
     "output_type": "stream",
     "text": [
      "29626.8009901 6393.90379449 29321.3423964\n",
      "9715.00619714 2432.07714402 9592.38345842\n"
     ]
    },
    {
     "name": "stderr",
     "output_type": "stream",
     "text": [
      " 30%|███       | 384/1261 [00:49<01:50,  7.95it/s]"
     ]
    },
    {
     "name": "stdout",
     "output_type": "stream",
     "text": [
      "6495.58779556 2626.41572394 6372.20723828\n",
      "9010.45968674 93200.5968829 8893.58536803\n"
     ]
    },
    {
     "name": "stderr",
     "output_type": "stream",
     "text": [
      " 31%|███       | 386/1261 [00:50<01:58,  7.37it/s]"
     ]
    },
    {
     "name": "stdout",
     "output_type": "stream",
     "text": [
      "11074.6292375 15452.6181454 10962.1156163\n",
      "14099.5530362 4096.62689727 14005.2043265\n"
     ]
    },
    {
     "name": "stderr",
     "output_type": "stream",
     "text": [
      " 31%|███       | 388/1261 [00:50<01:50,  7.89it/s]"
     ]
    },
    {
     "name": "stdout",
     "output_type": "stream",
     "text": [
      "14175.7272214 5823.19480715 14113.5488857\n",
      "11905.898315 11509.5844418 11850.7885806\n"
     ]
    },
    {
     "name": "stderr",
     "output_type": "stream",
     "text": [
      " 31%|███       | 390/1261 [00:50<01:46,  8.19it/s]"
     ]
    },
    {
     "name": "stdout",
     "output_type": "stream",
     "text": [
      "71480.9961336 4173.22551374 71626.5605565\n",
      "17650.8540163 1872.18067858 17889.9996152\n"
     ]
    },
    {
     "name": "stderr",
     "output_type": "stream",
     "text": [
      " 31%|███       | 392/1261 [00:50<01:45,  8.25it/s]"
     ]
    },
    {
     "name": "stdout",
     "output_type": "stream",
     "text": [
      "27708.7261115 2535.02213311 27902.2768492\n",
      "28233.29121 6009.09085826 28244.8132864\n"
     ]
    },
    {
     "name": "stderr",
     "output_type": "stream",
     "text": [
      " 31%|███       | 394/1261 [00:50<01:45,  8.23it/s]"
     ]
    },
    {
     "name": "stdout",
     "output_type": "stream",
     "text": [
      "160554.128989 21372.4761797 160659.373206\n",
      "29942.785646 2352.88333628 30289.8030972\n"
     ]
    },
    {
     "name": "stderr",
     "output_type": "stream",
     "text": [
      " 31%|███▏      | 396/1261 [00:51<01:42,  8.43it/s]"
     ]
    },
    {
     "name": "stdout",
     "output_type": "stream",
     "text": [
      "24928.0697781 2455.27290741 25172.5638481\n",
      "34053.4563868 1991.90576359 34476.1181535\n"
     ]
    },
    {
     "name": "stderr",
     "output_type": "stream",
     "text": [
      "\r",
      " 32%|███▏      | 398/1261 [00:51<01:38,  8.80it/s]"
     ]
    },
    {
     "name": "stdout",
     "output_type": "stream",
     "text": [
      "16423.7695033 5156.15745457 16458.8652016\n",
      "18396.2437901 181715.106664 18400.4738303\n",
      "6864.82410481 6538.48815962 6862.93762113\n"
     ]
    },
    {
     "name": "stderr",
     "output_type": "stream",
     "text": [
      " 32%|███▏      | 401/1261 [00:51<01:35,  9.04it/s]"
     ]
    },
    {
     "name": "stdout",
     "output_type": "stream",
     "text": [
      "5687.31715591 7418.5510073 5678.53034123\n",
      "5572.66225103 5979.41703758 5566.99890757\n"
     ]
    },
    {
     "name": "stderr",
     "output_type": "stream",
     "text": [
      " 32%|███▏      | 403/1261 [00:51<01:41,  8.47it/s]"
     ]
    },
    {
     "name": "stdout",
     "output_type": "stream",
     "text": [
      "5893.54122704 2911.44573976 5922.92949734\n",
      "6776.16264459 3156.49058933 6801.44108077\n"
     ]
    },
    {
     "name": "stderr",
     "output_type": "stream",
     "text": [
      " 32%|███▏      | 405/1261 [00:52<01:46,  8.03it/s]"
     ]
    },
    {
     "name": "stdout",
     "output_type": "stream",
     "text": [
      "9091.49717785 7341.60067969 9095.3079882\n",
      "9747.76847317 6648.00670865 9766.40863154\n"
     ]
    },
    {
     "name": "stderr",
     "output_type": "stream",
     "text": [
      " 32%|███▏      | 407/1261 [00:52<01:45,  8.08it/s]"
     ]
    },
    {
     "name": "stdout",
     "output_type": "stream",
     "text": [
      "11538.3840216 2916.12137852 11621.9656683\n",
      "27921.4936145 2168.41982874 28273.7574872\n"
     ]
    },
    {
     "name": "stderr",
     "output_type": "stream",
     "text": [
      " 32%|███▏      | 409/1261 [00:52<01:46,  7.99it/s]"
     ]
    },
    {
     "name": "stdout",
     "output_type": "stream",
     "text": [
      "83129.0087707 1867.30447149 84247.2828018\n",
      "18951.4218261 1633.49842833 19250.7443702\n"
     ]
    },
    {
     "name": "stderr",
     "output_type": "stream",
     "text": [
      " 33%|███▎      | 411/1261 [00:52<01:41,  8.40it/s]"
     ]
    },
    {
     "name": "stdout",
     "output_type": "stream",
     "text": [
      "10282.3371522 32443.1716887 10238.690033\n",
      "7856.43973206 10690.7925483 7829.07944261\n"
     ]
    },
    {
     "name": "stderr",
     "output_type": "stream",
     "text": [
      " 33%|███▎      | 413/1261 [00:53<01:39,  8.51it/s]"
     ]
    },
    {
     "name": "stdout",
     "output_type": "stream",
     "text": [
      "7110.21203429 31885.9804858 7078.49845833\n",
      "9675.41539899 15413.4496056 9647.27688442\n"
     ]
    },
    {
     "name": "stderr",
     "output_type": "stream",
     "text": [
      " 33%|███▎      | 415/1261 [00:53<01:33,  9.05it/s]"
     ]
    },
    {
     "name": "stdout",
     "output_type": "stream",
     "text": [
      "7003.31928512 2036.76022192 6992.52687747\n",
      "7847.93128581 3128.73537985 7835.25973912\n"
     ]
    },
    {
     "name": "stderr",
     "output_type": "stream",
     "text": [
      " 33%|███▎      | 417/1261 [00:53<01:37,  8.68it/s]"
     ]
    },
    {
     "name": "stdout",
     "output_type": "stream",
     "text": [
      "61997.8328461 10727.5909979 61993.9156216\n",
      "41506.0058186 13124.3129495 41503.6185899\n"
     ]
    },
    {
     "name": "stderr",
     "output_type": "stream",
     "text": [
      " 33%|███▎      | 419/1261 [00:53<01:37,  8.63it/s]"
     ]
    },
    {
     "name": "stdout",
     "output_type": "stream",
     "text": [
      "17372.0407245 2443.46489681 17543.9356032\n",
      "9534.26746509 2148.72255675 9615.40135416\n"
     ]
    },
    {
     "name": "stderr",
     "output_type": "stream",
     "text": [
      " 33%|███▎      | 421/1261 [00:54<01:49,  7.66it/s]"
     ]
    },
    {
     "name": "stdout",
     "output_type": "stream",
     "text": [
      "7768.37756938 2285.20789424 7799.75415499\n",
      "9527.81468163 4415.85135221 9530.35803215\n"
     ]
    },
    {
     "name": "stderr",
     "output_type": "stream",
     "text": [
      " 34%|███▎      | 423/1261 [00:54<01:47,  7.82it/s]"
     ]
    },
    {
     "name": "stdout",
     "output_type": "stream",
     "text": [
      "10699.3689675 10033.7230205 10692.9123477\n",
      "9653.68062835 4316.20449584 9657.86531937\n"
     ]
    },
    {
     "name": "stderr",
     "output_type": "stream",
     "text": [
      " 34%|███▎      | 425/1261 [00:54<01:49,  7.63it/s]"
     ]
    },
    {
     "name": "stdout",
     "output_type": "stream",
     "text": [
      "8510.55424275 8591.71067867 8505.67924885\n",
      "22730.6709395 24275.3591117 22731.7490421\n"
     ]
    },
    {
     "name": "stderr",
     "output_type": "stream",
     "text": [
      " 34%|███▍      | 427/1261 [00:54<01:40,  8.28it/s]"
     ]
    },
    {
     "name": "stdout",
     "output_type": "stream",
     "text": [
      "28392.5615674 2297.63548898 28592.8941182\n",
      "18757.3974944 3141.18019533 18821.218876\n"
     ]
    },
    {
     "name": "stderr",
     "output_type": "stream",
     "text": [
      "\r",
      " 34%|███▍      | 428/1261 [00:55<01:37,  8.55it/s]"
     ]
    },
    {
     "name": "stdout",
     "output_type": "stream",
     "text": [
      "10888.2551249 5497.2810787 10897.5329734\n",
      "10592.8326149 33846.023352 10595.6294359\n",
      "13192.5143574 2588.319714 13313.1395009\n"
     ]
    },
    {
     "name": "stderr",
     "output_type": "stream",
     "text": [
      " 34%|███▍      | 431/1261 [00:55<01:29,  9.30it/s]"
     ]
    },
    {
     "name": "stdout",
     "output_type": "stream",
     "text": [
      "16947.7845239 2083.38423021 17159.1664727\n",
      "11122.8749052 1986.39645081 11235.0249651\n"
     ]
    },
    {
     "name": "stderr",
     "output_type": "stream",
     "text": [
      " 34%|███▍      | 434/1261 [00:55<01:25,  9.64it/s]"
     ]
    },
    {
     "name": "stdout",
     "output_type": "stream",
     "text": [
      "10997.7793098 2437.09243232 11054.3073002\n",
      "61540.3525846 9705.28574166 61396.3562832\n",
      "52439.7505009 25055.5941148 52358.076727"
     ]
    },
    {
     "name": "stderr",
     "output_type": "stream",
     "text": [
      "\r",
      " 35%|███▍      | 436/1261 [00:55<01:23,  9.94it/s]"
     ]
    },
    {
     "name": "stdout",
     "output_type": "stream",
     "text": [
      "\n",
      "178384.12625 6892.2173954 178367.633972\n",
      "52558.2938299 2992.67301593 52596.1710833\n"
     ]
    },
    {
     "name": "stderr",
     "output_type": "stream",
     "text": [
      " 35%|███▍      | 439/1261 [00:56<01:28,  9.26it/s]"
     ]
    },
    {
     "name": "stdout",
     "output_type": "stream",
     "text": [
      "21209.1055859 2279.16137791 21253.4983658\n",
      "12071.8926972 2995.15661276 12067.5747411\n"
     ]
    },
    {
     "name": "stderr",
     "output_type": "stream",
     "text": [
      " 35%|███▍      | 441/1261 [00:56<01:29,  9.15it/s]"
     ]
    },
    {
     "name": "stdout",
     "output_type": "stream",
     "text": [
      "10297.382569 17381.994249 10299.2538878\n",
      "11259.5678268 469684.30317 11262.5367809\n"
     ]
    },
    {
     "name": "stderr",
     "output_type": "stream",
     "text": [
      " 35%|███▌      | 443/1261 [00:56<01:31,  8.98it/s]"
     ]
    },
    {
     "name": "stdout",
     "output_type": "stream",
     "text": [
      "9282.35031246 4367.21163335 9337.11256336\n",
      "7917.80077347 2635.9061913 7973.93548283\n"
     ]
    },
    {
     "name": "stderr",
     "output_type": "stream",
     "text": [
      " 35%|███▌      | 445/1261 [00:56<01:35,  8.52it/s]"
     ]
    },
    {
     "name": "stdout",
     "output_type": "stream",
     "text": [
      "5584.99346891 3764.61517225 5595.45950427\n",
      "5338.74991648 5232.49048272 5326.89196851\n"
     ]
    },
    {
     "name": "stderr",
     "output_type": "stream",
     "text": [
      " 35%|███▌      | 447/1261 [00:57<01:34,  8.61it/s]"
     ]
    },
    {
     "name": "stdout",
     "output_type": "stream",
     "text": [
      "4293.99596753 41900.9263485 4264.76881374\n",
      "4260.96325084 22264.6235377 4251.93958852\n"
     ]
    },
    {
     "name": "stderr",
     "output_type": "stream",
     "text": [
      " 36%|███▌      | 449/1261 [00:57<01:33,  8.68it/s]"
     ]
    },
    {
     "name": "stdout",
     "output_type": "stream",
     "text": [
      "4570.01984916 17159.5524159 4558.27171416\n",
      "6750.17947831 1769.32417387 6814.0001717\n"
     ]
    },
    {
     "name": "stderr",
     "output_type": "stream",
     "text": [
      " 36%|███▌      | 451/1261 [00:57<01:30,  8.99it/s]"
     ]
    },
    {
     "name": "stdout",
     "output_type": "stream",
     "text": [
      "6348.23005513 1597.20090269 6451.09646486\n",
      "7548.5471829 1803.16815938 7645.87141797\n"
     ]
    },
    {
     "name": "stderr",
     "output_type": "stream",
     "text": [
      " 36%|███▌      | 453/1261 [00:57<01:37,  8.32it/s]"
     ]
    },
    {
     "name": "stdout",
     "output_type": "stream",
     "text": [
      "11070.5546526 3784.40318486 11092.0440991\n",
      "14331.5466279 21181.0912608 14326.260741\n"
     ]
    },
    {
     "name": "stderr",
     "output_type": "stream",
     "text": [
      " 36%|███▌      | 455/1261 [00:58<01:40,  7.99it/s]"
     ]
    },
    {
     "name": "stdout",
     "output_type": "stream",
     "text": [
      "14502.8995605 5283.93134317 14492.5645023\n",
      "20858.33918 3031.99290868 20849.8656289\n"
     ]
    },
    {
     "name": "stderr",
     "output_type": "stream",
     "text": [
      " 36%|███▌      | 457/1261 [00:58<01:37,  8.28it/s]"
     ]
    },
    {
     "name": "stdout",
     "output_type": "stream",
     "text": [
      "31668.1068595 6047.6309757 31527.3823287\n",
      "18878.8525054 7407.84318699 18839.1168033\n"
     ]
    },
    {
     "name": "stderr",
     "output_type": "stream",
     "text": [
      " 36%|███▋      | 459/1261 [00:58<01:36,  8.34it/s]"
     ]
    },
    {
     "name": "stdout",
     "output_type": "stream",
     "text": [
      "11241.9943352 44738.3310275 11221.2111109\n",
      "15721.5129649 17118.6261304 15642.6266386\n"
     ]
    },
    {
     "name": "stderr",
     "output_type": "stream",
     "text": [
      " 37%|███▋      | 461/1261 [00:58<01:33,  8.57it/s]"
     ]
    },
    {
     "name": "stdout",
     "output_type": "stream",
     "text": [
      "13210.5576437 11853.8497303 13176.0673408\n",
      "9520.39402207 1847.32874082 9671.42951049\n"
     ]
    },
    {
     "name": "stderr",
     "output_type": "stream",
     "text": [
      " 37%|███▋      | 463/1261 [00:58<01:28,  9.05it/s]"
     ]
    },
    {
     "name": "stdout",
     "output_type": "stream",
     "text": [
      "11278.4684882 1961.39502393 11463.7054785\n",
      "32316.8344052 2347.28221839 32689.8742474\n"
     ]
    },
    {
     "name": "stderr",
     "output_type": "stream",
     "text": [
      " 37%|███▋      | 465/1261 [00:59<01:25,  9.27it/s]"
     ]
    },
    {
     "name": "stdout",
     "output_type": "stream",
     "text": [
      "22863.6442379 6491.82163248 22763.0624622\n",
      "11024.6248517 9225.11520226 10879.8629158\n"
     ]
    },
    {
     "name": "stderr",
     "output_type": "stream",
     "text": [
      " 37%|███▋      | 467/1261 [00:59<01:28,  8.99it/s]"
     ]
    },
    {
     "name": "stdout",
     "output_type": "stream",
     "text": [
      "7996.39431816 2169.08860359 7860.44154579\n",
      "5750.09737947 2323.99988669 5627.0330358\n"
     ]
    },
    {
     "name": "stderr",
     "output_type": "stream",
     "text": [
      " 37%|███▋      | 469/1261 [00:59<01:25,  9.28it/s]"
     ]
    },
    {
     "name": "stdout",
     "output_type": "stream",
     "text": [
      "5760.52321439 4123.66217561 5645.58280846\n",
      "6162.62258654 339859.929358 6079.95558194\n"
     ]
    },
    {
     "name": "stderr",
     "output_type": "stream",
     "text": [
      "\r",
      " 37%|███▋      | 470/1261 [00:59<01:28,  8.93it/s]"
     ]
    },
    {
     "name": "stdout",
     "output_type": "stream",
     "text": [
      "4731.43073614 6181.2078422 4667.92758159\n",
      "5205.97606704 4329.51092542 5133.30177561\n",
      "4837.79210971 3068.77430062 4774.72656568\n"
     ]
    },
    {
     "name": "stderr",
     "output_type": "stream",
     "text": [
      " 38%|███▊      | 474/1261 [01:00<01:29,  8.78it/s]"
     ]
    },
    {
     "name": "stdout",
     "output_type": "stream",
     "text": [
      "5390.10116036 4111.75057521 5412.8521604\n",
      "10181.6082846 4288.20307838 10222.6209591\n"
     ]
    },
    {
     "name": "stderr",
     "output_type": "stream",
     "text": [
      " 38%|███▊      | 476/1261 [01:00<01:27,  9.01it/s]"
     ]
    },
    {
     "name": "stdout",
     "output_type": "stream",
     "text": [
      "10812.7046061 6878.93448138 10857.5429646\n",
      "10429.9142619 12057.868185 10414.3636301\n"
     ]
    },
    {
     "name": "stderr",
     "output_type": "stream",
     "text": [
      " 38%|███▊      | 478/1261 [01:00<01:32,  8.50it/s]"
     ]
    },
    {
     "name": "stdout",
     "output_type": "stream",
     "text": [
      "15316.4851348 8149.88141778 15313.0553481\n",
      "61966.5855502 2863.4818063 62080.9934971\n"
     ]
    },
    {
     "name": "stderr",
     "output_type": "stream",
     "text": [
      " 38%|███▊      | 480/1261 [01:00<01:33,  8.39it/s]"
     ]
    },
    {
     "name": "stdout",
     "output_type": "stream",
     "text": [
      "25536.0915943 2079.84740001 25646.6888975\n",
      "17059.2701025 2761.64172453 17060.1355759\n"
     ]
    },
    {
     "name": "stderr",
     "output_type": "stream",
     "text": [
      " 38%|███▊      | 482/1261 [01:01<01:31,  8.52it/s]"
     ]
    },
    {
     "name": "stdout",
     "output_type": "stream",
     "text": [
      "34700.6273987 2545.94958444 34730.050548\n",
      "7808.73503365 13864.8970495 7764.67097619\n"
     ]
    },
    {
     "name": "stderr",
     "output_type": "stream",
     "text": [
      " 38%|███▊      | 484/1261 [01:01<01:26,  9.01it/s]"
     ]
    },
    {
     "name": "stdout",
     "output_type": "stream",
     "text": [
      "9594.06116069 8565.81357812 9564.51776202\n",
      "12555.0453765 29065.1925119 12538.5642512\n"
     ]
    },
    {
     "name": "stderr",
     "output_type": "stream",
     "text": [
      " 39%|███▊      | 486/1261 [01:01<01:24,  9.15it/s]"
     ]
    },
    {
     "name": "stdout",
     "output_type": "stream",
     "text": [
      "11967.3655342 28358.7255669 11966.8894581\n",
      "8538.66966296 2246.61035638 8640.50833429\n"
     ]
    },
    {
     "name": "stderr",
     "output_type": "stream",
     "text": [
      " 39%|███▊      | 488/1261 [01:01<01:26,  8.91it/s]"
     ]
    },
    {
     "name": "stdout",
     "output_type": "stream",
     "text": [
      "13350.3997249 2734.21135664 13479.4933843\n",
      "16660.538453 60058.3951214 16660.0404728\n"
     ]
    },
    {
     "name": "stderr",
     "output_type": "stream",
     "text": [
      " 39%|███▉      | 490/1261 [01:01<01:27,  8.81it/s]"
     ]
    },
    {
     "name": "stdout",
     "output_type": "stream",
     "text": [
      "37599.1966919 3973.95503763 37532.4551043\n",
      "24611.9355602 2514.45385288 24651.2568847\n"
     ]
    },
    {
     "name": "stderr",
     "output_type": "stream",
     "text": [
      " 39%|███▉      | 492/1261 [01:02<01:30,  8.50it/s]"
     ]
    },
    {
     "name": "stdout",
     "output_type": "stream",
     "text": [
      "18374.8607749 2490.15301256 18399.5749061\n",
      "48015.2956846 3774.07394322 47897.7676319\n"
     ]
    },
    {
     "name": "stderr",
     "output_type": "stream",
     "text": [
      " 39%|███▉      | 494/1261 [01:02<01:32,  8.30it/s]"
     ]
    },
    {
     "name": "stdout",
     "output_type": "stream",
     "text": [
      "31414.5155201 755323.947021 31387.7874195\n",
      "59487.7876334 10464.2631562 59495.892088\n"
     ]
    },
    {
     "name": "stderr",
     "output_type": "stream",
     "text": [
      " 39%|███▉      | 496/1261 [01:02<01:31,  8.40it/s]"
     ]
    },
    {
     "name": "stdout",
     "output_type": "stream",
     "text": [
      "74638.21104 4978.80567558 74636.7909362\n",
      "51525.7357215 4671.4592325 51524.3126963\n"
     ]
    },
    {
     "name": "stderr",
     "output_type": "stream",
     "text": [
      " 39%|███▉      | 498/1261 [01:02<01:33,  8.14it/s]"
     ]
    },
    {
     "name": "stdout",
     "output_type": "stream",
     "text": [
      "293796.502773 2785.09108228 298434.490085\n",
      "17955.1322605 1750.67861056 18361.4012969\n"
     ]
    },
    {
     "name": "stderr",
     "output_type": "stream",
     "text": [
      "\r",
      " 40%|███▉      | 499/1261 [01:03<01:28,  8.61it/s]"
     ]
    },
    {
     "name": "stdout",
     "output_type": "stream",
     "text": [
      "15692.6453785 2269.01749544 15894.0557442\n",
      "12477.0256342 2688.53659709 12570.9219366\n",
      "32121.8391362 5095.20512275 32213.3230364\n"
     ]
    },
    {
     "name": "stderr",
     "output_type": "stream",
     "text": [
      " 40%|███▉      | 503/1261 [01:03<01:24,  8.98it/s]"
     ]
    },
    {
     "name": "stdout",
     "output_type": "stream",
     "text": [
      "80043.290739 22489.0775217 79983.3474191\n",
      "47425.6640895 3685.29256524 47492.108524\n"
     ]
    },
    {
     "name": "stderr",
     "output_type": "stream",
     "text": [
      " 40%|████      | 505/1261 [01:03<01:26,  8.71it/s]"
     ]
    },
    {
     "name": "stdout",
     "output_type": "stream",
     "text": [
      "21749.9589647 3423.61952901 21760.7430839\n",
      "28370.2697515 2434.62857422 28423.5979313\n"
     ]
    },
    {
     "name": "stderr",
     "output_type": "stream",
     "text": [
      " 40%|████      | 507/1261 [01:03<01:23,  9.08it/s]"
     ]
    },
    {
     "name": "stdout",
     "output_type": "stream",
     "text": [
      "133655.72576 5176.1615711 133667.72937\n",
      "53113.4990451 35288.6740207 53113.3842354\n"
     ]
    },
    {
     "name": "stderr",
     "output_type": "stream",
     "text": [
      "\r",
      " 40%|████      | 508/1261 [01:04<01:24,  8.87it/s]"
     ]
    },
    {
     "name": "stdout",
     "output_type": "stream",
     "text": [
      "11567.5340525 4825.34116833 11565.3003818\n",
      "8975.72395951 5213.06491974 8974.21920835\n",
      "10389.5902372 5344.92688564 10444.7717886\n"
     ]
    },
    {
     "name": "stderr",
     "output_type": "stream",
     "text": [
      " 41%|████      | 512/1261 [01:04<01:15,  9.87it/s]"
     ]
    },
    {
     "name": "stdout",
     "output_type": "stream",
     "text": [
      "18271.4185637 4678.36035493 18343.5101892\n",
      "11665.6860256 4913.40941408 11711.3888114\n"
     ]
    },
    {
     "name": "stderr",
     "output_type": "stream",
     "text": [
      "\r",
      " 41%|████      | 514/1261 [01:04<01:19,  9.34it/s]"
     ]
    },
    {
     "name": "stdout",
     "output_type": "stream",
     "text": [
      "18241.4260823 336717.690536 18241.7492854\n",
      "16665.9736609 8844.84318315 16670.4009665\n"
     ]
    },
    {
     "name": "stderr",
     "output_type": "stream",
     "text": [
      " 41%|████      | 516/1261 [01:04<01:22,  9.03it/s]"
     ]
    },
    {
     "name": "stdout",
     "output_type": "stream",
     "text": [
      "233426.113596 4234.75873571 233967.346954\n",
      "66883.6777671 4352.85755366 66961.2472977\n"
     ]
    },
    {
     "name": "stderr",
     "output_type": "stream",
     "text": [
      " 41%|████      | 518/1261 [01:05<01:20,  9.26it/s]"
     ]
    },
    {
     "name": "stdout",
     "output_type": "stream",
     "text": [
      "59094.1080188 2966.96189067 59214.6861716\n",
      "119004.611367 3747133.35397 118889.909767\n",
      "61148.5227613 10651.7111707 61030.8419075\n"
     ]
    },
    {
     "name": "stderr",
     "output_type": "stream",
     "text": [
      "\r",
      " 41%|████      | 520/1261 [01:05<01:18,  9.42it/s]"
     ]
    },
    {
     "name": "stdout",
     "output_type": "stream",
     "text": [
      "92977.1642286 8129.6425865 92904.0337561\n",
      "15445.0035806 4348.6731589 15435.6447269\n",
      "8980.98591194 3747.4058095 8991.35820481\n"
     ]
    },
    {
     "name": "stderr",
     "output_type": "stream",
     "text": [
      " 42%|████▏     | 524/1261 [01:05<01:16,  9.62it/s]"
     ]
    },
    {
     "name": "stdout",
     "output_type": "stream",
     "text": [
      "7341.82633097 2318.17682003 7382.84696651\n",
      "12500.6996851 2482.2038766 12624.4748279\n"
     ]
    },
    {
     "name": "stderr",
     "output_type": "stream",
     "text": [
      " 42%|████▏     | 526/1261 [01:05<01:18,  9.42it/s]"
     ]
    },
    {
     "name": "stdout",
     "output_type": "stream",
     "text": [
      "22617.1838437 5169.51219455 22683.91999\n",
      "69063.4208795 12679.5049494 69156.7308402\n"
     ]
    },
    {
     "name": "stderr",
     "output_type": "stream",
     "text": [
      "\r",
      " 42%|████▏     | 528/1261 [01:06<01:16,  9.54it/s]"
     ]
    },
    {
     "name": "stdout",
     "output_type": "stream",
     "text": [
      "18877.5987076 5545.67140906 18882.2656696\n",
      "587587.965679 5808.75788731 587581.479797\n"
     ]
    },
    {
     "name": "stderr",
     "output_type": "stream",
     "text": [
      " 42%|████▏     | 530/1261 [01:06<01:22,  8.90it/s]"
     ]
    },
    {
     "name": "stdout",
     "output_type": "stream",
     "text": [
      "18975.4883065 3688.8559522 18966.0999155\n",
      "10903.0183091 4086.08642981 10871.2089317\n"
     ]
    },
    {
     "name": "stderr",
     "output_type": "stream",
     "text": [
      " 42%|████▏     | 532/1261 [01:06<01:25,  8.55it/s]"
     ]
    },
    {
     "name": "stdout",
     "output_type": "stream",
     "text": [
      "13409.1231123 6558.21861417 13426.7449462\n",
      "59401.7877376 34914.227088 59286.260439\n"
     ]
    },
    {
     "name": "stderr",
     "output_type": "stream",
     "text": [
      " 42%|████▏     | 534/1261 [01:06<01:32,  7.89it/s]"
     ]
    },
    {
     "name": "stdout",
     "output_type": "stream",
     "text": [
      "21288.0395847 11089.4862627 21240.4831479\n",
      "22214.6863546 6656.8248002 22204.1736663\n"
     ]
    },
    {
     "name": "stderr",
     "output_type": "stream",
     "text": [
      " 43%|████▎     | 536/1261 [01:07<01:34,  7.68it/s]"
     ]
    },
    {
     "name": "stdout",
     "output_type": "stream",
     "text": [
      "13370.9908939 4154.41568484 13306.6579503\n",
      "5710.05964212 3835.17837587 5676.9560207\n"
     ]
    },
    {
     "name": "stderr",
     "output_type": "stream",
     "text": [
      " 43%|████▎     | 538/1261 [01:07<01:29,  8.07it/s]"
     ]
    },
    {
     "name": "stdout",
     "output_type": "stream",
     "text": [
      "2929.95983838 3946.20532271 2873.18988662\n",
      "3156.56886558 3569.98484864 3121.2032038\n"
     ]
    },
    {
     "name": "stderr",
     "output_type": "stream",
     "text": [
      " 43%|████▎     | 540/1261 [01:07<01:31,  7.85it/s]"
     ]
    },
    {
     "name": "stdout",
     "output_type": "stream",
     "text": [
      "4089.7661648 3978.79717921 4060.76912937\n",
      "3559.8083679 8257.89099155 3539.70737256\n"
     ]
    },
    {
     "name": "stderr",
     "output_type": "stream",
     "text": [
      " 43%|████▎     | 542/1261 [01:07<01:30,  7.96it/s]"
     ]
    },
    {
     "name": "stdout",
     "output_type": "stream",
     "text": [
      "9072.96895239 17026.1578766 9078.16520096\n",
      "19562.6079389 5369.4516099 19638.8995218\n"
     ]
    },
    {
     "name": "stderr",
     "output_type": "stream",
     "text": [
      " 43%|████▎     | 544/1261 [01:08<01:35,  7.47it/s]"
     ]
    },
    {
     "name": "stdout",
     "output_type": "stream",
     "text": [
      "3528.48389853 4218.44690556 3513.01893006\n",
      "42495.8562831 4855.79194463 42674.096828\n"
     ]
    },
    {
     "name": "stderr",
     "output_type": "stream",
     "text": [
      " 43%|████▎     | 546/1261 [01:08<01:27,  8.14it/s]"
     ]
    },
    {
     "name": "stdout",
     "output_type": "stream",
     "text": [
      "61626.4437789 6295.34941706 61862.0476216\n",
      "22039.8675477 8149.2648528 22087.7929266\n"
     ]
    },
    {
     "name": "stderr",
     "output_type": "stream",
     "text": [
      " 43%|████▎     | 548/1261 [01:08<01:20,  8.87it/s]"
     ]
    },
    {
     "name": "stdout",
     "output_type": "stream",
     "text": [
      "3785.13845312 30730.8125351 3776.19131812\n",
      "8048.9230718 4494.12690634 8047.51304963\n"
     ]
    },
    {
     "name": "stderr",
     "output_type": "stream",
     "text": [
      " 44%|████▎     | 550/1261 [01:08<01:20,  8.78it/s]"
     ]
    },
    {
     "name": "stdout",
     "output_type": "stream",
     "text": [
      "9626.82021564 1623.33842398 9720.4254498\n",
      "4562.90427531 1482.06919987 4586.90011189\n"
     ]
    },
    {
     "name": "stderr",
     "output_type": "stream",
     "text": [
      " 44%|████▍     | 552/1261 [01:09<01:18,  9.01it/s]"
     ]
    },
    {
     "name": "stdout",
     "output_type": "stream",
     "text": [
      "6245.98996452 2048.60261158 6246.63120841\n",
      "18544.5107922 2185.41405859 18515.1609176\n"
     ]
    },
    {
     "name": "stderr",
     "output_type": "stream",
     "text": [
      " 44%|████▍     | 554/1261 [01:09<01:27,  8.11it/s]"
     ]
    },
    {
     "name": "stdout",
     "output_type": "stream",
     "text": [
      "9258.08090882 2089.15282539 9229.04360221\n",
      "8596.97048395 2335.40444399 8539.30313543\n"
     ]
    },
    {
     "name": "stderr",
     "output_type": "stream",
     "text": [
      "\r",
      " 44%|████▍     | 556/1261 [01:09<01:22,  8.56it/s]"
     ]
    },
    {
     "name": "stdout",
     "output_type": "stream",
     "text": [
      "6490.15222045 14405.954416 6450.09724389\n",
      "4137.64990715 40934.7175361 4092.85508696\n"
     ]
    },
    {
     "name": "stderr",
     "output_type": "stream",
     "text": [
      "\r",
      " 44%|████▍     | 557/1261 [01:09<01:21,  8.66it/s]"
     ]
    },
    {
     "name": "stdout",
     "output_type": "stream",
     "text": [
      "2675.52533055 6058.79822105 2638.56899409\n",
      "2702.00165471 2760.44419988 2685.91330928\n",
      "2893.59777128 4154.36862298 2838.41812159\n"
     ]
    },
    {
     "name": "stderr",
     "output_type": "stream",
     "text": [
      " 44%|████▍     | 561/1261 [01:09<01:13,  9.52it/s]"
     ]
    },
    {
     "name": "stdout",
     "output_type": "stream",
     "text": [
      "11461.5472022 2123.59148922 11401.3431848\n",
      "22803.9421174 2046.30933525 22721.5953301\n"
     ]
    },
    {
     "name": "stderr",
     "output_type": "stream",
     "text": [
      " 45%|████▍     | 564/1261 [01:10<01:13,  9.50it/s]"
     ]
    },
    {
     "name": "stdout",
     "output_type": "stream",
     "text": [
      "28251.6968661 1764.63291092 28322.4974012\n",
      "56563.71932 43298.7395346 56344.6470577\n",
      "10873.1786898 3522.87943343 10876.8250409\n"
     ]
    },
    {
     "name": "stderr",
     "output_type": "stream",
     "text": [
      "\r",
      " 45%|████▍     | 566/1261 [01:10<01:10,  9.89it/s]"
     ]
    },
    {
     "name": "stdout",
     "output_type": "stream",
     "text": [
      "4901.61661525 904.136372216 5119.09433434\n",
      "3004.8678489 3878.55762497 2967.71448289\n",
      "34867.0770241 4898.91585504 35080.8518074\n"
     ]
    },
    {
     "name": "stderr",
     "output_type": "stream",
     "text": [
      "\r",
      " 45%|████▌     | 568/1261 [01:10<01:07, 10.25it/s]"
     ]
    },
    {
     "name": "stdout",
     "output_type": "stream",
     "text": [
      "47562.3331159 3082.12186026 48013.7563897\n",
      "9087.4267397 1735.45050213 9285.8593049\n"
     ]
    },
    {
     "name": "stderr",
     "output_type": "stream",
     "text": [
      "\r",
      " 45%|████▌     | 570/1261 [01:10<01:08, 10.08it/s]"
     ]
    },
    {
     "name": "stdout",
     "output_type": "stream",
     "text": [
      "2137.92410358 1642.25547545 2155.39659502\n",
      "5431.94359316 5564.59864273 5429.02359132\n"
     ]
    },
    {
     "name": "stderr",
     "output_type": "stream",
     "text": [
      "\r",
      " 45%|████▌     | 572/1261 [01:11<01:12,  9.55it/s]"
     ]
    },
    {
     "name": "stdout",
     "output_type": "stream",
     "text": [
      "8528.89687217 7338.01605213 8558.46741258\n",
      "52415.2114684 2384.34284851 53471.6759809\n"
     ]
    },
    {
     "name": "stderr",
     "output_type": "stream",
     "text": [
      "\r",
      " 46%|████▌     | 574/1261 [01:11<01:11,  9.61it/s]"
     ]
    },
    {
     "name": "stdout",
     "output_type": "stream",
     "text": [
      "4938.93633588 1758.33783603 5076.22530954\n",
      "2214.37940875 1640.07997758 2279.07508177\n"
     ]
    },
    {
     "name": "stderr",
     "output_type": "stream",
     "text": [
      "\r",
      " 46%|████▌     | 576/1261 [01:11<01:20,  8.47it/s]"
     ]
    },
    {
     "name": "stdout",
     "output_type": "stream",
     "text": [
      "1811.73996432 1135.06377299 1878.87525229\n"
     ]
    },
    {
     "name": "stderr",
     "output_type": "stream",
     "text": [
      " 46%|████▌     | 579/1261 [01:11<01:14,  9.14it/s]"
     ]
    },
    {
     "name": "stdout",
     "output_type": "stream",
     "text": [
      "5773.94262843 1899.78863396 5788.92021462\n",
      "1286.37073551 2742.52843521 1254.48975366\n",
      "3185.02892863 2815.723093 3185.87239537\n"
     ]
    },
    {
     "name": "stderr",
     "output_type": "stream",
     "text": [
      "\r",
      " 46%|████▌     | 580/1261 [01:12<01:13,  9.25it/s]"
     ]
    },
    {
     "name": "stdout",
     "output_type": "stream",
     "text": [
      "2315.28604007 4612.87869845 2306.56159417\n",
      "3420.70832833 3984.73077214 3417.83324203\n",
      "2346.17479056 9959.24428296 2352.91042578\n"
     ]
    },
    {
     "name": "stderr",
     "output_type": "stream",
     "text": [
      " 46%|████▋     | 584/1261 [01:12<01:09,  9.79it/s]"
     ]
    },
    {
     "name": "stdout",
     "output_type": "stream",
     "text": [
      "956.36574881 26019.4280353 947.649443647\n",
      "8729.13804371 7163.01078395 8692.78417771\n"
     ]
    },
    {
     "name": "stderr",
     "output_type": "stream",
     "text": [
      " 46%|████▋     | 586/1261 [01:12<01:17,  8.73it/s]"
     ]
    },
    {
     "name": "stdout",
     "output_type": "stream",
     "text": [
      "27554.9802526 3238.97749766 27568.2509357\n",
      "876.429864017 971.128966564 882.941543439\n"
     ]
    },
    {
     "name": "stderr",
     "output_type": "stream",
     "text": [
      " 47%|████▋     | 588/1261 [01:12<01:20,  8.35it/s]"
     ]
    },
    {
     "name": "stdout",
     "output_type": "stream",
     "text": [
      "1990.82492201 1640.13369802 1986.20436476\n",
      "13813.8093882 5707.18598328 13961.1873928\n"
     ]
    },
    {
     "name": "stderr",
     "output_type": "stream",
     "text": [
      " 47%|████▋     | 590/1261 [01:13<01:18,  8.60it/s]"
     ]
    },
    {
     "name": "stdout",
     "output_type": "stream",
     "text": [
      "1296.93459278 1407.9692158 1331.50644917\n",
      "1311.64621019 1581.2674206 1332.42011255\n"
     ]
    },
    {
     "name": "stderr",
     "output_type": "stream",
     "text": [
      " 47%|████▋     | 592/1261 [01:13<01:21,  8.18it/s]"
     ]
    },
    {
     "name": "stdout",
     "output_type": "stream",
     "text": [
      "1684.3754805 1583.29468821 1705.48706268\n",
      "2670.47239335 1785.7926612 2682.19500079\n"
     ]
    },
    {
     "name": "stderr",
     "output_type": "stream",
     "text": [
      " 47%|████▋     | 594/1261 [01:13<01:20,  8.26it/s]"
     ]
    },
    {
     "name": "stdout",
     "output_type": "stream",
     "text": [
      "1543.05704586 1463.02305425 1555.8879258\n",
      "539.123589743 1743.74899541 507.400366192\n"
     ]
    },
    {
     "name": "stderr",
     "output_type": "stream",
     "text": [
      " 47%|████▋     | 596/1261 [01:13<01:25,  7.82it/s]"
     ]
    },
    {
     "name": "stdout",
     "output_type": "stream",
     "text": [
      "3080.45162217 2779.79875874 3081.57905918\n",
      "4222.20059475 1960.40117937 4236.18241166\n"
     ]
    },
    {
     "name": "stderr",
     "output_type": "stream",
     "text": [
      " 47%|████▋     | 598/1261 [01:14<01:24,  7.84it/s]"
     ]
    },
    {
     "name": "stdout",
     "output_type": "stream",
     "text": [
      "2930.26096582 3306.5075634 2886.20760835\n",
      "4911.8745575 1178.98917981 4944.41932108\n"
     ]
    },
    {
     "name": "stderr",
     "output_type": "stream",
     "text": [
      " 48%|████▊     | 600/1261 [01:14<01:24,  7.80it/s]"
     ]
    },
    {
     "name": "stdout",
     "output_type": "stream",
     "text": [
      "6101.74174544 1479.33997578 6115.5536953\n",
      "3344.91187155 1363.62761337 3370.49249018\n"
     ]
    },
    {
     "name": "stderr",
     "output_type": "stream",
     "text": [
      " 48%|████▊     | 602/1261 [01:14<01:21,  8.11it/s]"
     ]
    },
    {
     "name": "stdout",
     "output_type": "stream",
     "text": [
      "3780.33009039 2099.66389014 3772.48108292\n",
      "1588.96777314 2060.1004614 1512.73632667\n"
     ]
    },
    {
     "name": "stderr",
     "output_type": "stream",
     "text": [
      " 48%|████▊     | 604/1261 [01:14<01:28,  7.40it/s]"
     ]
    },
    {
     "name": "stdout",
     "output_type": "stream",
     "text": [
      "5638.20058301 1412.61328859 5576.4921941\n",
      "1785.73615854 7738.86678492 1724.60186959\n"
     ]
    },
    {
     "name": "stderr",
     "output_type": "stream",
     "text": [
      " 48%|████▊     | 606/1261 [01:15<01:22,  7.90it/s]"
     ]
    },
    {
     "name": "stdout",
     "output_type": "stream",
     "text": [
      "50562.1257322 3511.71905022 51551.5121539\n",
      "2467.72732803 3427.31465135 2454.09939495\n"
     ]
    },
    {
     "name": "stderr",
     "output_type": "stream",
     "text": [
      " 48%|████▊     | 608/1261 [01:15<01:17,  8.40it/s]"
     ]
    },
    {
     "name": "stdout",
     "output_type": "stream",
     "text": [
      "7351.57206935 16156.7078223 7294.12996661\n",
      "6919.59758115 5578.80740003 6918.48322472\n"
     ]
    },
    {
     "name": "stderr",
     "output_type": "stream",
     "text": [
      " 48%|████▊     | 610/1261 [01:15<01:19,  8.20it/s]"
     ]
    },
    {
     "name": "stdout",
     "output_type": "stream",
     "text": [
      "3586.8493669 5758.8483069 3573.6421812\n",
      "1579.34468398 2087.38449952 1547.32909922\n"
     ]
    },
    {
     "name": "stderr",
     "output_type": "stream",
     "text": [
      "\r",
      " 49%|████▊     | 612/1261 [01:15<01:14,  8.71it/s]"
     ]
    },
    {
     "name": "stdout",
     "output_type": "stream",
     "text": [
      "1420.70127139 1239.03998078 1414.45266709\n",
      "1431.76639519 977.657532964 1486.58542285\n"
     ]
    },
    {
     "name": "stderr",
     "output_type": "stream",
     "text": [
      " 49%|████▊     | 614/1261 [01:16<01:14,  8.66it/s]"
     ]
    },
    {
     "name": "stdout",
     "output_type": "stream",
     "text": [
      "1406.63794329 985.705494519 1449.82385877\n",
      "1464.09311462 1052.82766817 1502.02436703\n"
     ]
    },
    {
     "name": "stderr",
     "output_type": "stream",
     "text": [
      " 49%|████▉     | 616/1261 [01:16<01:20,  8.02it/s]"
     ]
    },
    {
     "name": "stdout",
     "output_type": "stream",
     "text": [
      "1466.20906372 940.354287669 1521.0304319\n",
      "1621.02267659 1642.33361566 1615.51582251\n"
     ]
    },
    {
     "name": "stderr",
     "output_type": "stream",
     "text": [
      " 49%|████▉     | 618/1261 [01:16<01:19,  8.06it/s]"
     ]
    },
    {
     "name": "stdout",
     "output_type": "stream",
     "text": [
      "1351.9937968 6736.7953524 1357.91813998\n",
      "1369.29448253 9309.74390765 1363.19660282\n"
     ]
    },
    {
     "name": "stderr",
     "output_type": "stream",
     "text": [
      "\r",
      " 49%|████▉     | 620/1261 [01:16<01:13,  8.69it/s]"
     ]
    },
    {
     "name": "stdout",
     "output_type": "stream",
     "text": [
      "1268.01553932 2348.1885228 1265.27730981\n",
      "1292.2600541 1675.68278812 1291.29878628\n"
     ]
    },
    {
     "name": "stderr",
     "output_type": "stream",
     "text": [
      " 49%|████▉     | 622/1261 [01:17<01:16,  8.36it/s]"
     ]
    },
    {
     "name": "stdout",
     "output_type": "stream",
     "text": [
      "1254.64803226 1647.07122798 1254.65846202\n",
      "1395.70901663 1453.23927702 1395.26976103\n"
     ]
    },
    {
     "name": "stderr",
     "output_type": "stream",
     "text": [
      " 49%|████▉     | 624/1261 [01:17<01:14,  8.54it/s]"
     ]
    },
    {
     "name": "stdout",
     "output_type": "stream",
     "text": [
      "1311.77217639 1192.29179661 1312.24295749\n",
      "1286.60626469 1640.43565509 1287.793974\n"
     ]
    },
    {
     "name": "stderr",
     "output_type": "stream",
     "text": [
      " 50%|████▉     | 626/1261 [01:17<01:21,  7.78it/s]"
     ]
    },
    {
     "name": "stdout",
     "output_type": "stream",
     "text": [
      "1147.49409428 2561.43441872 1149.7575195\n",
      "1169.72926296 3883.25634564 1177.62220102\n"
     ]
    },
    {
     "name": "stderr",
     "output_type": "stream",
     "text": [
      " 50%|████▉     | 628/1261 [01:17<01:23,  7.62it/s]"
     ]
    },
    {
     "name": "stdout",
     "output_type": "stream",
     "text": [
      "1081.34765136 5832.14573213 1094.21148897\n",
      "1205.63149504 4678.37309675 1204.74376978\n"
     ]
    },
    {
     "name": "stderr",
     "output_type": "stream",
     "text": [
      " 50%|████▉     | 630/1261 [01:18<01:30,  6.99it/s]"
     ]
    },
    {
     "name": "stdout",
     "output_type": "stream",
     "text": [
      "1295.40902725 2698.59113581 1281.73599248\n",
      "1615.72247488 9375.76693321 1644.59035987\n"
     ]
    },
    {
     "name": "stderr",
     "output_type": "stream",
     "text": [
      " 50%|█████     | 632/1261 [01:18<01:36,  6.55it/s]"
     ]
    },
    {
     "name": "stdout",
     "output_type": "stream",
     "text": [
      "1850.86110032 7027.64609306 1943.26948117\n",
      "2074.56338055 4477.4929074 2219.15186904\n"
     ]
    },
    {
     "name": "stderr",
     "output_type": "stream",
     "text": [
      " 50%|█████     | 634/1261 [01:18<01:32,  6.76it/s]"
     ]
    },
    {
     "name": "stdout",
     "output_type": "stream",
     "text": [
      "2386.82035932 4288.86816699 2545.6935421\n",
      "2364.95199225 16906.3712694 2418.75362067\n"
     ]
    },
    {
     "name": "stderr",
     "output_type": "stream",
     "text": [
      " 50%|█████     | 636/1261 [01:19<01:33,  6.72it/s]"
     ]
    },
    {
     "name": "stdout",
     "output_type": "stream",
     "text": [
      "1821.1407452 1046.71598175 1768.68233592\n",
      "1714.33810706 1544.38706279 1653.63965025\n"
     ]
    },
    {
     "name": "stderr",
     "output_type": "stream",
     "text": [
      "\r",
      " 51%|█████     | 638/1261 [01:19<01:24,  7.39it/s]"
     ]
    },
    {
     "name": "stdout",
     "output_type": "stream",
     "text": [
      "1734.81247993 2045.53231741 1642.5366554\n",
      "1985.99589397 2013.72171136 1863.76642631\n"
     ]
    },
    {
     "name": "stderr",
     "output_type": "stream",
     "text": [
      "\r",
      " 51%|█████     | 640/1261 [01:19<01:16,  8.13it/s]"
     ]
    },
    {
     "name": "stdout",
     "output_type": "stream",
     "text": [
      "1992.80991814 2322.83048173 1906.24953101\n",
      "2329.61502464 2543.29751926 2271.09793705\n"
     ]
    },
    {
     "name": "stderr",
     "output_type": "stream",
     "text": [
      " 51%|█████     | 642/1261 [01:19<01:12,  8.60it/s]"
     ]
    },
    {
     "name": "stdout",
     "output_type": "stream",
     "text": [
      "2347.34877791 1712.46270317 2317.36031653\n",
      "2506.77842007 2567.53525583 2497.93091781\n"
     ]
    },
    {
     "name": "stderr",
     "output_type": "stream",
     "text": [
      "\r",
      " 51%|█████     | 644/1261 [01:19<01:09,  8.86it/s]"
     ]
    },
    {
     "name": "stdout",
     "output_type": "stream",
     "text": [
      "2510.90073997 5576.01224535 2533.07778824\n",
      "2656.46487825 4192.83442573 2644.11121242\n"
     ]
    },
    {
     "name": "stderr",
     "output_type": "stream",
     "text": [
      " 51%|█████     | 646/1261 [01:20<01:07,  9.11it/s]"
     ]
    },
    {
     "name": "stdout",
     "output_type": "stream",
     "text": [
      "3182.06997421 2984.70398419 3124.57399586\n",
      "2818.49699694 1217.83152466 2697.93173569\n"
     ]
    },
    {
     "name": "stderr",
     "output_type": "stream",
     "text": [
      "\r",
      " 51%|█████▏    | 647/1261 [01:20<01:07,  9.14it/s]"
     ]
    },
    {
     "name": "stdout",
     "output_type": "stream",
     "text": [
      "2911.93186253 1226.44288148 2791.44342572\n",
      "2987.44844319 1417.37726906 2888.67619335\n",
      "3139.37762869 1781.33594921 3059.44520312\n"
     ]
    },
    {
     "name": "stderr",
     "output_type": "stream",
     "text": [
      " 52%|█████▏    | 651/1261 [01:20<01:06,  9.11it/s]"
     ]
    },
    {
     "name": "stdout",
     "output_type": "stream",
     "text": [
      "3439.54451195 2151.03793041 3374.07879856\n",
      "3618.26489169 1715.20297546 3531.58363814\n"
     ]
    },
    {
     "name": "stderr",
     "output_type": "stream",
     "text": [
      " 52%|█████▏    | 653/1261 [01:20<01:05,  9.35it/s]"
     ]
    },
    {
     "name": "stdout",
     "output_type": "stream",
     "text": [
      "3285.94887195 1351.87279586 3209.05597487\n",
      "3394.99350076 1638.51324281 3322.19742538\n"
     ]
    },
    {
     "name": "stderr",
     "output_type": "stream",
     "text": [
      " 52%|█████▏    | 655/1261 [01:21<01:07,  9.04it/s]"
     ]
    },
    {
     "name": "stdout",
     "output_type": "stream",
     "text": [
      "3095.21684305 3788.693308 3089.2374399\n",
      "2540.15905803 3740.89715398 2544.0260646\n"
     ]
    },
    {
     "name": "stderr",
     "output_type": "stream",
     "text": [
      " 52%|█████▏    | 657/1261 [01:21<01:16,  7.87it/s]"
     ]
    },
    {
     "name": "stdout",
     "output_type": "stream",
     "text": [
      "2140.71159759 2381.38025336 2134.17653155\n",
      "2062.2798631 1727.18090796 2051.06880211\n"
     ]
    },
    {
     "name": "stderr",
     "output_type": "stream",
     "text": [
      " 52%|█████▏    | 659/1261 [01:21<01:23,  7.19it/s]"
     ]
    },
    {
     "name": "stdout",
     "output_type": "stream",
     "text": [
      "1629.83546528 1573.8907199 1624.7414009\n",
      "1516.19594383 1335.73171743 1514.57617932\n"
     ]
    },
    {
     "name": "stderr",
     "output_type": "stream",
     "text": [
      " 52%|█████▏    | 661/1261 [01:21<01:13,  8.19it/s]"
     ]
    },
    {
     "name": "stdout",
     "output_type": "stream",
     "text": [
      "1518.87420417 1179.12629028 1517.14444173\n",
      "1595.25477592 2149.32668292 1598.03988506\n"
     ]
    },
    {
     "name": "stderr",
     "output_type": "stream",
     "text": [
      " 53%|█████▎    | 663/1261 [01:22<01:18,  7.59it/s]"
     ]
    },
    {
     "name": "stdout",
     "output_type": "stream",
     "text": [
      "1534.40495917 3506.59970596 1544.44419183\n",
      "1556.85790717 2939.42168714 1564.52480658\n"
     ]
    },
    {
     "name": "stderr",
     "output_type": "stream",
     "text": [
      " 53%|█████▎    | 665/1261 [01:22<01:13,  8.12it/s]"
     ]
    },
    {
     "name": "stdout",
     "output_type": "stream",
     "text": [
      "1619.43505668 3010.98916298 1627.57736674\n",
      "1603.20378186 2233.14319767 1606.4103563\n"
     ]
    },
    {
     "name": "stderr",
     "output_type": "stream",
     "text": [
      "\r",
      " 53%|█████▎    | 666/1261 [01:22<01:13,  8.08it/s]"
     ]
    },
    {
     "name": "stdout",
     "output_type": "stream",
     "text": [
      "1820.18230051 4699.05028269 1829.17884662\n",
      "1644.72269765 4236.94356293 1649.48887319\n",
      "1788.46994086 3787.0842162 1795.66719333\n"
     ]
    },
    {
     "name": "stderr",
     "output_type": "stream",
     "text": [
      " 53%|█████▎    | 670/1261 [01:22<01:06,  8.93it/s]"
     ]
    },
    {
     "name": "stdout",
     "output_type": "stream",
     "text": [
      "1710.29892205 2063.63796318 1705.91146317\n",
      "1569.28878627 2043.10587625 1567.6210961\n"
     ]
    },
    {
     "name": "stderr",
     "output_type": "stream",
     "text": [
      " 53%|█████▎    | 672/1261 [01:23<01:10,  8.34it/s]"
     ]
    },
    {
     "name": "stdout",
     "output_type": "stream",
     "text": [
      "1691.36744343 1790.58547123 1686.32971207\n",
      "1825.20336926 1257.0739155 1808.04149458\n"
     ]
    },
    {
     "name": "stderr",
     "output_type": "stream",
     "text": [
      "\r",
      " 53%|█████▎    | 673/1261 [01:23<01:10,  8.40it/s]"
     ]
    },
    {
     "name": "stdout",
     "output_type": "stream",
     "text": [
      "2162.38379282 1455.08889213 2133.19845638\n",
      "2412.40159685 7562.21606375 2416.00808271\n"
     ]
    },
    {
     "name": "stderr",
     "output_type": "stream",
     "text": [
      " 54%|█████▎    | 676/1261 [01:23<01:11,  8.14it/s]"
     ]
    },
    {
     "name": "stdout",
     "output_type": "stream",
     "text": [
      "2531.67079245 2153.46593726 2494.31438339\n",
      "2722.96538752 2564.64595821 2685.03362073\n"
     ]
    },
    {
     "name": "stderr",
     "output_type": "stream",
     "text": [
      " 54%|█████▍    | 678/1261 [01:23<01:20,  7.27it/s]"
     ]
    },
    {
     "name": "stdout",
     "output_type": "stream",
     "text": [
      "2452.30038533 2591.73501484 2426.037391\n",
      "2977.83480492 3119.61213723 2940.8182708\n"
     ]
    },
    {
     "name": "stderr",
     "output_type": "stream",
     "text": [
      " 54%|█████▍    | 680/1261 [01:24<01:19,  7.34it/s]"
     ]
    },
    {
     "name": "stdout",
     "output_type": "stream",
     "text": [
      "3256.15764308 4960.13915185 3227.32936391\n",
      "2960.6685794 5885.09774009 2947.15783536\n"
     ]
    },
    {
     "name": "stderr",
     "output_type": "stream",
     "text": [
      " 54%|█████▍    | 682/1261 [01:24<01:17,  7.42it/s]"
     ]
    },
    {
     "name": "stdout",
     "output_type": "stream",
     "text": [
      "2699.53607219 2788.07721285 2669.62527847\n",
      "2199.88912458 1716.40261163 2175.14774714\n"
     ]
    },
    {
     "name": "stderr",
     "output_type": "stream",
     "text": [
      " 54%|█████▍    | 684/1261 [01:24<01:13,  7.81it/s]"
     ]
    },
    {
     "name": "stdout",
     "output_type": "stream",
     "text": [
      "2428.36962264 1583.53899862 2395.36142756\n",
      "2486.51887559 1159.05813463 2455.40031201\n"
     ]
    },
    {
     "name": "stderr",
     "output_type": "stream",
     "text": [
      " 54%|█████▍    | 686/1261 [01:24<01:13,  7.81it/s]"
     ]
    },
    {
     "name": "stdout",
     "output_type": "stream",
     "text": [
      "2727.2248817 1033.32549724 2686.75559401\n",
      "3157.45130861 1831.54755269 3101.64944095\n"
     ]
    },
    {
     "name": "stderr",
     "output_type": "stream",
     "text": [
      " 55%|█████▍    | 688/1261 [01:25<01:11,  7.98it/s]"
     ]
    },
    {
     "name": "stdout",
     "output_type": "stream",
     "text": [
      "3653.9371049 2096.57771082 3584.51435026\n",
      "3471.14933214 1710.13727478 3414.41190136\n"
     ]
    },
    {
     "name": "stderr",
     "output_type": "stream",
     "text": [
      " 55%|█████▍    | 690/1261 [01:25<01:10,  8.05it/s]"
     ]
    },
    {
     "name": "stdout",
     "output_type": "stream",
     "text": [
      "3282.27931631 2102.28800348 3260.3266435\n",
      "2719.28685728 1675.28977207 2704.95547821\n"
     ]
    },
    {
     "name": "stderr",
     "output_type": "stream",
     "text": [
      " 55%|█████▍    | 692/1261 [01:25<01:10,  8.03it/s]"
     ]
    },
    {
     "name": "stdout",
     "output_type": "stream",
     "text": [
      "2911.00056021 2986.1680356 2909.69578798\n",
      "2423.32854542 6616.61848127 2444.14400122\n"
     ]
    },
    {
     "name": "stderr",
     "output_type": "stream",
     "text": [
      " 55%|█████▌    | 694/1261 [01:25<01:09,  8.11it/s]"
     ]
    },
    {
     "name": "stdout",
     "output_type": "stream",
     "text": [
      "1995.73950174 10098.9257057 2021.21000118\n",
      "1803.43327372 5581.06552746 1814.93051064\n"
     ]
    },
    {
     "name": "stderr",
     "output_type": "stream",
     "text": [
      " 55%|█████▌    | 696/1261 [01:26<01:12,  7.78it/s]"
     ]
    },
    {
     "name": "stdout",
     "output_type": "stream",
     "text": [
      "1547.79963318 2386.29126548 1548.06101241\n",
      "1715.17121361 1302.2332885 1719.36164829\n"
     ]
    },
    {
     "name": "stderr",
     "output_type": "stream",
     "text": [
      " 55%|█████▌    | 698/1261 [01:26<01:12,  7.77it/s]"
     ]
    },
    {
     "name": "stdout",
     "output_type": "stream",
     "text": [
      "1586.53159027 1666.48844377 1586.4728017\n",
      "1531.07379545 8878.7063125 1539.1465052\n"
     ]
    },
    {
     "name": "stderr",
     "output_type": "stream",
     "text": [
      " 56%|█████▌    | 700/1261 [01:26<01:12,  7.79it/s]"
     ]
    },
    {
     "name": "stdout",
     "output_type": "stream",
     "text": [
      "1558.39968956 2713.40412907 1559.09354378\n",
      "1624.46661312 2429.32959638 1621.76918306\n"
     ]
    },
    {
     "name": "stderr",
     "output_type": "stream",
     "text": [
      " 56%|█████▌    | 702/1261 [01:26<01:09,  7.99it/s]"
     ]
    },
    {
     "name": "stdout",
     "output_type": "stream",
     "text": [
      "1474.9403092 2709.93244135 1474.46652393\n",
      "1565.03899341 3953.99949724 1566.93232282\n"
     ]
    },
    {
     "name": "stderr",
     "output_type": "stream",
     "text": [
      " 56%|█████▌    | 704/1261 [01:27<01:08,  8.10it/s]"
     ]
    },
    {
     "name": "stdout",
     "output_type": "stream",
     "text": [
      "1662.25780744 3808.13058164 1663.39548468\n",
      "1682.9804117 2321.78068849 1677.14592843\n"
     ]
    },
    {
     "name": "stderr",
     "output_type": "stream",
     "text": [
      " 56%|█████▌    | 706/1261 [01:27<01:11,  7.77it/s]"
     ]
    },
    {
     "name": "stdout",
     "output_type": "stream",
     "text": [
      "1749.76483725 2338.56973171 1740.26807552\n",
      "1602.07272164 1774.67440532 1594.55742204\n"
     ]
    },
    {
     "name": "stderr",
     "output_type": "stream",
     "text": [
      " 56%|█████▌    | 708/1261 [01:27<01:09,  7.96it/s]"
     ]
    },
    {
     "name": "stdout",
     "output_type": "stream",
     "text": [
      "1653.58721644 1568.7043589 1644.77734478\n",
      "1916.17380868 1151.15557033 1898.99056798\n"
     ]
    },
    {
     "name": "stderr",
     "output_type": "stream",
     "text": [
      " 56%|█████▋    | 710/1261 [01:27<01:07,  8.14it/s]"
     ]
    },
    {
     "name": "stdout",
     "output_type": "stream",
     "text": [
      "1966.39750691 1192.42368693 1940.54003479\n",
      "2104.75275852 1879.13626246 2074.38727718\n"
     ]
    },
    {
     "name": "stderr",
     "output_type": "stream",
     "text": [
      " 56%|█████▋    | 712/1261 [01:28<01:12,  7.57it/s]"
     ]
    },
    {
     "name": "stdout",
     "output_type": "stream",
     "text": [
      "1975.32861157 1957.56516382 1953.17200191\n",
      "2003.76029091 1575.49086876 1982.33784136\n"
     ]
    },
    {
     "name": "stderr",
     "output_type": "stream",
     "text": [
      " 57%|█████▋    | 714/1261 [01:28<01:12,  7.60it/s]"
     ]
    },
    {
     "name": "stdout",
     "output_type": "stream",
     "text": [
      "1855.22004867 1941.66936881 1845.98955625\n",
      "1818.11417548 1921.64167984 1807.16741512\n"
     ]
    },
    {
     "name": "stderr",
     "output_type": "stream",
     "text": [
      " 57%|█████▋    | 716/1261 [01:28<01:08,  7.91it/s]"
     ]
    },
    {
     "name": "stdout",
     "output_type": "stream",
     "text": [
      "2095.97404898 2909.41257136 2078.62782443\n",
      "1805.62730844 2558.34666526 1795.54117895\n"
     ]
    },
    {
     "name": "stderr",
     "output_type": "stream",
     "text": [
      " 57%|█████▋    | 718/1261 [01:29<01:10,  7.75it/s]"
     ]
    },
    {
     "name": "stdout",
     "output_type": "stream",
     "text": [
      "1990.28692368 2481.2763351 1978.87636689\n",
      "2287.74437133 2292.83506442 2269.61972224\n"
     ]
    },
    {
     "name": "stderr",
     "output_type": "stream",
     "text": [
      " 57%|█████▋    | 720/1261 [01:29<01:10,  7.66it/s]"
     ]
    },
    {
     "name": "stdout",
     "output_type": "stream",
     "text": [
      "1891.45203146 1697.19858891 1877.19263432\n",
      "2477.83432964 1456.16340348 2439.22332287\n"
     ]
    },
    {
     "name": "stderr",
     "output_type": "stream",
     "text": [
      " 57%|█████▋    | 722/1261 [01:29<01:06,  8.10it/s]"
     ]
    },
    {
     "name": "stdout",
     "output_type": "stream",
     "text": [
      "2553.60831356 1141.08923005 2506.27071768\n",
      "2570.4291743 1205.56436108 2527.12621678\n"
     ]
    },
    {
     "name": "stderr",
     "output_type": "stream",
     "text": [
      " 57%|█████▋    | 724/1261 [01:29<01:03,  8.41it/s]"
     ]
    },
    {
     "name": "stdout",
     "output_type": "stream",
     "text": [
      "2754.80621569 1332.41255488 2707.80819341\n",
      "2581.22633065 2918.95714708 2575.38117846\n"
     ]
    },
    {
     "name": "stderr",
     "output_type": "stream",
     "text": [
      " 58%|█████▊    | 726/1261 [01:30<01:03,  8.48it/s]"
     ]
    },
    {
     "name": "stdout",
     "output_type": "stream",
     "text": [
      "2641.54762185 2871.8705609 2642.89419673\n",
      "2060.51743148 2702.01487393 2066.65986333\n"
     ]
    },
    {
     "name": "stderr",
     "output_type": "stream",
     "text": [
      " 58%|█████▊    | 728/1261 [01:30<01:06,  8.03it/s]"
     ]
    },
    {
     "name": "stdout",
     "output_type": "stream",
     "text": [
      "2007.76276676 2888.55498191 2014.39398806\n",
      "1822.09496296 13955.4996049 1859.91317695\n"
     ]
    },
    {
     "name": "stderr",
     "output_type": "stream",
     "text": [
      " 58%|█████▊    | 730/1261 [01:30<01:07,  7.88it/s]"
     ]
    },
    {
     "name": "stdout",
     "output_type": "stream",
     "text": [
      "1769.84370309 16889.9460182 1828.46091449\n",
      "1900.08090856 35598.2665891 1942.89818218\n"
     ]
    },
    {
     "name": "stderr",
     "output_type": "stream",
     "text": [
      " 58%|█████▊    | 732/1261 [01:30<01:13,  7.22it/s]"
     ]
    },
    {
     "name": "stdout",
     "output_type": "stream",
     "text": [
      "1689.12237441 5463.0718953 1708.94090849\n",
      "1470.50795841 3402.14204064 1480.27878965\n"
     ]
    },
    {
     "name": "stderr",
     "output_type": "stream",
     "text": [
      " 58%|█████▊    | 734/1261 [01:31<01:09,  7.59it/s]"
     ]
    },
    {
     "name": "stdout",
     "output_type": "stream",
     "text": [
      "1590.35195645 1404.94002177 1573.3724309\n",
      "1591.01263103 1743.80534374 1579.62248639\n"
     ]
    },
    {
     "name": "stderr",
     "output_type": "stream",
     "text": [
      " 58%|█████▊    | 736/1261 [01:31<01:06,  7.90it/s]"
     ]
    },
    {
     "name": "stdout",
     "output_type": "stream",
     "text": [
      "1800.97219731 2532.90171992 1792.69529037\n",
      "1727.28036443 3262.84720303 1727.86517634\n"
     ]
    },
    {
     "name": "stderr",
     "output_type": "stream",
     "text": [
      " 59%|█████▊    | 738/1261 [01:31<01:03,  8.22it/s]"
     ]
    },
    {
     "name": "stdout",
     "output_type": "stream",
     "text": [
      "1693.1031221 3014.67486884 1694.8537592\n",
      "1768.14656122 2608.39968563 1762.69701323\n"
     ]
    },
    {
     "name": "stderr",
     "output_type": "stream",
     "text": [
      " 59%|█████▊    | 740/1261 [01:31<01:06,  7.88it/s]"
     ]
    },
    {
     "name": "stdout",
     "output_type": "stream",
     "text": [
      "1864.33289489 3775.96561735 1868.65661717\n",
      "1902.22629032 10531.7185568 1921.63971213\n"
     ]
    },
    {
     "name": "stderr",
     "output_type": "stream",
     "text": [
      " 59%|█████▉    | 742/1261 [01:32<01:01,  8.39it/s]"
     ]
    },
    {
     "name": "stdout",
     "output_type": "stream",
     "text": [
      "1931.23711229 21036.0119656 1956.67360261\n",
      "1871.49616571 3147.37075556 1857.21684883\n"
     ]
    },
    {
     "name": "stderr",
     "output_type": "stream",
     "text": [
      " 59%|█████▉    | 744/1261 [01:32<01:07,  7.67it/s]"
     ]
    },
    {
     "name": "stdout",
     "output_type": "stream",
     "text": [
      "1473.95302336 2348.68087925 1467.62949682\n",
      "1610.067227 1685.75141346 1589.49270229\n"
     ]
    },
    {
     "name": "stderr",
     "output_type": "stream",
     "text": [
      " 59%|█████▉    | 746/1261 [01:32<01:04,  8.02it/s]"
     ]
    },
    {
     "name": "stdout",
     "output_type": "stream",
     "text": [
      "1774.92743352 1378.74333296 1742.72205955\n",
      "1842.97719247 1721.57400694 1815.36385753\n"
     ]
    },
    {
     "name": "stderr",
     "output_type": "stream",
     "text": [
      " 59%|█████▉    | 748/1261 [01:32<01:05,  7.88it/s]"
     ]
    },
    {
     "name": "stdout",
     "output_type": "stream",
     "text": [
      "2067.02702113 2414.11165226 2045.92019226\n",
      "2335.19401249 2472.84533962 2307.21016988\n"
     ]
    },
    {
     "name": "stderr",
     "output_type": "stream",
     "text": [
      " 59%|█████▉    | 750/1261 [01:33<01:04,  7.91it/s]"
     ]
    },
    {
     "name": "stdout",
     "output_type": "stream",
     "text": [
      "2575.50541462 2491.33901005 2543.3698932\n",
      "2227.39224968 3024.47064926 2218.54891717\n"
     ]
    },
    {
     "name": "stderr",
     "output_type": "stream",
     "text": [
      " 60%|█████▉    | 752/1261 [01:33<01:06,  7.64it/s]"
     ]
    },
    {
     "name": "stdout",
     "output_type": "stream",
     "text": [
      "2231.74350995 3186.71743806 2226.50348614\n",
      "2720.97694515 52026.1644129 2768.98350701\n"
     ]
    },
    {
     "name": "stderr",
     "output_type": "stream",
     "text": [
      "\r",
      " 60%|█████▉    | 753/1261 [01:33<01:09,  7.35it/s]"
     ]
    },
    {
     "name": "stdout",
     "output_type": "stream",
     "text": [
      "2264.67297399 9719.38469803 2333.31630911\n",
      "2494.11147566 28513.6799137 2536.22785444\n",
      "2342.78872806 78530.7431378 2371.34764754\n"
     ]
    },
    {
     "name": "stderr",
     "output_type": "stream",
     "text": [
      " 60%|██████    | 757/1261 [01:33<01:02,  8.08it/s]"
     ]
    },
    {
     "name": "stdout",
     "output_type": "stream",
     "text": [
      "2191.61870774 27452.5543544 2230.15314994\n",
      "2232.49593037 6652.79506961 2297.3805455\n"
     ]
    },
    {
     "name": "stderr",
     "output_type": "stream",
     "text": [
      " 60%|██████    | 759/1261 [01:34<01:03,  7.89it/s]"
     ]
    },
    {
     "name": "stdout",
     "output_type": "stream",
     "text": [
      "2536.31899191 6121.56588125 2608.84007673\n",
      "2685.37777468 5205.59203951 2768.08367536\n"
     ]
    },
    {
     "name": "stderr",
     "output_type": "stream",
     "text": [
      " 60%|██████    | 761/1261 [01:34<01:04,  7.75it/s]"
     ]
    },
    {
     "name": "stdout",
     "output_type": "stream",
     "text": [
      "2658.53336496 24594.7600992 2705.333956\n",
      "2863.21003161 9119.78778949 2885.09117348\n"
     ]
    },
    {
     "name": "stderr",
     "output_type": "stream",
     "text": [
      " 61%|██████    | 763/1261 [01:34<01:03,  7.82it/s]"
     ]
    },
    {
     "name": "stdout",
     "output_type": "stream",
     "text": [
      "2729.48262174 14351.5084961 2767.07281553\n",
      "2625.14033376 4725.12801795 2645.52719767\n"
     ]
    },
    {
     "name": "stderr",
     "output_type": "stream",
     "text": [
      " 61%|██████    | 765/1261 [01:34<01:03,  7.85it/s]"
     ]
    },
    {
     "name": "stdout",
     "output_type": "stream",
     "text": [
      "2393.09186536 18433.951419 2430.49498193\n",
      "2217.42145444 9405.13436453 2251.518091\n"
     ]
    },
    {
     "name": "stderr",
     "output_type": "stream",
     "text": [
      " 61%|██████    | 767/1261 [01:35<00:58,  8.42it/s]"
     ]
    },
    {
     "name": "stdout",
     "output_type": "stream",
     "text": [
      "1989.8605266 31666.1063978 2037.4769348\n",
      "1878.94197133 4374.23466278 1941.95115462\n"
     ]
    },
    {
     "name": "stderr",
     "output_type": "stream",
     "text": [
      " 61%|██████    | 769/1261 [01:35<01:00,  8.10it/s]"
     ]
    },
    {
     "name": "stdout",
     "output_type": "stream",
     "text": [
      "1519.32948046 3581.47037683 1571.82228089\n",
      "1421.46819443 2930.92747496 1474.79485279\n"
     ]
    },
    {
     "name": "stderr",
     "output_type": "stream",
     "text": [
      " 61%|██████    | 771/1261 [01:35<01:00,  8.07it/s]"
     ]
    },
    {
     "name": "stdout",
     "output_type": "stream",
     "text": [
      "1410.19497955 2366.04885899 1473.72491181\n",
      "1450.49262899 3008.02536608 1497.24710017\n"
     ]
    },
    {
     "name": "stderr",
     "output_type": "stream",
     "text": [
      "\r",
      " 61%|██████▏   | 773/1261 [01:35<00:57,  8.48it/s]"
     ]
    },
    {
     "name": "stdout",
     "output_type": "stream",
     "text": [
      "1546.37537765 3815.25792197 1587.0710924\n",
      "1507.62598392 4271.10535667 1542.65380235\n"
     ]
    },
    {
     "name": "stderr",
     "output_type": "stream",
     "text": [
      " 61%|██████▏   | 775/1261 [01:36<00:58,  8.27it/s]"
     ]
    },
    {
     "name": "stdout",
     "output_type": "stream",
     "text": [
      "1374.84542392 69524.6254328 1390.15311314\n",
      "1381.31010157 14872.8615106 1398.70956588\n"
     ]
    },
    {
     "name": "stderr",
     "output_type": "stream",
     "text": [
      " 62%|██████▏   | 777/1261 [01:36<00:58,  8.31it/s]"
     ]
    },
    {
     "name": "stdout",
     "output_type": "stream",
     "text": [
      "1556.96926371 11402.2149544 1580.12451267\n",
      "1611.00998618 4077.51681463 1652.91840653\n"
     ]
    },
    {
     "name": "stderr",
     "output_type": "stream",
     "text": [
      " 62%|██████▏   | 779/1261 [01:36<01:01,  7.85it/s]"
     ]
    },
    {
     "name": "stdout",
     "output_type": "stream",
     "text": [
      "1779.37118297 7077.23740371 1806.04280889\n",
      "1650.03007842 5995.48133415 1677.25720688\n"
     ]
    },
    {
     "name": "stderr",
     "output_type": "stream",
     "text": [
      " 62%|██████▏   | 781/1261 [01:36<01:01,  7.86it/s]"
     ]
    },
    {
     "name": "stdout",
     "output_type": "stream",
     "text": [
      "1782.27890911 6426.7011651 1808.34362154\n",
      "2009.0345743 34364.6389588 2018.91716931\n"
     ]
    },
    {
     "name": "stderr",
     "output_type": "stream",
     "text": [
      " 62%|██████▏   | 783/1261 [01:37<01:01,  7.83it/s]"
     ]
    },
    {
     "name": "stdout",
     "output_type": "stream",
     "text": [
      "2312.61907604 6710.82135248 2340.27993494\n",
      "2352.21467656 8864.0018086 2347.89927005\n"
     ]
    },
    {
     "name": "stderr",
     "output_type": "stream",
     "text": [
      " 62%|██████▏   | 785/1261 [01:37<00:56,  8.38it/s]"
     ]
    },
    {
     "name": "stdout",
     "output_type": "stream",
     "text": [
      "2306.15316885 7264.44408376 2304.74292453\n",
      "2321.09849073 8583.6368313 2324.92258477\n"
     ]
    },
    {
     "name": "stderr",
     "output_type": "stream",
     "text": [
      " 62%|██████▏   | 787/1261 [01:37<00:58,  8.14it/s]"
     ]
    },
    {
     "name": "stdout",
     "output_type": "stream",
     "text": [
      "2677.28444271 7023.02872215 2671.72232091\n",
      "2395.95839872 6939.14842322 2396.11747393\n"
     ]
    },
    {
     "name": "stderr",
     "output_type": "stream",
     "text": [
      " 63%|██████▎   | 789/1261 [01:37<00:57,  8.25it/s]"
     ]
    },
    {
     "name": "stdout",
     "output_type": "stream",
     "text": [
      "2613.62647011 3907.60696189 2688.97689737\n",
      "2162.27585667 4625.08013292 2210.59036555\n"
     ]
    },
    {
     "name": "stderr",
     "output_type": "stream",
     "text": [
      " 63%|██████▎   | 791/1261 [01:38<00:58,  7.97it/s]"
     ]
    },
    {
     "name": "stdout",
     "output_type": "stream",
     "text": [
      "2024.8891333 30030.9175345 2043.27598963\n",
      "1931.3892985 13137.4495216 1953.61401947\n"
     ]
    },
    {
     "name": "stderr",
     "output_type": "stream",
     "text": [
      " 63%|██████▎   | 793/1261 [01:38<01:00,  7.73it/s]"
     ]
    },
    {
     "name": "stdout",
     "output_type": "stream",
     "text": [
      "1743.03471107 7104.04000117 1769.92560081\n",
      "1916.79444965 5504.43453155 1919.00111539\n"
     ]
    },
    {
     "name": "stderr",
     "output_type": "stream",
     "text": [
      " 63%|██████▎   | 795/1261 [01:38<00:59,  7.79it/s]"
     ]
    },
    {
     "name": "stdout",
     "output_type": "stream",
     "text": [
      "2134.47469846 3184.47417969 2125.59573013\n",
      "2526.20096694 4057.16443268 2511.19955535\n"
     ]
    },
    {
     "name": "stderr",
     "output_type": "stream",
     "text": [
      " 63%|██████▎   | 797/1261 [01:38<01:00,  7.67it/s]"
     ]
    },
    {
     "name": "stdout",
     "output_type": "stream",
     "text": [
      "2960.52790872 2362.66557455 2918.52474854\n",
      "3237.46349301 2477.42045596 3193.68822754\n"
     ]
    },
    {
     "name": "stderr",
     "output_type": "stream",
     "text": [
      " 63%|██████▎   | 799/1261 [01:39<01:01,  7.50it/s]"
     ]
    },
    {
     "name": "stdout",
     "output_type": "stream",
     "text": [
      "3327.19572001 2792.52115863 3292.19762608\n",
      "3800.11464999 6130.04465357 3782.2957829\n"
     ]
    },
    {
     "name": "stderr",
     "output_type": "stream",
     "text": [
      " 64%|██████▎   | 801/1261 [01:39<00:59,  7.70it/s]"
     ]
    },
    {
     "name": "stdout",
     "output_type": "stream",
     "text": [
      "4775.47249449 40188.6858039 4798.75432791\n",
      "4652.81975588 23142.7187238 4689.25521305\n"
     ]
    },
    {
     "name": "stderr",
     "output_type": "stream",
     "text": [
      " 64%|██████▎   | 803/1261 [01:39<00:54,  8.43it/s]"
     ]
    },
    {
     "name": "stdout",
     "output_type": "stream",
     "text": [
      "4827.1197186 16938.7049254 4870.57774708\n",
      "5743.28863745 11990.1411976 5798.42339034\n"
     ]
    },
    {
     "name": "stderr",
     "output_type": "stream",
     "text": [
      "\r",
      " 64%|██████▍   | 804/1261 [01:39<00:55,  8.17it/s]"
     ]
    },
    {
     "name": "stdout",
     "output_type": "stream",
     "text": [
      "4256.5720765 1962.81183147 4212.3408569\n",
      "4153.59087705 1358.38551088 4108.50593938\n"
     ]
    },
    {
     "name": "stderr",
     "output_type": "stream",
     "text": [
      " 64%|██████▍   | 807/1261 [01:40<00:54,  8.27it/s]"
     ]
    },
    {
     "name": "stdout",
     "output_type": "stream",
     "text": [
      "3924.73944338 27033.3618081 3923.79328051\n",
      "4258.17213099 6923.78030353 4244.72144976\n"
     ]
    },
    {
     "name": "stderr",
     "output_type": "stream",
     "text": [
      " 64%|██████▍   | 809/1261 [01:40<00:54,  8.33it/s]"
     ]
    },
    {
     "name": "stdout",
     "output_type": "stream",
     "text": [
      "4143.26133746 4377.93908223 4121.97258333\n",
      "3504.59489775 3736.90517346 3499.8760369\n"
     ]
    },
    {
     "name": "stderr",
     "output_type": "stream",
     "text": [
      " 64%|██████▍   | 811/1261 [01:40<00:51,  8.72it/s]"
     ]
    },
    {
     "name": "stdout",
     "output_type": "stream",
     "text": [
      "2723.74399163 7543.95797566 2726.77998064\n",
      "2518.84330608 27264.3008542 2521.65795111\n"
     ]
    },
    {
     "name": "stderr",
     "output_type": "stream",
     "text": [
      " 64%|██████▍   | 813/1261 [01:40<00:53,  8.33it/s]"
     ]
    },
    {
     "name": "stdout",
     "output_type": "stream",
     "text": [
      "2524.85495897 4874.89484451 2538.9620926\n",
      "2406.79651087 7631.32293462 2407.05115251\n"
     ]
    },
    {
     "name": "stderr",
     "output_type": "stream",
     "text": [
      " 65%|██████▍   | 815/1261 [01:41<00:54,  8.20it/s]"
     ]
    },
    {
     "name": "stdout",
     "output_type": "stream",
     "text": [
      "2098.95112799 73190.9265722 2086.44999571\n",
      "1926.23653467 3104.78417078 1920.1644898\n"
     ]
    },
    {
     "name": "stderr",
     "output_type": "stream",
     "text": [
      " 65%|██████▍   | 817/1261 [01:41<00:55,  8.04it/s]"
     ]
    },
    {
     "name": "stdout",
     "output_type": "stream",
     "text": [
      "1652.89616018 1161.55459594 1713.0998824\n",
      "1700.15623624 1198.02799538 1752.6318146\n"
     ]
    },
    {
     "name": "stderr",
     "output_type": "stream",
     "text": [
      " 65%|██████▍   | 819/1261 [01:41<00:53,  8.27it/s]"
     ]
    },
    {
     "name": "stdout",
     "output_type": "stream",
     "text": [
      "1652.34199677 1665.63761812 1673.53400095\n",
      "1756.38467076 1616.69049109 1775.70315564\n"
     ]
    },
    {
     "name": "stderr",
     "output_type": "stream",
     "text": [
      " 65%|██████▌   | 821/1261 [01:41<00:52,  8.41it/s]"
     ]
    },
    {
     "name": "stdout",
     "output_type": "stream",
     "text": [
      "1823.9021572 1464.81223007 1842.90734475\n",
      "2109.16840922 1386.71778691 2128.8057733\n"
     ]
    },
    {
     "name": "stderr",
     "output_type": "stream",
     "text": [
      " 65%|██████▌   | 823/1261 [01:42<00:51,  8.54it/s]"
     ]
    },
    {
     "name": "stdout",
     "output_type": "stream",
     "text": [
      "2292.21100761 1525.10116727 2303.24069743\n",
      "2496.85998888 1830.45294531 2499.2239277\n"
     ]
    },
    {
     "name": "stderr",
     "output_type": "stream",
     "text": [
      " 65%|██████▌   | 825/1261 [01:42<00:50,  8.68it/s]"
     ]
    },
    {
     "name": "stdout",
     "output_type": "stream",
     "text": [
      "3203.18047495 3613.70713042 3203.85928243\n",
      "3468.21345497 3146.02147615 3462.19156215\n"
     ]
    },
    {
     "name": "stderr",
     "output_type": "stream",
     "text": [
      " 66%|██████▌   | 827/1261 [01:42<00:54,  7.95it/s]"
     ]
    },
    {
     "name": "stdout",
     "output_type": "stream",
     "text": [
      "3577.93131551 1819.43487739 3561.70249068\n",
      "3058.35339538 1663.67573251 3051.01768087\n"
     ]
    },
    {
     "name": "stderr",
     "output_type": "stream",
     "text": [
      " 66%|██████▌   | 829/1261 [01:42<00:51,  8.36it/s]"
     ]
    },
    {
     "name": "stdout",
     "output_type": "stream",
     "text": [
      "3489.34695763 1103.87217494 3495.39102047\n",
      "3433.48396848 1127.48190594 3436.663934\n"
     ]
    },
    {
     "name": "stderr",
     "output_type": "stream",
     "text": [
      " 66%|██████▌   | 831/1261 [01:43<00:50,  8.52it/s]"
     ]
    },
    {
     "name": "stdout",
     "output_type": "stream",
     "text": [
      "3406.84987671 1184.66554637 3403.82064154\n",
      "2896.5308775 1965.01999742 2894.12699898\n"
     ]
    },
    {
     "name": "stderr",
     "output_type": "stream",
     "text": [
      " 66%|██████▌   | 833/1261 [01:43<00:49,  8.66it/s]"
     ]
    },
    {
     "name": "stdout",
     "output_type": "stream",
     "text": [
      "2785.55423695 1648.85231272 2786.24130326\n",
      "2538.77841908 1588.2045361 2540.68278256\n"
     ]
    },
    {
     "name": "stderr",
     "output_type": "stream",
     "text": [
      " 66%|██████▌   | 835/1261 [01:43<00:51,  8.25it/s]"
     ]
    },
    {
     "name": "stdout",
     "output_type": "stream",
     "text": [
      "2316.62844219 1625.47405546 2316.27818257\n",
      "2322.63510398 1624.71323478 2322.01656024\n"
     ]
    },
    {
     "name": "stderr",
     "output_type": "stream",
     "text": [
      " 66%|██████▋   | 837/1261 [01:43<00:52,  8.15it/s]"
     ]
    },
    {
     "name": "stdout",
     "output_type": "stream",
     "text": [
      "2263.50868685 5126.1211099 2261.154669\n",
      "2277.17123678 5424.82383337 2271.08713597\n"
     ]
    },
    {
     "name": "stderr",
     "output_type": "stream",
     "text": [
      " 67%|██████▋   | 839/1261 [01:44<00:52,  8.07it/s]"
     ]
    },
    {
     "name": "stdout",
     "output_type": "stream",
     "text": [
      "2240.91767191 2672.55921665 2232.78233334\n",
      "2108.830633 2068.90692079 2100.68013271\n"
     ]
    },
    {
     "name": "stderr",
     "output_type": "stream",
     "text": [
      " 67%|██████▋   | 841/1261 [01:44<00:54,  7.72it/s]"
     ]
    },
    {
     "name": "stdout",
     "output_type": "stream",
     "text": [
      "1653.53798028 1456.82933911 1647.4449388\n",
      "1719.26501547 1269.19899596 1717.70164464\n"
     ]
    },
    {
     "name": "stderr",
     "output_type": "stream",
     "text": [
      " 67%|██████▋   | 843/1261 [01:44<00:52,  7.99it/s]"
     ]
    },
    {
     "name": "stdout",
     "output_type": "stream",
     "text": [
      "1702.09421417 1336.99544254 1690.60018725\n",
      "1639.31376499 1251.17930524 1628.27789764\n"
     ]
    },
    {
     "name": "stderr",
     "output_type": "stream",
     "text": [
      " 67%|██████▋   | 845/1261 [01:44<00:53,  7.80it/s]"
     ]
    },
    {
     "name": "stdout",
     "output_type": "stream",
     "text": [
      "1750.80098706 2479.58295545 1727.78107897\n",
      "1759.74268331 2023.82739859 1743.51828173\n"
     ]
    },
    {
     "name": "stderr",
     "output_type": "stream",
     "text": [
      " 67%|██████▋   | 847/1261 [01:45<00:53,  7.74it/s]"
     ]
    },
    {
     "name": "stdout",
     "output_type": "stream",
     "text": [
      "1920.67411775 1953.48730539 1915.18548686\n",
      "1652.1780974 1566.36541103 1642.13141404\n"
     ]
    },
    {
     "name": "stderr",
     "output_type": "stream",
     "text": [
      " 67%|██████▋   | 849/1261 [01:45<00:50,  8.21it/s]"
     ]
    },
    {
     "name": "stdout",
     "output_type": "stream",
     "text": [
      "1696.62589054 3383.23730817 1689.9426552\n",
      "1817.66101672 34440.2064883 1831.95792287\n"
     ]
    },
    {
     "name": "stderr",
     "output_type": "stream",
     "text": [
      " 67%|██████▋   | 851/1261 [01:45<00:49,  8.30it/s]"
     ]
    },
    {
     "name": "stdout",
     "output_type": "stream",
     "text": [
      "1771.70973425 8495.8987999 1784.38464213\n",
      "1690.00604894 33038.056605 1709.92336252\n"
     ]
    },
    {
     "name": "stderr",
     "output_type": "stream",
     "text": [
      " 68%|██████▊   | 853/1261 [01:45<00:50,  8.07it/s]"
     ]
    },
    {
     "name": "stdout",
     "output_type": "stream",
     "text": [
      "1679.31533864 7246.95807459 1694.1517199\n",
      "1728.39000461 2164.14820681 1732.43240604\n"
     ]
    },
    {
     "name": "stderr",
     "output_type": "stream",
     "text": [
      " 68%|██████▊   | 855/1261 [01:46<00:50,  8.07it/s]"
     ]
    },
    {
     "name": "stdout",
     "output_type": "stream",
     "text": [
      "1902.40956104 2183.28552932 1909.55987872\n",
      "2261.2829708 1989.83123253 2270.54547383\n"
     ]
    },
    {
     "name": "stderr",
     "output_type": "stream",
     "text": [
      " 68%|██████▊   | 857/1261 [01:46<00:50,  8.05it/s]"
     ]
    },
    {
     "name": "stdout",
     "output_type": "stream",
     "text": [
      "2960.53134806 2810.59840051 2983.65744461\n",
      "3429.5907757 6084.7667506 3478.3425707\n"
     ]
    },
    {
     "name": "stderr",
     "output_type": "stream",
     "text": [
      " 68%|██████▊   | 859/1261 [01:46<00:51,  7.79it/s]"
     ]
    },
    {
     "name": "stdout",
     "output_type": "stream",
     "text": [
      "4963.08858373 2790.09774263 4965.52452973\n",
      "4128.61321617 3223.24850661 4152.91102142\n"
     ]
    },
    {
     "name": "stderr",
     "output_type": "stream",
     "text": [
      " 68%|██████▊   | 861/1261 [01:46<00:49,  8.15it/s]"
     ]
    },
    {
     "name": "stdout",
     "output_type": "stream",
     "text": [
      "3860.99790237 26389.9640741 3951.04855773\n",
      "4208.06989323 7016.09332158 4261.78473056\n"
     ]
    },
    {
     "name": "stderr",
     "output_type": "stream",
     "text": [
      " 68%|██████▊   | 863/1261 [01:47<00:47,  8.36it/s]"
     ]
    },
    {
     "name": "stdout",
     "output_type": "stream",
     "text": [
      "3288.15526514 4272.18981352 3320.30959156\n",
      "3148.539566 3949.11814493 3177.66986453\n"
     ]
    },
    {
     "name": "stderr",
     "output_type": "stream",
     "text": [
      " 69%|██████▊   | 865/1261 [01:47<00:52,  7.53it/s]"
     ]
    },
    {
     "name": "stdout",
     "output_type": "stream",
     "text": [
      "2306.56920566 3740.98611829 2324.62585205\n",
      "2211.12488523 2293.97300863 2215.87595106\n"
     ]
    },
    {
     "name": "stderr",
     "output_type": "stream",
     "text": [
      " 69%|██████▉   | 867/1261 [01:47<00:51,  7.61it/s]"
     ]
    },
    {
     "name": "stdout",
     "output_type": "stream",
     "text": [
      "2250.82006414 1574.84848154 2252.20902763\n",
      "2312.92291451 1494.3296694 2314.00141698\n"
     ]
    },
    {
     "name": "stderr",
     "output_type": "stream",
     "text": [
      " 69%|██████▉   | 869/1261 [01:47<00:49,  7.95it/s]"
     ]
    },
    {
     "name": "stdout",
     "output_type": "stream",
     "text": [
      "2794.11092892 1742.88780297 2802.32248408\n",
      "3014.30681786 2665.99115657 3034.89195223\n"
     ]
    },
    {
     "name": "stderr",
     "output_type": "stream",
     "text": [
      " 69%|██████▉   | 871/1261 [01:48<00:47,  8.18it/s]"
     ]
    },
    {
     "name": "stdout",
     "output_type": "stream",
     "text": [
      "3762.3206315 2636.10705194 3790.90168987\n",
      "3327.87039295 3083.30072449 3372.68419358\n"
     ]
    },
    {
     "name": "stderr",
     "output_type": "stream",
     "text": [
      " 69%|██████▉   | 873/1261 [01:48<00:47,  8.21it/s]"
     ]
    },
    {
     "name": "stdout",
     "output_type": "stream",
     "text": [
      "3581.31154489 3167.55188481 3636.01764945\n",
      "3263.46365291 10592.475112 3399.14982427\n"
     ]
    },
    {
     "name": "stderr",
     "output_type": "stream",
     "text": [
      " 69%|██████▉   | 875/1261 [01:48<00:47,  8.08it/s]"
     ]
    },
    {
     "name": "stdout",
     "output_type": "stream",
     "text": [
      "3390.57991859 8211.14487597 3530.55950214\n",
      "2953.43538718 4106.06843758 3110.14856391\n"
     ]
    },
    {
     "name": "stderr",
     "output_type": "stream",
     "text": [
      " 70%|██████▉   | 877/1261 [01:48<00:45,  8.42it/s]"
     ]
    },
    {
     "name": "stdout",
     "output_type": "stream",
     "text": [
      "2440.20035912 767295.898571 2505.29192534\n",
      "2095.35679928 39724.7405642 2132.72359937\n"
     ]
    },
    {
     "name": "stderr",
     "output_type": "stream",
     "text": [
      "\r",
      " 70%|██████▉   | 879/1261 [01:48<00:43,  8.81it/s]"
     ]
    },
    {
     "name": "stdout",
     "output_type": "stream",
     "text": [
      "2137.78318773 7233.31839375 2165.17313606\n",
      "2328.31020539 2793.2642467 2348.63130512\n"
     ]
    },
    {
     "name": "stderr",
     "output_type": "stream",
     "text": [
      " 70%|██████▉   | 881/1261 [01:49<00:41,  9.09it/s]"
     ]
    },
    {
     "name": "stdout",
     "output_type": "stream",
     "text": [
      "2385.85758187 2214.78264202 2403.7414617\n",
      "2401.02133875 10070.9278015 2449.84768084\n"
     ]
    },
    {
     "name": "stderr",
     "output_type": "stream",
     "text": [
      " 70%|███████   | 883/1261 [01:49<00:42,  8.98it/s]"
     ]
    },
    {
     "name": "stdout",
     "output_type": "stream",
     "text": [
      "2326.72411686 15640.781561 2403.54867495\n",
      "2149.00984233 19603.3606249 2218.95993261\n"
     ]
    },
    {
     "name": "stderr",
     "output_type": "stream",
     "text": [
      " 70%|███████   | 885/1261 [01:49<00:45,  8.33it/s]"
     ]
    },
    {
     "name": "stdout",
     "output_type": "stream",
     "text": [
      "1862.1249859 27313.5372056 1904.15539584\n",
      "1853.96316285 4004.99811526 1934.39407705\n"
     ]
    },
    {
     "name": "stderr",
     "output_type": "stream",
     "text": [
      " 70%|███████   | 887/1261 [01:49<00:43,  8.56it/s]"
     ]
    },
    {
     "name": "stdout",
     "output_type": "stream",
     "text": [
      "2083.80999663 575072.412924 2134.72797421\n",
      "2220.71579473 7981.50212772 2253.43094618\n"
     ]
    },
    {
     "name": "stderr",
     "output_type": "stream",
     "text": [
      " 70%|███████   | 889/1261 [01:50<00:43,  8.47it/s]"
     ]
    },
    {
     "name": "stdout",
     "output_type": "stream",
     "text": [
      "2350.24459951 2246.21252273 2351.48480884\n",
      "2545.53387412 1535.77968497 2529.14384171\n"
     ]
    },
    {
     "name": "stderr",
     "output_type": "stream",
     "text": [
      " 71%|███████   | 891/1261 [01:50<00:43,  8.42it/s]"
     ]
    },
    {
     "name": "stdout",
     "output_type": "stream",
     "text": [
      "3037.28959699 1930.14252006 3029.66638161\n",
      "4113.41924463 1568.39236604 4076.78612634\n"
     ]
    },
    {
     "name": "stderr",
     "output_type": "stream",
     "text": [
      "\r",
      " 71%|███████   | 893/1261 [01:50<00:41,  8.83it/s]"
     ]
    },
    {
     "name": "stdout",
     "output_type": "stream",
     "text": [
      "3612.32288144 4541.53997823 3648.46705503\n",
      "3948.51568527 3079.26354827 3967.22261519\n"
     ]
    },
    {
     "name": "stderr",
     "output_type": "stream",
     "text": [
      " 71%|███████   | 895/1261 [01:50<00:44,  8.15it/s]"
     ]
    },
    {
     "name": "stdout",
     "output_type": "stream",
     "text": [
      "5471.30686816 4244.0286458 5526.72352817\n",
      "6605.47059722 2558.61870021 6599.22880264\n"
     ]
    },
    {
     "name": "stderr",
     "output_type": "stream",
     "text": [
      " 71%|███████   | 897/1261 [01:51<00:43,  8.37it/s]"
     ]
    },
    {
     "name": "stdout",
     "output_type": "stream",
     "text": [
      "7118.30286599 12691.6079933 7344.66000543\n",
      "7098.99627043 8878.47417584 7352.31621791\n"
     ]
    },
    {
     "name": "stderr",
     "output_type": "stream",
     "text": [
      " 71%|███████▏  | 899/1261 [01:51<00:40,  9.03it/s]"
     ]
    },
    {
     "name": "stdout",
     "output_type": "stream",
     "text": [
      "4866.73392534 2834.57231528 5230.29217387\n",
      "3668.21602191 3650.53223126 3872.03042936\n"
     ]
    },
    {
     "name": "stderr",
     "output_type": "stream",
     "text": [
      " 71%|███████▏  | 901/1261 [01:51<00:41,  8.64it/s]"
     ]
    },
    {
     "name": "stdout",
     "output_type": "stream",
     "text": [
      "3475.87106787 50931.2333138 3550.78552293\n",
      "3771.72860919 2401.73872085 3770.75698378\n"
     ]
    },
    {
     "name": "stderr",
     "output_type": "stream",
     "text": [
      " 72%|███████▏  | 903/1261 [01:51<00:39,  9.12it/s]"
     ]
    },
    {
     "name": "stdout",
     "output_type": "stream",
     "text": [
      "4032.30003012 2117.55478565 4030.46442568\n",
      "4599.83764546 11491.8833368 4666.73061764\n"
     ]
    },
    {
     "name": "stderr",
     "output_type": "stream",
     "text": [
      " 72%|███████▏  | 905/1261 [01:51<00:40,  8.74it/s]"
     ]
    },
    {
     "name": "stdout",
     "output_type": "stream",
     "text": [
      "4230.93224773 6281.44246295 4277.98718623\n",
      "3979.14906103 6059.35898283 4023.89408601\n"
     ]
    },
    {
     "name": "stderr",
     "output_type": "stream",
     "text": [
      " 72%|███████▏  | 907/1261 [01:52<00:40,  8.69it/s]"
     ]
    },
    {
     "name": "stdout",
     "output_type": "stream",
     "text": [
      "3778.92937981 4081.70044611 3812.66737548\n",
      "3639.04786605 2646.63361463 3658.48781298\n"
     ]
    },
    {
     "name": "stderr",
     "output_type": "stream",
     "text": [
      " 72%|███████▏  | 909/1261 [01:52<00:39,  8.89it/s]"
     ]
    },
    {
     "name": "stdout",
     "output_type": "stream",
     "text": [
      "3971.51174986 10190.7183283 4034.63377926\n",
      "3933.82820695 3369.46490325 3955.77547329\n"
     ]
    },
    {
     "name": "stderr",
     "output_type": "stream",
     "text": [
      " 72%|███████▏  | 911/1261 [01:52<00:39,  8.88it/s]"
     ]
    },
    {
     "name": "stdout",
     "output_type": "stream",
     "text": [
      "4044.66697644 2330.81267896 4048.95458921\n",
      "2517.026755 2275.05838568 2520.6246534\n"
     ]
    },
    {
     "name": "stderr",
     "output_type": "stream",
     "text": [
      " 72%|███████▏  | 913/1261 [01:52<00:39,  8.75it/s]"
     ]
    },
    {
     "name": "stdout",
     "output_type": "stream",
     "text": [
      "2179.60772167 1617.71221312 2177.4986035\n",
      "2281.69738708 1090.07584617 2285.78604138\n"
     ]
    },
    {
     "name": "stderr",
     "output_type": "stream",
     "text": [
      " 73%|███████▎  | 915/1261 [01:53<00:39,  8.67it/s]"
     ]
    },
    {
     "name": "stdout",
     "output_type": "stream",
     "text": [
      "2035.38583147 1390.5254186 2033.26354773\n",
      "1970.04361684 2351.36101554 1966.3290873\n"
     ]
    },
    {
     "name": "stderr",
     "output_type": "stream",
     "text": [
      " 73%|███████▎  | 917/1261 [01:53<00:39,  8.64it/s]"
     ]
    },
    {
     "name": "stdout",
     "output_type": "stream",
     "text": [
      "2013.46359512 1748.0883035 2010.3543221\n",
      "1988.36807747 2090.38563382 1984.83566713\n"
     ]
    },
    {
     "name": "stderr",
     "output_type": "stream",
     "text": [
      "\r",
      " 73%|███████▎  | 919/1261 [01:53<00:37,  9.05it/s]"
     ]
    },
    {
     "name": "stdout",
     "output_type": "stream",
     "text": [
      "2012.54340437 2484.57207017 2017.62233983\n",
      "2032.21457892 4672.3207532 2050.58622972\n",
      "1787.54573237 23123.4077004 1809.29913834\n"
     ]
    },
    {
     "name": "stderr",
     "output_type": "stream",
     "text": [
      " 73%|███████▎  | 922/1261 [01:53<00:36,  9.31it/s]"
     ]
    },
    {
     "name": "stdout",
     "output_type": "stream",
     "text": [
      "1783.22236813 14571.5513472 1805.41809011\n",
      "1749.27540565 7963.92685199 1766.64243604\n"
     ]
    },
    {
     "name": "stderr",
     "output_type": "stream",
     "text": [
      " 73%|███████▎  | 924/1261 [01:54<00:35,  9.42it/s]"
     ]
    },
    {
     "name": "stdout",
     "output_type": "stream",
     "text": [
      "1471.65000406 2702.32137481 1470.62785466\n",
      "1435.11547401 1773.24349586 1431.41293643\n",
      "1716.66221803 1377.80468488 1716.55142258\n"
     ]
    },
    {
     "name": "stderr",
     "output_type": "stream",
     "text": [
      " 74%|███████▎  | 927/1261 [01:54<00:35,  9.47it/s]"
     ]
    },
    {
     "name": "stdout",
     "output_type": "stream",
     "text": [
      "1889.07687916 2690.72971136 1897.8556741\n",
      "1921.93333511 2666.45361435 1931.76707515\n"
     ]
    },
    {
     "name": "stderr",
     "output_type": "stream",
     "text": [
      " 74%|███████▎  | 929/1261 [01:54<00:36,  9.10it/s]"
     ]
    },
    {
     "name": "stdout",
     "output_type": "stream",
     "text": [
      "2060.50273113 2377.57297965 2069.46662575\n",
      "2226.80636676 2770.22302701 2241.93664186\n"
     ]
    },
    {
     "name": "stderr",
     "output_type": "stream",
     "text": [
      "\r",
      " 74%|███████▍  | 931/1261 [01:54<00:34,  9.54it/s]"
     ]
    },
    {
     "name": "stdout",
     "output_type": "stream",
     "text": [
      "2447.02057385 5879.88700442 2487.6628698\n",
      "2485.78441989 1344003.03601 2543.76784092\n",
      "3349.96506649 9650.65135026 3398.4008255\n"
     ]
    },
    {
     "name": "stderr",
     "output_type": "stream",
     "text": [
      " 74%|███████▍  | 934/1261 [01:55<00:35,  9.24it/s]"
     ]
    },
    {
     "name": "stdout",
     "output_type": "stream",
     "text": [
      "3169.95435018 6391.5620304 3199.8093563\n",
      "3085.75219026 3019.63097947 3085.06669722\n"
     ]
    },
    {
     "name": "stderr",
     "output_type": "stream",
     "text": [
      " 74%|███████▍  | 936/1261 [01:55<00:35,  9.26it/s]"
     ]
    },
    {
     "name": "stdout",
     "output_type": "stream",
     "text": [
      "3127.22295258 1386.82350767 3080.07201544\n",
      "4688.53366844 1303.15008126 4582.41803243\n"
     ]
    },
    {
     "name": "stderr",
     "output_type": "stream",
     "text": [
      " 74%|███████▍  | 938/1261 [01:55<00:35,  9.18it/s]"
     ]
    },
    {
     "name": "stdout",
     "output_type": "stream",
     "text": [
      "4896.50231754 1307.67768987 4797.85707425\n",
      "4912.87171442 1901.31475351 4845.81683416\n"
     ]
    },
    {
     "name": "stderr",
     "output_type": "stream",
     "text": [
      " 75%|███████▍  | 940/1261 [01:55<00:34,  9.33it/s]"
     ]
    },
    {
     "name": "stdout",
     "output_type": "stream",
     "text": [
      "4651.05585855 1959.6179143 4610.68336989\n",
      "3617.32601826 1719.21800412 3595.85178173\n"
     ]
    },
    {
     "name": "stderr",
     "output_type": "stream",
     "text": [
      " 75%|███████▍  | 942/1261 [01:55<00:34,  9.14it/s]"
     ]
    },
    {
     "name": "stdout",
     "output_type": "stream",
     "text": [
      "2552.30670798 1365.68994759 2542.73870085\n",
      "2286.65829205 5319.46999639 2325.15004907\n"
     ]
    },
    {
     "name": "stderr",
     "output_type": "stream",
     "text": [
      " 75%|███████▍  | 944/1261 [01:56<00:36,  8.72it/s]"
     ]
    },
    {
     "name": "stdout",
     "output_type": "stream",
     "text": [
      "1877.384582 4908.52472383 1903.22560669\n",
      "1949.65040612 7215.26309936 1982.57330267\n"
     ]
    },
    {
     "name": "stderr",
     "output_type": "stream",
     "text": [
      " 75%|███████▌  | 947/1261 [01:56<00:32,  9.63it/s]"
     ]
    },
    {
     "name": "stdout",
     "output_type": "stream",
     "text": [
      "1705.58870208 3556.54677505 1719.4521472\n",
      "1482.16668269 3085.27285803 1488.42719091\n",
      "1574.12319769 4274.81391587 1588.43156009\n"
     ]
    },
    {
     "name": "stderr",
     "output_type": "stream",
     "text": [
      " 75%|███████▌  | 949/1261 [01:56<00:34,  9.11it/s]"
     ]
    },
    {
     "name": "stdout",
     "output_type": "stream",
     "text": [
      "1611.04978246 2223.51753411 1619.61710177\n",
      "1854.65996396 1510.19799749 1858.53671916\n"
     ]
    },
    {
     "name": "stderr",
     "output_type": "stream",
     "text": [
      "\r",
      " 75%|███████▌  | 951/1261 [01:56<00:33,  9.18it/s]"
     ]
    },
    {
     "name": "stdout",
     "output_type": "stream",
     "text": [
      "1969.03833328 3697.81866842 1996.76375286\n",
      "1999.86176886 5993.09429248 2035.63340288\n"
     ]
    },
    {
     "name": "stderr",
     "output_type": "stream",
     "text": [
      "\r",
      " 75%|███████▌  | 952/1261 [01:57<00:33,  9.33it/s]"
     ]
    },
    {
     "name": "stdout",
     "output_type": "stream",
     "text": [
      "2259.00759824 8003.73015041 2310.43548889\n",
      "2208.77350096 3820.4544447 2242.37216422\n",
      "2423.22440631 10491.8072876 2488.34482086\n"
     ]
    },
    {
     "name": "stderr",
     "output_type": "stream",
     "text": [
      " 76%|███████▌  | 956/1261 [01:57<00:31,  9.67it/s]"
     ]
    },
    {
     "name": "stdout",
     "output_type": "stream",
     "text": [
      "2552.42113909 7877.93916023 2673.16668226\n",
      "2397.5697352 9391.9858811 2492.50022702\n",
      "2369.453121"
     ]
    },
    {
     "name": "stderr",
     "output_type": "stream",
     "text": [
      "\r",
      " 76%|███████▌  | 958/1261 [01:57<00:32,  9.46it/s]"
     ]
    },
    {
     "name": "stdout",
     "output_type": "stream",
     "text": [
      " 3115.84577002 2538.40043338\n",
      "2561.49814438 7164.99920363 2669.93292476\n"
     ]
    },
    {
     "name": "stderr",
     "output_type": "stream",
     "text": [
      " 76%|███████▌  | 960/1261 [01:57<00:34,  8.76it/s]"
     ]
    },
    {
     "name": "stdout",
     "output_type": "stream",
     "text": [
      "2203.36166345 9663.90907202 2285.26306988\n",
      "2338.30259602 6408.7635072 2377.24197076\n"
     ]
    },
    {
     "name": "stderr",
     "output_type": "stream",
     "text": [
      " 76%|███████▋  | 962/1261 [01:58<00:35,  8.37it/s]"
     ]
    },
    {
     "name": "stdout",
     "output_type": "stream",
     "text": [
      "2335.42354108 8824.04792109 2380.73146513\n",
      "2560.70252665 66982.7220398 2620.60357151\n"
     ]
    },
    {
     "name": "stderr",
     "output_type": "stream",
     "text": [
      " 76%|███████▋  | 964/1261 [01:58<00:35,  8.26it/s]"
     ]
    },
    {
     "name": "stdout",
     "output_type": "stream",
     "text": [
      "2186.71928076 18581.9618562 2233.05082475\n",
      "2399.05244142 5329236.58137 2457.69129599\n"
     ]
    },
    {
     "name": "stderr",
     "output_type": "stream",
     "text": [
      " 77%|███████▋  | 966/1261 [01:58<00:34,  8.50it/s]"
     ]
    },
    {
     "name": "stdout",
     "output_type": "stream",
     "text": [
      "2292.01073347 3478.71746018 2417.13779486\n",
      "2502.23718646 2971.83204601 2643.90223824\n"
     ]
    },
    {
     "name": "stderr",
     "output_type": "stream",
     "text": [
      " 77%|███████▋  | 968/1261 [01:58<00:35,  8.30it/s]"
     ]
    },
    {
     "name": "stdout",
     "output_type": "stream",
     "text": [
      "2254.20944702 4048.67494971 2344.97652112\n",
      "2394.2787661 4599.69725931 2475.18097246\n"
     ]
    },
    {
     "name": "stderr",
     "output_type": "stream",
     "text": [
      " 77%|███████▋  | 970/1261 [01:59<00:34,  8.33it/s]"
     ]
    },
    {
     "name": "stdout",
     "output_type": "stream",
     "text": [
      "2072.93729631 7333.98935474 2128.81285237\n",
      "4213.14907883 7437.58957583 4298.52340165\n"
     ]
    },
    {
     "name": "stderr",
     "output_type": "stream",
     "text": [
      " 77%|███████▋  | 972/1261 [01:59<00:33,  8.52it/s]"
     ]
    },
    {
     "name": "stdout",
     "output_type": "stream",
     "text": [
      "3026.10500514 15220.1222152 3046.93337931\n",
      "4244.6830598 6980.30529573 4241.20746879\n"
     ]
    },
    {
     "name": "stderr",
     "output_type": "stream",
     "text": [
      " 77%|███████▋  | 974/1261 [01:59<00:35,  8.16it/s]"
     ]
    },
    {
     "name": "stdout",
     "output_type": "stream",
     "text": [
      "5916.82935611 3187.84920205 5834.64185366\n",
      "6243.62612717 7348.80390587 6246.91263318\n"
     ]
    },
    {
     "name": "stderr",
     "output_type": "stream",
     "text": [
      " 77%|███████▋  | 976/1261 [01:59<00:35,  8.11it/s]"
     ]
    },
    {
     "name": "stdout",
     "output_type": "stream",
     "text": [
      "4646.71500357 11892.1506698 4674.56773357\n",
      "7035.58567657 5287.8880412 7010.14172035\n"
     ]
    },
    {
     "name": "stderr",
     "output_type": "stream",
     "text": [
      " 78%|███████▊  | 978/1261 [02:00<00:34,  8.26it/s]"
     ]
    },
    {
     "name": "stdout",
     "output_type": "stream",
     "text": [
      "10574.3586042 194738.677992 10685.6026847\n",
      "12084.3599432 7270.71670618 12284.9549461\n"
     ]
    },
    {
     "name": "stderr",
     "output_type": "stream",
     "text": [
      " 78%|███████▊  | 980/1261 [02:00<00:32,  8.61it/s]"
     ]
    },
    {
     "name": "stdout",
     "output_type": "stream",
     "text": [
      "61173.5847326 5774.89704509 62273.0119696\n",
      "3472.95296963 10984.3408048 3525.91533202\n"
     ]
    },
    {
     "name": "stderr",
     "output_type": "stream",
     "text": [
      " 78%|███████▊  | 982/1261 [02:00<00:32,  8.64it/s]"
     ]
    },
    {
     "name": "stdout",
     "output_type": "stream",
     "text": [
      "4136.54336477 3099.89514127 4280.16949029\n",
      "3316.38392503 144101.724373 3351.24416578\n"
     ]
    },
    {
     "name": "stderr",
     "output_type": "stream",
     "text": [
      " 78%|███████▊  | 984/1261 [02:00<00:33,  8.38it/s]"
     ]
    },
    {
     "name": "stdout",
     "output_type": "stream",
     "text": [
      "2377.11035742 7080.28656034 2386.40105357\n",
      "2839.3039015 10915.8722249 2853.21320985\n"
     ]
    },
    {
     "name": "stderr",
     "output_type": "stream",
     "text": [
      " 78%|███████▊  | 986/1261 [02:01<00:33,  8.19it/s]"
     ]
    },
    {
     "name": "stdout",
     "output_type": "stream",
     "text": [
      "2777.63313797 4412.76825457 2814.92606569\n",
      "5157.48476462 3659.64556405 5160.17415253\n"
     ]
    },
    {
     "name": "stderr",
     "output_type": "stream",
     "text": [
      " 78%|███████▊  | 988/1261 [02:01<00:31,  8.62it/s]"
     ]
    },
    {
     "name": "stdout",
     "output_type": "stream",
     "text": [
      "11671.9263166 3655.59430398 11652.9250519\n",
      "3849.52929435 1131.21142818 3874.77869415\n"
     ]
    },
    {
     "name": "stderr",
     "output_type": "stream",
     "text": [
      " 79%|███████▊  | 990/1261 [02:01<00:30,  8.96it/s]"
     ]
    },
    {
     "name": "stdout",
     "output_type": "stream",
     "text": [
      "14563.5529048 1078.93723097 14588.9897369\n",
      "184098.922034 3927.20941054 186076.157139\n"
     ]
    },
    {
     "name": "stderr",
     "output_type": "stream",
     "text": [
      "\r",
      " 79%|███████▊  | 991/1261 [02:01<00:29,  9.19it/s]"
     ]
    },
    {
     "name": "stdout",
     "output_type": "stream",
     "text": [
      "8943.33260448 867.939027192 9042.55008721\n",
      "4071.50019712 835.171809268 4136.07238297\n",
      "5583.47778958 5293.63607448 5600.14025986\n"
     ]
    },
    {
     "name": "stderr",
     "output_type": "stream",
     "text": [
      " 79%|███████▉  | 995/1261 [02:01<00:27,  9.63it/s]"
     ]
    },
    {
     "name": "stdout",
     "output_type": "stream",
     "text": [
      "6978.95354568 751416.371131 7044.87239404\n",
      "2302.75111754 3066.89402922 2284.24816867\n"
     ]
    },
    {
     "name": "stderr",
     "output_type": "stream",
     "text": [
      " 79%|███████▉  | 997/1261 [02:02<00:28,  9.33it/s]"
     ]
    },
    {
     "name": "stdout",
     "output_type": "stream",
     "text": [
      "1648.61314928 2554.1699994 1617.07870291\n",
      "1087.48405093 2176.39896502 1023.78068503\n"
     ]
    },
    {
     "name": "stderr",
     "output_type": "stream",
     "text": [
      "\r",
      " 79%|███████▉  | 999/1261 [02:02<00:27,  9.66it/s]"
     ]
    },
    {
     "name": "stdout",
     "output_type": "stream",
     "text": [
      "1059.31749272 2326.65209465 999.401615497\n",
      "1202.13433026 3244.30276745 1145.77019729\n",
      "1592.22379748 1157.85508959 1578.55820966\n"
     ]
    },
    {
     "name": "stderr",
     "output_type": "stream",
     "text": [
      "\r",
      " 79%|███████▉  | 1001/1261 [02:02<00:26,  9.84it/s]"
     ]
    },
    {
     "name": "stdout",
     "output_type": "stream",
     "text": [
      "1788.75372946 352.606435841 1798.05721196\n",
      "1960.05046191 200.754525448 2222.32220618\n",
      "3447.51320897 6042.35785938 3438.38533484\n"
     ]
    },
    {
     "name": "stderr",
     "output_type": "stream",
     "text": [
      " 80%|███████▉  | 1005/1261 [02:02<00:26,  9.70it/s]"
     ]
    },
    {
     "name": "stdout",
     "output_type": "stream",
     "text": [
      "3216.32041751 1263.02660256 3165.70227828\n",
      "2554.31794968 2886.48427847 2499.56489294\n"
     ]
    },
    {
     "name": "stderr",
     "output_type": "stream",
     "text": [
      " 80%|███████▉  | 1007/1261 [02:03<00:28,  8.83it/s]"
     ]
    },
    {
     "name": "stdout",
     "output_type": "stream",
     "text": [
      "3423.92597881 1483.95267737 3432.09174224\n",
      "3037.36526027 1686.12028679 3040.09412957\n"
     ]
    },
    {
     "name": "stderr",
     "output_type": "stream",
     "text": [
      " 80%|████████  | 1009/1261 [02:03<00:28,  8.81it/s]"
     ]
    },
    {
     "name": "stdout",
     "output_type": "stream",
     "text": [
      "2536.04374703 940.387848964 2573.62363546\n",
      "2808.59545354 971.786033623 2831.76798198\n"
     ]
    },
    {
     "name": "stderr",
     "output_type": "stream",
     "text": [
      " 80%|████████  | 1011/1261 [02:03<00:28,  8.74it/s]"
     ]
    },
    {
     "name": "stdout",
     "output_type": "stream",
     "text": [
      "2318.96345006 1184.087719 2325.88770388\n",
      "1831.70027073 1240.54585705 1835.5509792\n"
     ]
    },
    {
     "name": "stderr",
     "output_type": "stream",
     "text": [
      "\r",
      " 80%|████████  | 1013/1261 [02:03<00:28,  8.84it/s]"
     ]
    },
    {
     "name": "stdout",
     "output_type": "stream",
     "text": [
      "14411.8483085 1473.01649945 14367.8891614\n",
      "6627.27449934 1299.85464681 6598.32440286\n"
     ]
    },
    {
     "name": "stderr",
     "output_type": "stream",
     "text": [
      "\r",
      " 80%|████████  | 1015/1261 [02:04<00:26,  9.24it/s]"
     ]
    },
    {
     "name": "stdout",
     "output_type": "stream",
     "text": [
      "9265.2578745 1726.32120546 9254.0459619\n",
      "6770.40161239 1218.87502198 6761.73220929\n"
     ]
    },
    {
     "name": "stderr",
     "output_type": "stream",
     "text": [
      " 81%|████████  | 1017/1261 [02:04<00:29,  8.35it/s]"
     ]
    },
    {
     "name": "stdout",
     "output_type": "stream",
     "text": [
      "8952.65814896 858.49722762 9054.13570188\n",
      "4277.06499956 1445.4059807 4255.87901682\n"
     ]
    },
    {
     "name": "stderr",
     "output_type": "stream",
     "text": [
      " 81%|████████  | 1019/1261 [02:04<00:28,  8.38it/s]"
     ]
    },
    {
     "name": "stdout",
     "output_type": "stream",
     "text": [
      "2495.29464998 2784.05049469 2475.30130454\n",
      "5015.04182782 2694.94508803 5026.25598128\n"
     ]
    },
    {
     "name": "stderr",
     "output_type": "stream",
     "text": [
      " 81%|████████  | 1021/1261 [02:04<00:27,  8.72it/s]"
     ]
    },
    {
     "name": "stdout",
     "output_type": "stream",
     "text": [
      "5438.28702427 9237.44653909 5500.78340443\n",
      "3551.72553796 1839.4901947 3551.35519509\n"
     ]
    },
    {
     "name": "stderr",
     "output_type": "stream",
     "text": [
      " 81%|████████  | 1023/1261 [02:05<00:27,  8.59it/s]"
     ]
    },
    {
     "name": "stdout",
     "output_type": "stream",
     "text": [
      "3025.36152877 2075.01752762 3016.88701195\n",
      "4274.72157755 2414.78362694 4276.90991931\n"
     ]
    },
    {
     "name": "stderr",
     "output_type": "stream",
     "text": [
      " 81%|████████▏ | 1025/1261 [02:05<00:27,  8.69it/s]"
     ]
    },
    {
     "name": "stdout",
     "output_type": "stream",
     "text": [
      "5146.12181881 2902.32289668 5159.35341868\n",
      "2633.02840958 7553.55168049 2610.06935567\n"
     ]
    },
    {
     "name": "stderr",
     "output_type": "stream",
     "text": [
      " 81%|████████▏ | 1027/1261 [02:05<00:26,  8.86it/s]"
     ]
    },
    {
     "name": "stdout",
     "output_type": "stream",
     "text": [
      "1814.99694223 1638.64751889 1793.27467187\n",
      "2882.45808891 6527.48680054 2897.09449837\n"
     ]
    },
    {
     "name": "stderr",
     "output_type": "stream",
     "text": [
      " 82%|████████▏ | 1029/1261 [02:05<00:27,  8.50it/s]"
     ]
    },
    {
     "name": "stdout",
     "output_type": "stream",
     "text": [
      "1853.93906622 3748.82816595 1852.93039326\n",
      "1608.23477278 2091.31414054 1603.92214944\n"
     ]
    },
    {
     "name": "stderr",
     "output_type": "stream",
     "text": [
      " 82%|████████▏ | 1031/1261 [02:05<00:27,  8.25it/s]"
     ]
    },
    {
     "name": "stdout",
     "output_type": "stream",
     "text": [
      "1038.97786391 2845.90968223 1003.80258697\n",
      "814.582499612 2761.36302482 781.591236147\n"
     ]
    },
    {
     "name": "stderr",
     "output_type": "stream",
     "text": [
      " 82%|████████▏ | 1033/1261 [02:06<00:26,  8.65it/s]"
     ]
    },
    {
     "name": "stdout",
     "output_type": "stream",
     "text": [
      "5909.80349237 2737.84281129 5738.373743\n",
      "7502.91335539 5198.03291119 7462.46814044\n"
     ]
    },
    {
     "name": "stderr",
     "output_type": "stream",
     "text": [
      "\r",
      " 82%|████████▏ | 1035/1261 [02:06<00:25,  9.01it/s]"
     ]
    },
    {
     "name": "stdout",
     "output_type": "stream",
     "text": [
      "4362.83616714 3425.57152133 4369.28325816\n",
      "886.978715037 21748.1577289 842.576015228\n"
     ]
    },
    {
     "name": "stderr",
     "output_type": "stream",
     "text": [
      " 82%|████████▏ | 1037/1261 [02:06<00:26,  8.56it/s]"
     ]
    },
    {
     "name": "stdout",
     "output_type": "stream",
     "text": [
      "870.767490624 890.669375448 834.528626088\n",
      "808.606196045 1253.55715841 857.091508951\n"
     ]
    },
    {
     "name": "stderr",
     "output_type": "stream",
     "text": [
      " 82%|████████▏ | 1039/1261 [02:06<00:26,  8.43it/s]"
     ]
    },
    {
     "name": "stdout",
     "output_type": "stream",
     "text": [
      "828.615377777 1646.08201441 2008.25491929\n",
      "711.155459332 2483.21994964 806.105190329\n"
     ]
    },
    {
     "name": "stderr",
     "output_type": "stream",
     "text": [
      " 83%|████████▎ | 1041/1261 [02:07<00:26,  8.20it/s]"
     ]
    },
    {
     "name": "stdout",
     "output_type": "stream",
     "text": [
      "803.412153804 1141.82301674 1511.76477252\n",
      "1133.82805007 904.692795623 1699.73015344\n"
     ]
    },
    {
     "name": "stderr",
     "output_type": "stream",
     "text": [
      " 83%|████████▎ | 1043/1261 [02:07<00:25,  8.59it/s]"
     ]
    },
    {
     "name": "stdout",
     "output_type": "stream",
     "text": [
      "1374.15741277 736.458926603 1844.86498983\n",
      "2205.44850419 643.639509679 2512.93991269\n"
     ]
    },
    {
     "name": "stderr",
     "output_type": "stream",
     "text": [
      " 83%|████████▎ | 1045/1261 [02:07<00:26,  8.03it/s]"
     ]
    },
    {
     "name": "stdout",
     "output_type": "stream",
     "text": [
      "1330.12830595 577.940373584 1463.39708154\n",
      "1822.66098811 499.09398 2020.04778698\n"
     ]
    },
    {
     "name": "stderr",
     "output_type": "stream",
     "text": [
      " 83%|████████▎ | 1047/1261 [02:07<00:24,  8.57it/s]"
     ]
    },
    {
     "name": "stdout",
     "output_type": "stream",
     "text": [
      "1017.19270473 998.983568762 989.936319668\n",
      "923.090018555 444.116867255 869.779127918\n"
     ]
    },
    {
     "name": "stderr",
     "output_type": "stream",
     "text": [
      " 83%|████████▎ | 1049/1261 [02:08<00:23,  8.85it/s]"
     ]
    },
    {
     "name": "stdout",
     "output_type": "stream",
     "text": [
      "929.196636339 302.901358553 829.776909095\n",
      "858.719032561 286.409604191 918.113690402\n"
     ]
    },
    {
     "name": "stderr",
     "output_type": "stream",
     "text": [
      " 83%|████████▎ | 1051/1261 [02:08<00:25,  8.21it/s]"
     ]
    },
    {
     "name": "stdout",
     "output_type": "stream",
     "text": [
      "843.308895063 147.148117229 734.435941255\n",
      "939.789817702 1965.33303894 902.280929181\n"
     ]
    },
    {
     "name": "stderr",
     "output_type": "stream",
     "text": [
      " 84%|████████▎ | 1053/1261 [02:08<00:23,  8.81it/s]"
     ]
    },
    {
     "name": "stdout",
     "output_type": "stream",
     "text": [
      "1135.3547076 1816.2382413 1125.42816892\n",
      "1069.51348724 793.818290051 1107.02794873\n"
     ]
    },
    {
     "name": "stderr",
     "output_type": "stream",
     "text": [
      "\r",
      " 84%|████████▎ | 1054/1261 [02:08<00:22,  9.13it/s]"
     ]
    },
    {
     "name": "stdout",
     "output_type": "stream",
     "text": [
      "1884.73486131 3348.75412518 1901.58514496\n",
      "3175.52704525 1469.39212388 3036.00553083\n",
      "4298.03712607 4165.88016267 4157.5205561\n"
     ]
    },
    {
     "name": "stderr",
     "output_type": "stream",
     "text": [
      " 84%|████████▍ | 1058/1261 [02:09<00:23,  8.62it/s]"
     ]
    },
    {
     "name": "stdout",
     "output_type": "stream",
     "text": [
      "5003.99127886 1964.54208861 4671.35927619\n",
      "7217.35856395 2964.28313717 6755.47000386\n"
     ]
    },
    {
     "name": "stderr",
     "output_type": "stream",
     "text": [
      " 84%|████████▍ | 1060/1261 [02:09<00:26,  7.61it/s]"
     ]
    },
    {
     "name": "stdout",
     "output_type": "stream",
     "text": [
      "5084.47681254 5256.14330959 4785.75628913\n",
      "2832.58346448 3328.68433132 2690.65954592\n"
     ]
    },
    {
     "name": "stderr",
     "output_type": "stream",
     "text": [
      " 84%|████████▍ | 1062/1261 [02:09<00:25,  7.88it/s]"
     ]
    },
    {
     "name": "stdout",
     "output_type": "stream",
     "text": [
      "2649.3746773 1797.89667018 2455.74765884\n",
      "2383.38400837 1440.22577265 2229.6663982\n"
     ]
    },
    {
     "name": "stderr",
     "output_type": "stream",
     "text": [
      " 84%|████████▍ | 1064/1261 [02:09<00:23,  8.24it/s]"
     ]
    },
    {
     "name": "stdout",
     "output_type": "stream",
     "text": [
      "2242.80010017 2315.95722061 2200.63972872\n",
      "2390.52007475 1925.67646171 2352.95946711\n"
     ]
    },
    {
     "name": "stderr",
     "output_type": "stream",
     "text": [
      " 85%|████████▍ | 1066/1261 [02:10<00:24,  8.09it/s]"
     ]
    },
    {
     "name": "stdout",
     "output_type": "stream",
     "text": [
      "2380.99123304 10650.8459825 2422.66017182\n",
      "2829.27243073 9673.82386486 2884.05429387\n"
     ]
    },
    {
     "name": "stderr",
     "output_type": "stream",
     "text": [
      " 85%|████████▍ | 1068/1261 [02:10<00:24,  7.95it/s]"
     ]
    },
    {
     "name": "stdout",
     "output_type": "stream",
     "text": [
      "3062.24940746 3162.42607182 3076.15050322\n",
      "3188.23340921 2422.82054866 3196.42012292\n"
     ]
    },
    {
     "name": "stderr",
     "output_type": "stream",
     "text": [
      " 85%|████████▍ | 1070/1261 [02:10<00:25,  7.60it/s]"
     ]
    },
    {
     "name": "stdout",
     "output_type": "stream",
     "text": [
      "3296.87285193 1915.51071836 3281.15705364\n",
      "4596.41883554 2273.86439337 4553.75424908\n"
     ]
    },
    {
     "name": "stderr",
     "output_type": "stream",
     "text": [
      " 85%|████████▌ | 1072/1261 [02:10<00:23,  7.99it/s]"
     ]
    },
    {
     "name": "stdout",
     "output_type": "stream",
     "text": [
      "5130.28713109 2407.63141482 5110.08107475\n",
      "5387.41775476 2018.4870752 5335.93158071\n"
     ]
    },
    {
     "name": "stderr",
     "output_type": "stream",
     "text": [
      " 85%|████████▌ | 1074/1261 [02:11<00:22,  8.31it/s]"
     ]
    },
    {
     "name": "stdout",
     "output_type": "stream",
     "text": [
      "7127.73264628 2155.98797481 7087.9133718\n",
      "7896.48984877 10647.3359112 8213.84532387\n"
     ]
    },
    {
     "name": "stderr",
     "output_type": "stream",
     "text": [
      " 85%|████████▌ | 1076/1261 [02:11<00:20,  8.83it/s]"
     ]
    },
    {
     "name": "stdout",
     "output_type": "stream",
     "text": [
      "3545.34805035 15288.5889034 3679.4720227\n",
      "3732.23854695 2595.40387828 4078.17946353\n"
     ]
    },
    {
     "name": "stderr",
     "output_type": "stream",
     "text": [
      " 85%|████████▌ | 1078/1261 [02:11<00:21,  8.52it/s]"
     ]
    },
    {
     "name": "stdout",
     "output_type": "stream",
     "text": [
      "3185.70755053 13834.493304 3298.25359817\n",
      "3499.76279604 7324.71874611 3553.09999783\n"
     ]
    },
    {
     "name": "stderr",
     "output_type": "stream",
     "text": [
      " 86%|████████▌ | 1080/1261 [02:11<00:21,  8.60it/s]"
     ]
    },
    {
     "name": "stdout",
     "output_type": "stream",
     "text": [
      "2745.49636641 5945.28343208 2794.28139178\n",
      "2568.34482755 8472.88461265 2624.38125645\n"
     ]
    },
    {
     "name": "stderr",
     "output_type": "stream",
     "text": [
      " 86%|████████▌ | 1082/1261 [02:12<00:21,  8.29it/s]"
     ]
    },
    {
     "name": "stdout",
     "output_type": "stream",
     "text": [
      "2672.25274678 12421.1578604 2772.14075668\n",
      "2568.6973864 8415.2712453 2666.68931927\n"
     ]
    },
    {
     "name": "stderr",
     "output_type": "stream",
     "text": [
      " 86%|████████▌ | 1084/1261 [02:12<00:20,  8.48it/s]"
     ]
    },
    {
     "name": "stdout",
     "output_type": "stream",
     "text": [
      "2634.16925917 12959.003947 2726.79184946\n",
      "2429.61648264 4024.72079899 2558.52741672\n"
     ]
    },
    {
     "name": "stderr",
     "output_type": "stream",
     "text": [
      " 86%|████████▌ | 1086/1261 [02:12<00:20,  8.75it/s]"
     ]
    },
    {
     "name": "stdout",
     "output_type": "stream",
     "text": [
      "2610.89649061 120750.012215 2680.28013929\n",
      "2835.20751408 10021.2577715 2933.41260723\n"
     ]
    },
    {
     "name": "stderr",
     "output_type": "stream",
     "text": [
      " 86%|████████▋ | 1088/1261 [02:12<00:19,  8.76it/s]"
     ]
    },
    {
     "name": "stdout",
     "output_type": "stream",
     "text": [
      "2271.79196053 5849.47405163 2356.84182582\n",
      "2837.2649618 4140.85787675 2969.09374703\n"
     ]
    },
    {
     "name": "stderr",
     "output_type": "stream",
     "text": [
      "\r",
      " 86%|████████▋ | 1090/1261 [02:12<00:18,  9.23it/s]"
     ]
    },
    {
     "name": "stdout",
     "output_type": "stream",
     "text": [
      "2753.77257504 8172.91943259 2843.56123818\n",
      "3164.16993947 3710.37272274 3175.75126076\n",
      "2609.07163218 4235.85148519 2637.13718606\n"
     ]
    },
    {
     "name": "stderr",
     "output_type": "stream",
     "text": [
      " 87%|████████▋ | 1093/1261 [02:13<00:17,  9.41it/s]"
     ]
    },
    {
     "name": "stdout",
     "output_type": "stream",
     "text": [
      "2578.17744621 3172.17864699 2598.52666545\n",
      "2429.38481329 5856.41995567 2459.41459904\n",
      "2563.9266258 5795.53838702 2597.59274606\n"
     ]
    },
    {
     "name": "stderr",
     "output_type": "stream",
     "text": [
      " 87%|████████▋ | 1097/1261 [02:13<00:16, 10.06it/s]"
     ]
    },
    {
     "name": "stdout",
     "output_type": "stream",
     "text": [
      "2751.55974028 2983.42615624 2769.63937983\n",
      "3223.16181725 6084.13904808 3278.32707254\n",
      "3770.34208575 22235.8539061 3872.24160717\n"
     ]
    },
    {
     "name": "stderr",
     "output_type": "stream",
     "text": [
      "\r",
      " 87%|████████▋ | 1099/1261 [02:13<00:16,  9.75it/s]"
     ]
    },
    {
     "name": "stdout",
     "output_type": "stream",
     "text": [
      "4421.58910679 260626.456485 4517.14960845\n",
      "3920.91261006 4800.09094811 4103.20765409\n"
     ]
    },
    {
     "name": "stderr",
     "output_type": "stream",
     "text": [
      " 87%|████████▋ | 1101/1261 [02:14<00:17,  9.06it/s]"
     ]
    },
    {
     "name": "stdout",
     "output_type": "stream",
     "text": [
      "8904.73928455 9856.70908459 9153.14246561\n",
      "24702.0804528 11881.8628387 24759.9437908\n"
     ]
    },
    {
     "name": "stderr",
     "output_type": "stream",
     "text": [
      " 87%|████████▋ | 1103/1261 [02:14<00:18,  8.76it/s]"
     ]
    },
    {
     "name": "stdout",
     "output_type": "stream",
     "text": [
      "118387.683675 8807.23650552 121601.596401\n",
      "18815.5283497 24151.7273997 19093.755971\n"
     ]
    },
    {
     "name": "stderr",
     "output_type": "stream",
     "text": [
      " 88%|████████▊ | 1105/1261 [02:14<00:17,  9.03it/s]"
     ]
    },
    {
     "name": "stdout",
     "output_type": "stream",
     "text": [
      "22561.0777576 8901.47168101 23199.3212201\n",
      "14733.8235407 3772.01512482 15316.7087\n"
     ]
    },
    {
     "name": "stderr",
     "output_type": "stream",
     "text": [
      " 88%|████████▊ | 1107/1261 [02:14<00:17,  8.77it/s]"
     ]
    },
    {
     "name": "stdout",
     "output_type": "stream",
     "text": [
      "7639.17472753 7893.08759653 7852.00566744\n",
      "6705.00248319 2231.70148052 7163.72277175\n"
     ]
    },
    {
     "name": "stderr",
     "output_type": "stream",
     "text": [
      " 88%|████████▊ | 1109/1261 [02:14<00:16,  8.98it/s]"
     ]
    },
    {
     "name": "stdout",
     "output_type": "stream",
     "text": [
      "3836.88804114 3100.15516426 4001.20005831\n",
      "3429.66629567 3338.89967278 3549.44508906\n"
     ]
    },
    {
     "name": "stderr",
     "output_type": "stream",
     "text": [
      " 88%|████████▊ | 1111/1261 [02:15<00:17,  8.73it/s]"
     ]
    },
    {
     "name": "stdout",
     "output_type": "stream",
     "text": [
      "2171.32505809 3923.62339008 2213.36651555\n",
      "2194.59810678 6135.76718556 2202.09431879\n"
     ]
    },
    {
     "name": "stderr",
     "output_type": "stream",
     "text": [
      " 88%|████████▊ | 1113/1261 [02:15<00:17,  8.63it/s]"
     ]
    },
    {
     "name": "stdout",
     "output_type": "stream",
     "text": [
      "2086.35765337 3061.55389877 2085.81068341\n",
      "2040.30337612 1549.69341391 2041.81455485\n"
     ]
    },
    {
     "name": "stderr",
     "output_type": "stream",
     "text": [
      " 88%|████████▊ | 1115/1261 [02:15<00:15,  9.13it/s]"
     ]
    },
    {
     "name": "stdout",
     "output_type": "stream",
     "text": [
      "2376.90227921 1249.74057258 2381.03499001\n",
      "2785.73489613 1529.42740855 2785.47333613\n",
      "3359.60431053 1398.65047358 3345.3374428\n"
     ]
    },
    {
     "name": "stderr",
     "output_type": "stream",
     "text": [
      " 89%|████████▊ | 1118/1261 [02:15<00:15,  9.48it/s]"
     ]
    },
    {
     "name": "stdout",
     "output_type": "stream",
     "text": [
      "3474.00057812 1182.31308018 3455.89098555\n",
      "4824.82579323 1749.04134041 4798.2152985\n"
     ]
    },
    {
     "name": "stderr",
     "output_type": "stream",
     "text": [
      " 89%|████████▉ | 1120/1261 [02:16<00:15,  9.00it/s]"
     ]
    },
    {
     "name": "stdout",
     "output_type": "stream",
     "text": [
      "5793.59291599 6046.4428847 5868.07886165\n",
      "8431.15927133 5379.27215456 8533.3118761\n"
     ]
    },
    {
     "name": "stderr",
     "output_type": "stream",
     "text": [
      " 89%|████████▉ | 1122/1261 [02:16<00:16,  8.22it/s]"
     ]
    },
    {
     "name": "stdout",
     "output_type": "stream",
     "text": [
      "14088.7251549 8816.33311807 14310.8438396\n",
      "6195.75885445 5391.25583892 6466.06857508\n"
     ]
    },
    {
     "name": "stderr",
     "output_type": "stream",
     "text": [
      " 89%|████████▉ | 1124/1261 [02:16<00:17,  7.79it/s]"
     ]
    },
    {
     "name": "stdout",
     "output_type": "stream",
     "text": [
      "6539.71446734 4120.82486791 6835.66498269\n",
      "9458.5489394 11880.7496287 9633.16979521\n"
     ]
    },
    {
     "name": "stderr",
     "output_type": "stream",
     "text": [
      " 89%|████████▉ | 1126/1261 [02:16<00:16,  8.35it/s]"
     ]
    },
    {
     "name": "stdout",
     "output_type": "stream",
     "text": [
      "8384.32148767 7619.3975942 8515.21744419\n",
      "6082.44230512 4657.20659285 6155.45294035\n"
     ]
    },
    {
     "name": "stderr",
     "output_type": "stream",
     "text": [
      " 89%|████████▉ | 1128/1261 [02:17<00:15,  8.65it/s]"
     ]
    },
    {
     "name": "stdout",
     "output_type": "stream",
     "text": [
      "5311.13351928 4126.47463695 5376.37090925\n",
      "4433.74572532 6222.29083557 4493.20502289\n"
     ]
    },
    {
     "name": "stderr",
     "output_type": "stream",
     "text": [
      " 90%|████████▉ | 1130/1261 [02:17<00:15,  8.68it/s]"
     ]
    },
    {
     "name": "stdout",
     "output_type": "stream",
     "text": [
      "2888.20086112 56779.865746 2938.79132981\n",
      "2305.17257229 6094.11134457 2325.40648099\n"
     ]
    },
    {
     "name": "stderr",
     "output_type": "stream",
     "text": [
      " 90%|████████▉ | 1132/1261 [02:17<00:15,  8.29it/s]"
     ]
    },
    {
     "name": "stdout",
     "output_type": "stream",
     "text": [
      "2278.33155406 7626.91743583 2328.63654641\n",
      "1798.97128506 10939.0322696 1810.32279993\n"
     ]
    },
    {
     "name": "stderr",
     "output_type": "stream",
     "text": [
      " 90%|████████▉ | 1134/1261 [02:17<00:15,  8.37it/s]"
     ]
    },
    {
     "name": "stdout",
     "output_type": "stream",
     "text": [
      "1831.07034679 9613.65946053 1855.76073374\n",
      "1657.9968468 160611.405004 1669.81865258\n"
     ]
    },
    {
     "name": "stderr",
     "output_type": "stream",
     "text": [
      " 90%|█████████ | 1136/1261 [02:18<00:14,  8.54it/s]"
     ]
    },
    {
     "name": "stdout",
     "output_type": "stream",
     "text": [
      "2050.50890947 4191.76125428 2061.50627429\n",
      "2157.0749907 1609.71122709 2157.84878527\n"
     ]
    },
    {
     "name": "stderr",
     "output_type": "stream",
     "text": [
      " 90%|█████████ | 1138/1261 [02:18<00:13,  8.80it/s]"
     ]
    },
    {
     "name": "stdout",
     "output_type": "stream",
     "text": [
      "2417.42886009 2043.90179696 2420.25384761\n",
      "2992.35574741 3223.95322167 3006.45682717\n"
     ]
    },
    {
     "name": "stderr",
     "output_type": "stream",
     "text": [
      " 90%|█████████ | 1140/1261 [02:18<00:14,  8.57it/s]"
     ]
    },
    {
     "name": "stdout",
     "output_type": "stream",
     "text": [
      "4030.71931251 2582.84732225 4025.65167676\n",
      "5416.27125656 1847.71228853 5367.95969374\n"
     ]
    },
    {
     "name": "stderr",
     "output_type": "stream",
     "text": [
      " 91%|█████████ | 1142/1261 [02:18<00:13,  8.60it/s]"
     ]
    },
    {
     "name": "stdout",
     "output_type": "stream",
     "text": [
      "6208.70501619 3157.12345652 6233.69930858\n",
      "8656.06714675 26201.0274239 8860.41168377\n"
     ]
    },
    {
     "name": "stderr",
     "output_type": "stream",
     "text": [
      "\r",
      " 91%|█████████ | 1144/1261 [02:18<00:13,  8.94it/s]"
     ]
    },
    {
     "name": "stdout",
     "output_type": "stream",
     "text": [
      "7026.66757967 88388.8816867 7130.25785566\n",
      "3465.1109004 9370.28863133 3500.40790603\n"
     ]
    },
    {
     "name": "stderr",
     "output_type": "stream",
     "text": [
      "\r",
      " 91%|█████████ | 1146/1261 [02:19<00:13,  8.84it/s]"
     ]
    },
    {
     "name": "stdout",
     "output_type": "stream",
     "text": [
      "4782.04573175 2136.18556785 4747.73294137\n",
      "5720.7835198 1810.29078795 5680.6431836\n"
     ]
    },
    {
     "name": "stderr",
     "output_type": "stream",
     "text": [
      " 91%|█████████ | 1148/1261 [02:19<00:12,  9.14it/s]"
     ]
    },
    {
     "name": "stdout",
     "output_type": "stream",
     "text": [
      "8275.01393743 1523.44053755 8181.72954035\n",
      "4742.61284077 1637.37274228 4718.7084005\n"
     ]
    },
    {
     "name": "stderr",
     "output_type": "stream",
     "text": [
      "\r",
      " 91%|█████████ | 1150/1261 [02:19<00:11,  9.37it/s]"
     ]
    },
    {
     "name": "stdout",
     "output_type": "stream",
     "text": [
      "4439.97076212 1337.09997243 4432.11852334\n",
      "3621.45365558 2525.46736693 3626.19259155\n",
      "3161.81697939 2037.59782529 3164.84270602\n"
     ]
    },
    {
     "name": "stderr",
     "output_type": "stream",
     "text": [
      " 91%|█████████▏| 1153/1261 [02:19<00:12,  8.86it/s]"
     ]
    },
    {
     "name": "stdout",
     "output_type": "stream",
     "text": [
      "2972.15800939 1960.3747817 2974.23859678\n",
      "2845.26565218 12945.8590693 2887.37670331\n"
     ]
    },
    {
     "name": "stderr",
     "output_type": "stream",
     "text": [
      " 92%|█████████▏| 1155/1261 [02:20<00:12,  8.38it/s]"
     ]
    },
    {
     "name": "stdout",
     "output_type": "stream",
     "text": [
      "3192.34094643 10086.6728601 3233.60375656\n",
      "3054.35356202 73021.4968826 3106.57120112\n"
     ]
    },
    {
     "name": "stderr",
     "output_type": "stream",
     "text": [
      " 92%|█████████▏| 1157/1261 [02:20<00:12,  8.41it/s]"
     ]
    },
    {
     "name": "stdout",
     "output_type": "stream",
     "text": [
      "2908.48040556 1091940.83812 2960.51478852\n",
      "4217.20181314 43061.5182439 4302.48409239\n"
     ]
    },
    {
     "name": "stderr",
     "output_type": "stream",
     "text": [
      " 92%|█████████▏| 1159/1261 [02:20<00:11,  8.81it/s]"
     ]
    },
    {
     "name": "stdout",
     "output_type": "stream",
     "text": [
      "3951.79909779 5452.68841659 3990.35041098\n",
      "4376.84306791 3132.67976886 4404.00694802\n"
     ]
    },
    {
     "name": "stderr",
     "output_type": "stream",
     "text": [
      " 92%|█████████▏| 1161/1261 [02:20<00:11,  9.04it/s]"
     ]
    },
    {
     "name": "stdout",
     "output_type": "stream",
     "text": [
      "3282.09056437 1434.54319348 3282.09329097\n",
      "2266.89802444 2997.40760834 2274.59612278\n"
     ]
    },
    {
     "name": "stderr",
     "output_type": "stream",
     "text": [
      " 92%|█████████▏| 1163/1261 [02:21<00:11,  8.61it/s]"
     ]
    },
    {
     "name": "stdout",
     "output_type": "stream",
     "text": [
      "2055.86316193 3080.69772758 2061.77181819\n",
      "1672.45141772 2096.69836496 1671.82785859\n"
     ]
    },
    {
     "name": "stderr",
     "output_type": "stream",
     "text": [
      "\r",
      " 92%|█████████▏| 1164/1261 [02:21<00:11,  8.70it/s]"
     ]
    },
    {
     "name": "stdout",
     "output_type": "stream",
     "text": [
      "1651.32914676 3540.63875098 1660.04211543\n",
      "1583.52448567 13745.4595929 1595.29700314\n"
     ]
    },
    {
     "name": "stderr",
     "output_type": "stream",
     "text": [
      " 93%|█████████▎| 1167/1261 [02:21<00:10,  8.76it/s]"
     ]
    },
    {
     "name": "stdout",
     "output_type": "stream",
     "text": [
      "1647.64666675 13494.2387344 1665.13076104\n",
      "1441.23087194 1087039.7623 1455.45024923\n"
     ]
    },
    {
     "name": "stderr",
     "output_type": "stream",
     "text": [
      " 93%|█████████▎| 1169/1261 [02:21<00:10,  9.08it/s]"
     ]
    },
    {
     "name": "stdout",
     "output_type": "stream",
     "text": [
      "1657.46198735 11891.5409033 1681.02375163\n",
      "2013.6375228 2215.89784809 2020.88974146\n"
     ]
    },
    {
     "name": "stderr",
     "output_type": "stream",
     "text": [
      " 93%|█████████▎| 1171/1261 [02:22<00:10,  8.94it/s]"
     ]
    },
    {
     "name": "stdout",
     "output_type": "stream",
     "text": [
      "2239.1492531 1732.35906348 2240.71187806\n",
      "2334.78723908 1219.9748865 2319.93351606\n"
     ]
    },
    {
     "name": "stderr",
     "output_type": "stream",
     "text": [
      " 93%|█████████▎| 1173/1261 [02:22<00:10,  8.66it/s]"
     ]
    },
    {
     "name": "stdout",
     "output_type": "stream",
     "text": [
      "2760.11066527 2730.92112619 2768.10922886\n",
      "3219.28828324 3150.82262651 3232.26972033\n"
     ]
    },
    {
     "name": "stderr",
     "output_type": "stream",
     "text": [
      " 93%|█████████▎| 1175/1261 [02:22<00:10,  8.47it/s]"
     ]
    },
    {
     "name": "stdout",
     "output_type": "stream",
     "text": [
      "3337.7761421 2209.22434965 3322.27483439\n",
      "3868.16579288 4663.64156653 3925.97596021\n"
     ]
    },
    {
     "name": "stderr",
     "output_type": "stream",
     "text": [
      "\r",
      " 93%|█████████▎| 1176/1261 [02:22<00:09,  8.62it/s]"
     ]
    },
    {
     "name": "stdout",
     "output_type": "stream",
     "text": [
      "3856.11378867 6499.38047327 4070.72387592\n",
      "4054.28356977 6101.19565669 4253.03336683\n"
     ]
    },
    {
     "name": "stderr",
     "output_type": "stream",
     "text": [
      " 93%|█████████▎| 1179/1261 [02:22<00:09,  8.65it/s]"
     ]
    },
    {
     "name": "stdout",
     "output_type": "stream",
     "text": [
      "2917.04037692 5104.62558317 3066.95349328\n",
      "4015.45115736 2999.85988324 4315.11978354\n"
     ]
    },
    {
     "name": "stderr",
     "output_type": "stream",
     "text": [
      " 94%|█████████▎| 1181/1261 [02:23<00:09,  8.59it/s]"
     ]
    },
    {
     "name": "stdout",
     "output_type": "stream",
     "text": [
      "4060.36722857 5149.25384033 4253.17539745\n",
      "5984.81607574 4112.60889243 6282.48427318\n"
     ]
    },
    {
     "name": "stderr",
     "output_type": "stream",
     "text": [
      " 94%|█████████▍| 1183/1261 [02:23<00:08,  8.74it/s]"
     ]
    },
    {
     "name": "stdout",
     "output_type": "stream",
     "text": [
      "5073.3108745 10723.8929292 5156.89114132\n",
      "5422.22401063 9209.74291782 5520.47060486\n"
     ]
    },
    {
     "name": "stderr",
     "output_type": "stream",
     "text": [
      " 94%|█████████▍| 1185/1261 [02:23<00:08,  8.72it/s]"
     ]
    },
    {
     "name": "stdout",
     "output_type": "stream",
     "text": [
      "5088.0115075 31672.3586799 5221.18790035\n",
      "4916.0207114 26927.2557197 4998.47848209\n"
     ]
    },
    {
     "name": "stderr",
     "output_type": "stream",
     "text": [
      " 94%|█████████▍| 1187/1261 [02:23<00:08,  8.69it/s]"
     ]
    },
    {
     "name": "stdout",
     "output_type": "stream",
     "text": [
      "4748.69464524 3593.38173025 5017.97339815\n",
      "4379.02512797 16124.9674642 4514.11542668\n"
     ]
    },
    {
     "name": "stderr",
     "output_type": "stream",
     "text": [
      " 94%|█████████▍| 1189/1261 [02:24<00:08,  8.56it/s]"
     ]
    },
    {
     "name": "stdout",
     "output_type": "stream",
     "text": [
      "4992.46272473 53283.8395488 5106.58621591\n",
      "4577.00150677 63113.7821823 4680.88660608\n"
     ]
    },
    {
     "name": "stderr",
     "output_type": "stream",
     "text": [
      " 95%|█████████▍| 1192/1261 [02:24<00:07,  9.25it/s]"
     ]
    },
    {
     "name": "stdout",
     "output_type": "stream",
     "text": [
      "2498.47357342 26380.6314316 2557.21149422\n",
      "2816.36065236 9508.52902026 2856.5284642\n",
      "2648.80916747 4366.25256754 2672.43555595\n"
     ]
    },
    {
     "name": "stderr",
     "output_type": "stream",
     "text": [
      " 95%|█████████▍| 1194/1261 [02:24<00:07,  8.82it/s]"
     ]
    },
    {
     "name": "stdout",
     "output_type": "stream",
     "text": [
      "2450.81388142 2323.80100943 2456.75864846\n",
      "2271.94813142 4572.35308076 2294.59099791\n"
     ]
    },
    {
     "name": "stderr",
     "output_type": "stream",
     "text": [
      "\r",
      " 95%|█████████▍| 1196/1261 [02:24<00:07,  9.00it/s]"
     ]
    },
    {
     "name": "stdout",
     "output_type": "stream",
     "text": [
      "1994.30096951 4799.76234059 2012.55334756\n",
      "2027.28641589 3692.91693348 2041.8862479\n"
     ]
    },
    {
     "name": "stderr",
     "output_type": "stream",
     "text": [
      " 95%|█████████▌| 1198/1261 [02:25<00:06,  9.10it/s]"
     ]
    },
    {
     "name": "stdout",
     "output_type": "stream",
     "text": [
      "1821.51590535 24769.3440794 1863.08473737\n",
      "2151.60144828 5896.30597632 2222.98237844\n"
     ]
    },
    {
     "name": "stderr",
     "output_type": "stream",
     "text": [
      " 95%|█████████▌| 1200/1261 [02:25<00:06,  8.96it/s]"
     ]
    },
    {
     "name": "stdout",
     "output_type": "stream",
     "text": [
      "2409.66268238 4106.01034281 2507.34886977\n",
      "2656.08813229 2802.93107494 2776.46597704\n"
     ]
    },
    {
     "name": "stderr",
     "output_type": "stream",
     "text": [
      " 95%|█████████▌| 1202/1261 [02:25<00:06,  8.93it/s]"
     ]
    },
    {
     "name": "stdout",
     "output_type": "stream",
     "text": [
      "2621.46294464 3154.79883039 2732.05142973\n",
      "3520.13703988 4803.74861512 3626.8854731\n"
     ]
    },
    {
     "name": "stderr",
     "output_type": "stream",
     "text": [
      "\r",
      " 95%|█████████▌| 1204/1261 [02:25<00:06,  9.18it/s]"
     ]
    },
    {
     "name": "stdout",
     "output_type": "stream",
     "text": [
      "3595.3022282 4387.5469833 3708.44084606\n",
      "3522.3792273 27871.3740257 3567.5493563\n"
     ]
    },
    {
     "name": "stderr",
     "output_type": "stream",
     "text": [
      " 96%|█████████▌| 1206/1261 [02:25<00:06,  9.08it/s]"
     ]
    },
    {
     "name": "stdout",
     "output_type": "stream",
     "text": [
      "2753.62136873 6169.39570739 2776.73756527\n",
      "2394.81692671 3236.88243923 2401.280848\n"
     ]
    },
    {
     "name": "stderr",
     "output_type": "stream",
     "text": [
      " 96%|█████████▌| 1208/1261 [02:26<00:05,  8.98it/s]"
     ]
    },
    {
     "name": "stdout",
     "output_type": "stream",
     "text": [
      "1865.9442951 3035.80548983 1871.07651379\n",
      "2016.93699681 5257.41705077 2039.37755553\n"
     ]
    },
    {
     "name": "stderr",
     "output_type": "stream",
     "text": [
      " 96%|█████████▌| 1210/1261 [02:26<00:05,  8.93it/s]"
     ]
    },
    {
     "name": "stdout",
     "output_type": "stream",
     "text": [
      "1915.98881202 9938.66160052 1951.06995896\n",
      "1739.9081663 14764.4722111 1780.70941841\n"
     ]
    },
    {
     "name": "stderr",
     "output_type": "stream",
     "text": [
      " 96%|█████████▌| 1212/1261 [02:26<00:05,  8.86it/s]"
     ]
    },
    {
     "name": "stdout",
     "output_type": "stream",
     "text": [
      "1538.44948169 157811.890878 1575.25716682\n",
      "1698.62258961 6922.66273397 1763.12478839\n"
     ]
    },
    {
     "name": "stderr",
     "output_type": "stream",
     "text": [
      " 96%|█████████▋| 1214/1261 [02:26<00:05,  8.89it/s]"
     ]
    },
    {
     "name": "stdout",
     "output_type": "stream",
     "text": [
      "1894.4799914 5003.89490646 1974.32300775\n",
      "2284.33390404 7341.0921806 2363.25679873\n"
     ]
    },
    {
     "name": "stderr",
     "output_type": "stream",
     "text": [
      " 96%|█████████▋| 1216/1261 [02:27<00:05,  8.93it/s]"
     ]
    },
    {
     "name": "stdout",
     "output_type": "stream",
     "text": [
      "2273.20068158 46100.7207297 2330.72892592\n",
      "2570.74899318 18058.2352414 2622.72936488\n"
     ]
    },
    {
     "name": "stderr",
     "output_type": "stream",
     "text": [
      " 97%|█████████▋| 1218/1261 [02:27<00:04,  9.38it/s]"
     ]
    },
    {
     "name": "stdout",
     "output_type": "stream",
     "text": [
      "2725.51619577 9950.40353649 2771.72211723\n",
      "3237.50849918 11535.021015 3296.39579742\n"
     ]
    },
    {
     "name": "stderr",
     "output_type": "stream",
     "text": [
      " 97%|█████████▋| 1220/1261 [02:27<00:04,  9.19it/s]"
     ]
    },
    {
     "name": "stdout",
     "output_type": "stream",
     "text": [
      "2727.62775441 4503.09668282 2767.0483395\n",
      "2591.69442373 4740.13146203 2721.68225408\n"
     ]
    },
    {
     "name": "stderr",
     "output_type": "stream",
     "text": [
      " 97%|█████████▋| 1222/1261 [02:27<00:04,  8.80it/s]"
     ]
    },
    {
     "name": "stdout",
     "output_type": "stream",
     "text": [
      "2898.89518402 8505.42667401 3027.39210551\n",
      "2604.80257761 6680.80943431 2705.23534643\n"
     ]
    },
    {
     "name": "stderr",
     "output_type": "stream",
     "text": [
      " 97%|█████████▋| 1224/1261 [02:27<00:04,  8.95it/s]"
     ]
    },
    {
     "name": "stdout",
     "output_type": "stream",
     "text": [
      "2318.08502123 7188.75310491 2393.03338888\n",
      "2733.54032353 2850.97276253 2875.164837\n"
     ]
    },
    {
     "name": "stderr",
     "output_type": "stream",
     "text": [
      " 97%|█████████▋| 1226/1261 [02:28<00:03,  9.25it/s]"
     ]
    },
    {
     "name": "stdout",
     "output_type": "stream",
     "text": [
      "4127.05029981 3753.01257177 4248.70107044\n",
      "4431.79052459 3994.36589671 4565.35969761\n"
     ]
    },
    {
     "name": "stderr",
     "output_type": "stream",
     "text": [
      " 97%|█████████▋| 1228/1261 [02:28<00:03,  9.05it/s]"
     ]
    },
    {
     "name": "stdout",
     "output_type": "stream",
     "text": [
      "5084.3989345 5619.4514902 5212.7758801\n",
      "4934.45317127 4319.12638637 5082.34456639\n"
     ]
    },
    {
     "name": "stderr",
     "output_type": "stream",
     "text": [
      " 98%|█████████▊| 1230/1261 [02:28<00:03,  8.04it/s]"
     ]
    },
    {
     "name": "stdout",
     "output_type": "stream",
     "text": [
      "6603.59646863 2975.5698784 6853.95035804\n",
      "5935.53470094 6188.49787761 6073.84674025\n"
     ]
    },
    {
     "name": "stderr",
     "output_type": "stream",
     "text": [
      " 98%|█████████▊| 1232/1261 [02:28<00:03,  8.78it/s]"
     ]
    },
    {
     "name": "stdout",
     "output_type": "stream",
     "text": [
      "4829.23013493 2067.32240174 4820.36154194\n",
      "4756.88528656 2474.74889284 4769.05521875\n"
     ]
    },
    {
     "name": "stderr",
     "output_type": "stream",
     "text": [
      " 98%|█████████▊| 1234/1261 [02:29<00:03,  8.74it/s]"
     ]
    },
    {
     "name": "stdout",
     "output_type": "stream",
     "text": [
      "3229.82298423 3604.62845206 3253.50073537\n",
      "2412.89188902 6055.80689 2438.75838087\n"
     ]
    },
    {
     "name": "stderr",
     "output_type": "stream",
     "text": [
      " 98%|█████████▊| 1236/1261 [02:29<00:02,  8.80it/s]"
     ]
    },
    {
     "name": "stdout",
     "output_type": "stream",
     "text": [
      "2764.81532128 2860.95967261 2896.49836734\n",
      "4084.88052298 2891.17161323 4257.9897247\n"
     ]
    },
    {
     "name": "stderr",
     "output_type": "stream",
     "text": [
      " 98%|█████████▊| 1238/1261 [02:29<00:02,  8.43it/s]"
     ]
    },
    {
     "name": "stdout",
     "output_type": "stream",
     "text": [
      "6988.45482028 3795.14861423 7217.79054584\n",
      "10612.088588 4235.81139869 10895.4420079\n"
     ]
    },
    {
     "name": "stderr",
     "output_type": "stream",
     "text": [
      " 98%|█████████▊| 1240/1261 [02:29<00:02,  8.45it/s]"
     ]
    },
    {
     "name": "stdout",
     "output_type": "stream",
     "text": [
      "9569.18228982 4042.28902927 9814.72344835\n",
      "25212.501024 2800.64091345 25976.6158461\n"
     ]
    },
    {
     "name": "stderr",
     "output_type": "stream",
     "text": [
      " 98%|█████████▊| 1242/1261 [02:30<00:02,  8.52it/s]"
     ]
    },
    {
     "name": "stdout",
     "output_type": "stream",
     "text": [
      "26666.2613731 5496.8145947 27131.6799021\n",
      "36363.9360551 4648.93929125 37071.490672\n"
     ]
    },
    {
     "name": "stderr",
     "output_type": "stream",
     "text": [
      " 99%|█████████▊| 1244/1261 [02:30<00:01,  9.20it/s]"
     ]
    },
    {
     "name": "stdout",
     "output_type": "stream",
     "text": [
      "16016.6205352 3493.0383421 16380.8563347\n",
      "11793.6048553 3182.6517969 12089.8288311\n"
     ]
    },
    {
     "name": "stderr",
     "output_type": "stream",
     "text": [
      "\r",
      " 99%|█████████▊| 1245/1261 [02:30<00:01,  9.32it/s]"
     ]
    },
    {
     "name": "stdout",
     "output_type": "stream",
     "text": [
      "4553.40309836 3835.22549204 4633.64545848\n",
      "7321.62043482 3193.19975215 7469.35434893\n",
      "9228.36156534 76321.9622799 9253.33495268\n"
     ]
    },
    {
     "name": "stderr",
     "output_type": "stream",
     "text": [
      " 99%|█████████▉| 1249/1261 [02:30<00:01,  9.58it/s]"
     ]
    },
    {
     "name": "stdout",
     "output_type": "stream",
     "text": [
      "9704.59820207 134983.802905 9739.70578775\n",
      "10913.3342466 451518.34777 10946.8041339\n",
      "9003.34612 91487.4367975 9028.00882962\n"
     ]
    },
    {
     "name": "stderr",
     "output_type": "stream",
     "text": [
      " 99%|█████████▉| 1252/1261 [02:31<00:00,  9.25it/s]"
     ]
    },
    {
     "name": "stdout",
     "output_type": "stream",
     "text": [
      "13593.5256247 16065.8363242 13663.08839\n",
      "7989.4878526 33871.3241683 8026.80194808\n"
     ]
    },
    {
     "name": "stderr",
     "output_type": "stream",
     "text": [
      " 99%|█████████▉| 1254/1261 [02:31<00:00,  8.94it/s]"
     ]
    },
    {
     "name": "stdout",
     "output_type": "stream",
     "text": [
      "7477.86491977 5366.37288237 7564.16615964\n",
      "15735.6167841 2680.38469484 16074.3426885\n"
     ]
    },
    {
     "name": "stderr",
     "output_type": "stream",
     "text": [
      "100%|█████████▉| 1256/1261 [02:31<00:00,  9.10it/s]"
     ]
    },
    {
     "name": "stdout",
     "output_type": "stream",
     "text": [
      "5954.3824581 3360.1255351 6009.66215545\n",
      "6103.88025453 4873.89450929 6129.83727924\n"
     ]
    },
    {
     "name": "stderr",
     "output_type": "stream",
     "text": [
      "\r",
      "100%|█████████▉| 1257/1261 [02:31<00:00,  9.35it/s]"
     ]
    },
    {
     "name": "stdout",
     "output_type": "stream",
     "text": [
      "7226.2427502 10570.7957347 7224.75360714\n",
      "14494.2882171 1675.23278078 14660.6769097\n",
      "24788.4792012 2197.42263246 24907.7556739\n"
     ]
    },
    {
     "name": "stderr",
     "output_type": "stream",
     "text": [
      "100%|█████████▉| 1260/1261 [02:31<00:00,  9.40it/s]\n"
     ]
    },
    {
     "name": "stdout",
     "output_type": "stream",
     "text": [
      "58119.8514073 2077.02288072 58438.2454408\n",
      "[MoviePy] Done.\n",
      "[MoviePy] >>>> Video ready: ../white.mp4 \n",
      "\n",
      "CPU times: user 3min 36s, sys: 3min 18s, total: 6min 54s\n",
      "Wall time: 2min 32s\n"
     ]
    }
   ],
   "source": [
    "white_output = '../white.mp4'\n",
    "clip1 = VideoFileClip(\"../project_video.mp4\")\n",
    "white_clip = clip1.fl_image(process_image) #NOTE: this function expects color images!!\n",
    "%time white_clip.write_videofile(white_output, audio=False)\n"
   ]
  },
  {
   "cell_type": "code",
   "execution_count": 7,
   "metadata": {
    "collapsed": false
   },
   "outputs": [
    {
     "data": {
      "text/html": [
       "\n",
       "<video width=\"960\" height=\"540\" controls>\n",
       "  <source src=\"../white.mp4\">\n",
       "</video>\n"
      ],
      "text/plain": [
       "<IPython.core.display.HTML object>"
      ]
     },
     "execution_count": 7,
     "metadata": {},
     "output_type": "execute_result"
    }
   ],
   "source": [
    "HTML(\"\"\"\n",
    "<video width=\"960\" height=\"540\" controls>\n",
    "  <source src=\"{0}\">\n",
    "</video>\n",
    "\"\"\".format(white_output))"
   ]
  },
  {
   "cell_type": "code",
   "execution_count": null,
   "metadata": {
    "collapsed": true
   },
   "outputs": [],
   "source": []
  }
 ],
 "metadata": {
  "anaconda-cloud": {},
  "kernelspec": {
   "display_name": "Python 3",
   "language": "python",
   "name": "python3"
  },
  "language_info": {
   "codemirror_mode": {
    "name": "ipython",
    "version": 3
   },
   "file_extension": ".py",
   "mimetype": "text/x-python",
   "name": "python",
   "nbconvert_exporter": "python",
   "pygments_lexer": "ipython3",
   "version": "3.5.2"
  },
  "widgets": {
   "state": {},
   "version": "1.1.2"
  }
 },
 "nbformat": 4,
 "nbformat_minor": 1
}
